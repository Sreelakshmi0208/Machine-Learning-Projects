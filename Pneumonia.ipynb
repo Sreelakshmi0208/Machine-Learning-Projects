{
  "nbformat": 4,
  "nbformat_minor": 0,
  "metadata": {
    "colab": {
      "provenance": [],
      "include_colab_link": true
    },
    "kernelspec": {
      "name": "python3",
      "display_name": "Python 3"
    },
    "language_info": {
      "name": "python"
    },
    "accelerator": "GPU",
    "gpuClass": "standard"
  },
  "cells": [
    {
      "cell_type": "markdown",
      "metadata": {
        "id": "view-in-github",
        "colab_type": "text"
      },
      "source": [
        "<a href=\"https://colab.research.google.com/github/Sreelakshmi0208/Machine-Learning-Projects/blob/main/Pneumonia.ipynb\" target=\"_parent\"><img src=\"https://colab.research.google.com/assets/colab-badge.svg\" alt=\"Open In Colab\"/></a>"
      ]
    },
    {
      "cell_type": "markdown",
      "source": [
        "1.\n"
      ],
      "metadata": {
        "id": "RyPwPN8Evz09"
      }
    },
    {
      "cell_type": "code",
      "source": [
        "from google.colab import drive\n",
        "drive.mount('/content/gdrive')"
      ],
      "metadata": {
        "id": "UcaXN9qFvzJ1",
        "colab": {
          "base_uri": "https://localhost:8080/"
        },
        "outputId": "c266145a-f60f-465d-8ca6-335bac3a4e2a"
      },
      "execution_count": null,
      "outputs": [
        {
          "output_type": "stream",
          "name": "stdout",
          "text": [
            "Mounted at /content/gdrive\n"
          ]
        }
      ]
    },
    {
      "cell_type": "code",
      "source": [
        "from keras.preprocessing.image import ImageDataGenerator\n",
        "train=ImageDataGenerator(rescale=1./255,validation_split=0.2)\n",
        "test=ImageDataGenerator(rescale=1./255)"
      ],
      "metadata": {
        "id": "F5L-5hYnvynV"
      },
      "execution_count": null,
      "outputs": []
    },
    {
      "cell_type": "code",
      "source": [
        "train_dataset=train.flow_from_directory(\"/content/gdrive/MyDrive/Pneumonia Dataset/train\",target_size=(224,224),batch_size=32,class_mode='binary',subset=\"training\")\n",
        "valid_dataset=train.flow_from_directory(\"/content/gdrive/MyDrive/Pneumonia Dataset/train\",target_size=(224,224),batch_size=32,class_mode='binary',subset=\"validation\")\n",
        "test_dataset=test.flow_from_directory(\"/content/gdrive/MyDrive/Pneumonia Dataset/test\",target_size=(224,224),batch_size=32,class_mode='binary')"
      ],
      "metadata": {
        "colab": {
          "base_uri": "https://localhost:8080/"
        },
        "id": "zvhxZzL1xCDy",
        "outputId": "3a9303da-bc40-478c-9f07-123828dc04a8"
      },
      "execution_count": null,
      "outputs": [
        {
          "output_type": "stream",
          "name": "stdout",
          "text": [
            "Found 120 images belonging to 2 classes.\n",
            "Found 28 images belonging to 2 classes.\n",
            "Found 40 images belonging to 2 classes.\n"
          ]
        }
      ]
    },
    {
      "cell_type": "code",
      "source": [
        "from keras.applications.vgg19 import VGG19\n",
        "vgg_model=VGG19(include_top=False,weights='imagenet',input_shape=(224,224,3),classes=1,classifier_activation='sigmoid')"
      ],
      "metadata": {
        "id": "Cd0ryMTyxCGE",
        "colab": {
          "base_uri": "https://localhost:8080/"
        },
        "outputId": "64db1c2e-77db-4dc6-a5a6-fe7103f7ab0b"
      },
      "execution_count": null,
      "outputs": [
        {
          "output_type": "stream",
          "name": "stdout",
          "text": [
            "Downloading data from https://storage.googleapis.com/tensorflow/keras-applications/vgg19/vgg19_weights_tf_dim_ordering_tf_kernels_notop.h5\n",
            "80142336/80134624 [==============================] - 0s 0us/step\n",
            "80150528/80134624 [==============================] - 0s 0us/step\n"
          ]
        }
      ]
    },
    {
      "cell_type": "code",
      "source": [
        "vgg_model.summary()"
      ],
      "metadata": {
        "id": "UHOCrRLixCIZ",
        "colab": {
          "base_uri": "https://localhost:8080/"
        },
        "outputId": "bcef21d0-c97c-4ee1-a9e1-a91864ba65a2"
      },
      "execution_count": null,
      "outputs": [
        {
          "output_type": "stream",
          "name": "stdout",
          "text": [
            "Model: \"vgg19\"\n",
            "_________________________________________________________________\n",
            " Layer (type)                Output Shape              Param #   \n",
            "=================================================================\n",
            " input_1 (InputLayer)        [(None, 224, 224, 3)]     0         \n",
            "                                                                 \n",
            " block1_conv1 (Conv2D)       (None, 224, 224, 64)      1792      \n",
            "                                                                 \n",
            " block1_conv2 (Conv2D)       (None, 224, 224, 64)      36928     \n",
            "                                                                 \n",
            " block1_pool (MaxPooling2D)  (None, 112, 112, 64)      0         \n",
            "                                                                 \n",
            " block2_conv1 (Conv2D)       (None, 112, 112, 128)     73856     \n",
            "                                                                 \n",
            " block2_conv2 (Conv2D)       (None, 112, 112, 128)     147584    \n",
            "                                                                 \n",
            " block2_pool (MaxPooling2D)  (None, 56, 56, 128)       0         \n",
            "                                                                 \n",
            " block3_conv1 (Conv2D)       (None, 56, 56, 256)       295168    \n",
            "                                                                 \n",
            " block3_conv2 (Conv2D)       (None, 56, 56, 256)       590080    \n",
            "                                                                 \n",
            " block3_conv3 (Conv2D)       (None, 56, 56, 256)       590080    \n",
            "                                                                 \n",
            " block3_conv4 (Conv2D)       (None, 56, 56, 256)       590080    \n",
            "                                                                 \n",
            " block3_pool (MaxPooling2D)  (None, 28, 28, 256)       0         \n",
            "                                                                 \n",
            " block4_conv1 (Conv2D)       (None, 28, 28, 512)       1180160   \n",
            "                                                                 \n",
            " block4_conv2 (Conv2D)       (None, 28, 28, 512)       2359808   \n",
            "                                                                 \n",
            " block4_conv3 (Conv2D)       (None, 28, 28, 512)       2359808   \n",
            "                                                                 \n",
            " block4_conv4 (Conv2D)       (None, 28, 28, 512)       2359808   \n",
            "                                                                 \n",
            " block4_pool (MaxPooling2D)  (None, 14, 14, 512)       0         \n",
            "                                                                 \n",
            " block5_conv1 (Conv2D)       (None, 14, 14, 512)       2359808   \n",
            "                                                                 \n",
            " block5_conv2 (Conv2D)       (None, 14, 14, 512)       2359808   \n",
            "                                                                 \n",
            " block5_conv3 (Conv2D)       (None, 14, 14, 512)       2359808   \n",
            "                                                                 \n",
            " block5_conv4 (Conv2D)       (None, 14, 14, 512)       2359808   \n",
            "                                                                 \n",
            " block5_pool (MaxPooling2D)  (None, 7, 7, 512)         0         \n",
            "                                                                 \n",
            "=================================================================\n",
            "Total params: 20,024,384\n",
            "Trainable params: 20,024,384\n",
            "Non-trainable params: 0\n",
            "_________________________________________________________________\n"
          ]
        }
      ]
    },
    {
      "cell_type": "code",
      "source": [
        "for layer in vgg_model.layers:\n",
        "    layer.trainable = False"
      ],
      "metadata": {
        "id": "NQQoDggbxCLQ"
      },
      "execution_count": null,
      "outputs": []
    },
    {
      "cell_type": "code",
      "source": [
        "import matplotlib.pyplot as plt\n",
        "from keras.models import Model\n",
        "#import tensorflow\n",
        "from tensorflow.keras.optimizers import Adam\n",
        "from keras.applications.vgg16 import VGG16, preprocess_input\n",
        "from keras.preprocessing.image import ImageDataGenerator\n",
        "from keras.callbacks import ModelCheckpoint, EarlyStopping\n",
        "from keras.layers import Dense, Dropout, Flatten\n",
        "x = Flatten()(vgg_model.output)\n",
        "x=Dense(4096,activation='relu')(x)"
      ],
      "metadata": {
        "id": "jUHFSb3UxCNJ"
      },
      "execution_count": null,
      "outputs": []
    },
    {
      "cell_type": "code",
      "source": [
        "prediction=Dense(1, activation='sigmoid')(x)"
      ],
      "metadata": {
        "id": "c-JsT5mPxCPe"
      },
      "execution_count": null,
      "outputs": []
    },
    {
      "cell_type": "code",
      "source": [
        "model = Model(inputs=vgg_model.input, outputs=prediction)\n",
        "model.summary()"
      ],
      "metadata": {
        "colab": {
          "base_uri": "https://localhost:8080/"
        },
        "id": "w7Obvr9jl5Ii",
        "outputId": "97ea549a-f6c5-4519-a060-ad1c76ab6d74"
      },
      "execution_count": null,
      "outputs": [
        {
          "output_type": "stream",
          "name": "stdout",
          "text": [
            "Model: \"model\"\n",
            "_________________________________________________________________\n",
            " Layer (type)                Output Shape              Param #   \n",
            "=================================================================\n",
            " input_1 (InputLayer)        [(None, 224, 224, 3)]     0         \n",
            "                                                                 \n",
            " block1_conv1 (Conv2D)       (None, 224, 224, 64)      1792      \n",
            "                                                                 \n",
            " block1_conv2 (Conv2D)       (None, 224, 224, 64)      36928     \n",
            "                                                                 \n",
            " block1_pool (MaxPooling2D)  (None, 112, 112, 64)      0         \n",
            "                                                                 \n",
            " block2_conv1 (Conv2D)       (None, 112, 112, 128)     73856     \n",
            "                                                                 \n",
            " block2_conv2 (Conv2D)       (None, 112, 112, 128)     147584    \n",
            "                                                                 \n",
            " block2_pool (MaxPooling2D)  (None, 56, 56, 128)       0         \n",
            "                                                                 \n",
            " block3_conv1 (Conv2D)       (None, 56, 56, 256)       295168    \n",
            "                                                                 \n",
            " block3_conv2 (Conv2D)       (None, 56, 56, 256)       590080    \n",
            "                                                                 \n",
            " block3_conv3 (Conv2D)       (None, 56, 56, 256)       590080    \n",
            "                                                                 \n",
            " block3_conv4 (Conv2D)       (None, 56, 56, 256)       590080    \n",
            "                                                                 \n",
            " block3_pool (MaxPooling2D)  (None, 28, 28, 256)       0         \n",
            "                                                                 \n",
            " block4_conv1 (Conv2D)       (None, 28, 28, 512)       1180160   \n",
            "                                                                 \n",
            " block4_conv2 (Conv2D)       (None, 28, 28, 512)       2359808   \n",
            "                                                                 \n",
            " block4_conv3 (Conv2D)       (None, 28, 28, 512)       2359808   \n",
            "                                                                 \n",
            " block4_conv4 (Conv2D)       (None, 28, 28, 512)       2359808   \n",
            "                                                                 \n",
            " block4_pool (MaxPooling2D)  (None, 14, 14, 512)       0         \n",
            "                                                                 \n",
            " block5_conv1 (Conv2D)       (None, 14, 14, 512)       2359808   \n",
            "                                                                 \n",
            " block5_conv2 (Conv2D)       (None, 14, 14, 512)       2359808   \n",
            "                                                                 \n",
            " block5_conv3 (Conv2D)       (None, 14, 14, 512)       2359808   \n",
            "                                                                 \n",
            " block5_conv4 (Conv2D)       (None, 14, 14, 512)       2359808   \n",
            "                                                                 \n",
            " block5_pool (MaxPooling2D)  (None, 7, 7, 512)         0         \n",
            "                                                                 \n",
            " flatten (Flatten)           (None, 25088)             0         \n",
            "                                                                 \n",
            " dense (Dense)               (None, 4096)              102764544 \n",
            "                                                                 \n",
            " dense_2 (Dense)             (None, 1)                 4097      \n",
            "                                                                 \n",
            "=================================================================\n",
            "Total params: 122,793,025\n",
            "Trainable params: 102,768,641\n",
            "Non-trainable params: 20,024,384\n",
            "_________________________________________________________________\n"
          ]
        }
      ]
    },
    {
      "cell_type": "code",
      "source": [
        "model.compile(loss='binary_crossentropy',optimizer=\"adam\",metrics=['accuracy'])"
      ],
      "metadata": {
        "id": "oMMDkjgil5Kr"
      },
      "execution_count": null,
      "outputs": []
    },
    {
      "cell_type": "code",
      "source": [
        "from tensorflow.keras.callbacks import EarlyStopping \n",
        "early_stop=EarlyStopping(monitor='val_loss',mode='min',verbose=1,patience=3)"
      ],
      "metadata": {
        "id": "4OrA4fekl5M5"
      },
      "execution_count": null,
      "outputs": []
    },
    {
      "cell_type": "code",
      "source": [
        "from keras.callbacks import ModelCheckpoint, EarlyStopping\n",
        "checkpoint = ModelCheckpoint(\"vgg16_1.h5\", monitor='val_acc', verbose=1, save_best_only=True, save_weights_only=False, mode='auto', period=1)"
      ],
      "metadata": {
        "colab": {
          "base_uri": "https://localhost:8080/"
        },
        "id": "m5nGR14Dl5O7",
        "outputId": "902ae76f-ed89-4c0b-b6a8-3e51b57eb198"
      },
      "execution_count": null,
      "outputs": [
        {
          "output_type": "stream",
          "name": "stderr",
          "text": [
            "WARNING:tensorflow:`period` argument is deprecated. Please use `save_freq` to specify the frequency in number of batches seen.\n"
          ]
        }
      ]
    },
    {
      "cell_type": "code",
      "source": [
        "# fit the model\n",
        "history = model.fit(train_dataset,validation_data=valid_dataset,epochs=20,callbacks=[early_stop,checkpoint],batch_size=32,shuffle=True)"
      ],
      "metadata": {
        "colab": {
          "base_uri": "https://localhost:8080/"
        },
        "id": "H9-WQxp8l5SL",
        "outputId": "3bf1b94b-543c-43cc-86a3-5c896248d46d"
      },
      "execution_count": null,
      "outputs": [
        {
          "output_type": "stream",
          "name": "stdout",
          "text": [
            "Epoch 1/20\n",
            "4/4 [==============================] - ETA: 0s - loss: 19.2695 - accuracy: 0.5833"
          ]
        },
        {
          "output_type": "stream",
          "name": "stderr",
          "text": [
            "WARNING:tensorflow:Can save best model only with val_acc available, skipping.\n"
          ]
        },
        {
          "output_type": "stream",
          "name": "stdout",
          "text": [
            "\b\b\b\b\b\b\b\b\b\b\b\b\b\b\b\b\b\b\b\b\b\b\b\b\b\b\b\b\b\b\b\b\b\b\b\b\b\b\b\b\b\b\b\b\b\b\b\b\b\b\b\b\b\b\b\b\b\b\b\b\b\b\b\b\b\b\b\b\b\b\b\b\b\b\b\b\b\b\b\b\b\r4/4 [==============================] - 50s 12s/step - loss: 19.2695 - accuracy: 0.5833 - val_loss: 18.6313 - val_accuracy: 0.5000\n",
            "Epoch 2/20\n",
            "4/4 [==============================] - ETA: 0s - loss: 14.8942 - accuracy: 0.5000"
          ]
        },
        {
          "output_type": "stream",
          "name": "stderr",
          "text": [
            "WARNING:tensorflow:Can save best model only with val_acc available, skipping.\n"
          ]
        },
        {
          "output_type": "stream",
          "name": "stdout",
          "text": [
            "\b\b\b\b\b\b\b\b\b\b\b\b\b\b\b\b\b\b\b\b\b\b\b\b\b\b\b\b\b\b\b\b\b\b\b\b\b\b\b\b\b\b\b\b\b\b\b\b\b\b\b\b\b\b\b\b\b\b\b\b\b\b\b\b\b\b\b\b\b\b\b\b\b\b\b\b\b\b\b\b\b\r4/4 [==============================] - 5s 1s/step - loss: 14.8942 - accuracy: 0.5000 - val_loss: 0.0916 - val_accuracy: 0.9643\n",
            "Epoch 3/20\n",
            "4/4 [==============================] - ETA: 0s - loss: 3.5632 - accuracy: 0.6833"
          ]
        },
        {
          "output_type": "stream",
          "name": "stderr",
          "text": [
            "WARNING:tensorflow:Can save best model only with val_acc available, skipping.\n"
          ]
        },
        {
          "output_type": "stream",
          "name": "stdout",
          "text": [
            "\b\b\b\b\b\b\b\b\b\b\b\b\b\b\b\b\b\b\b\b\b\b\b\b\b\b\b\b\b\b\b\b\b\b\b\b\b\b\b\b\b\b\b\b\b\b\b\b\b\b\b\b\b\b\b\b\b\b\b\b\b\b\b\b\b\b\b\b\b\b\b\b\b\b\b\b\b\b\b\b\r4/4 [==============================] - 5s 1s/step - loss: 3.5632 - accuracy: 0.6833 - val_loss: 4.1791 - val_accuracy: 0.6786\n",
            "Epoch 4/20\n",
            "4/4 [==============================] - ETA: 0s - loss: 1.7253 - accuracy: 0.8500"
          ]
        },
        {
          "output_type": "stream",
          "name": "stderr",
          "text": [
            "WARNING:tensorflow:Can save best model only with val_acc available, skipping.\n"
          ]
        },
        {
          "output_type": "stream",
          "name": "stdout",
          "text": [
            "\b\b\b\b\b\b\b\b\b\b\b\b\b\b\b\b\b\b\b\b\b\b\b\b\b\b\b\b\b\b\b\b\b\b\b\b\b\b\b\b\b\b\b\b\b\b\b\b\b\b\b\b\b\b\b\b\b\b\b\b\b\b\b\b\b\b\b\b\b\b\b\b\b\b\b\b\b\b\b\b\r4/4 [==============================] - 5s 1s/step - loss: 1.7253 - accuracy: 0.8500 - val_loss: 0.9668 - val_accuracy: 0.8214\n",
            "Epoch 5/20\n",
            "4/4 [==============================] - ETA: 0s - loss: 1.3393 - accuracy: 0.8083"
          ]
        },
        {
          "output_type": "stream",
          "name": "stderr",
          "text": [
            "WARNING:tensorflow:Can save best model only with val_acc available, skipping.\n"
          ]
        },
        {
          "output_type": "stream",
          "name": "stdout",
          "text": [
            "\b\b\b\b\b\b\b\b\b\b\b\b\b\b\b\b\b\b\b\b\b\b\b\b\b\b\b\b\b\b\b\b\b\b\b\b\b\b\b\b\b\b\b\b\b\b\b\b\b\b\b\b\b\b\b\b\b\b\b\b\b\b\b\b\b\b\b\b\b\b\b\b\b\b\b\b\b\b\b\b\r4/4 [==============================] - 5s 1s/step - loss: 1.3393 - accuracy: 0.8083 - val_loss: 2.7216 - val_accuracy: 0.7143\n",
            "Epoch 5: early stopping\n"
          ]
        }
      ]
    },
    {
      "cell_type": "code",
      "source": [
        "model.evaluate(test_dataset)"
      ],
      "metadata": {
        "colab": {
          "base_uri": "https://localhost:8080/"
        },
        "id": "VikOxFE2pDNo",
        "outputId": "74171886-ad60-4bfc-ad30-f72adc56d567"
      },
      "execution_count": null,
      "outputs": [
        {
          "output_type": "stream",
          "name": "stdout",
          "text": [
            "2/2 [==============================] - 4s 3s/step - loss: 2.9933 - accuracy: 0.6750\n"
          ]
        },
        {
          "output_type": "execute_result",
          "data": {
            "text/plain": [
              "[2.9933061599731445, 0.675000011920929]"
            ]
          },
          "metadata": {},
          "execution_count": 17
        }
      ]
    },
    {
      "cell_type": "code",
      "source": [
        "from sklearn.metrics import accuracy_score,classification_report,confusion_matrix\n",
        "import numpy as np\n",
        "#predict\n",
        "y_pred=model.predict(test_dataset)\n",
        "y_pred=(y_pred>0.5)"
      ],
      "metadata": {
        "id": "QeLlHH8Al5Ue"
      },
      "execution_count": null,
      "outputs": []
    },
    {
      "cell_type": "code",
      "source": [
        "from sklearn.metrics import confusion_matrix\n",
        "confusion_matrix(test_dataset.classes,y_pred)"
      ],
      "metadata": {
        "colab": {
          "base_uri": "https://localhost:8080/"
        },
        "id": "XYeT93G1l5X3",
        "outputId": "e5a436b7-a659-4a7e-db08-7bf91385ce31"
      },
      "execution_count": null,
      "outputs": [
        {
          "output_type": "execute_result",
          "data": {
            "text/plain": [
              "array([[ 3, 17],\n",
              "       [ 4, 16]])"
            ]
          },
          "metadata": {},
          "execution_count": 19
        }
      ]
    },
    {
      "cell_type": "code",
      "source": [
        "accuracy_score(test_dataset.classes,y_pred)"
      ],
      "metadata": {
        "colab": {
          "base_uri": "https://localhost:8080/"
        },
        "id": "qvgH67fTl5bA",
        "outputId": "5af58250-ad18-4873-cecb-8bb12bf3c96c"
      },
      "execution_count": null,
      "outputs": [
        {
          "output_type": "execute_result",
          "data": {
            "text/plain": [
              "0.475"
            ]
          },
          "metadata": {},
          "execution_count": 20
        }
      ]
    },
    {
      "cell_type": "code",
      "source": [
        "import numpy as np\n",
        "from tensorflow.keras.applications.inception_v3 import InceptionV3\n",
        "from keras.layers import GlobalAveragePooling2D\n",
        "base_model=InceptionV3(input_shape=(224,224,3),include_top=False,weights='imagenet')"
      ],
      "metadata": {
        "colab": {
          "base_uri": "https://localhost:8080/"
        },
        "id": "oKw3sI5wl5dC",
        "outputId": "a659be0e-b731-4dfa-8faa-bef569e823b9"
      },
      "execution_count": null,
      "outputs": [
        {
          "output_type": "stream",
          "name": "stdout",
          "text": [
            "Downloading data from https://storage.googleapis.com/tensorflow/keras-applications/inception_v3/inception_v3_weights_tf_dim_ordering_tf_kernels_notop.h5\n",
            "87916544/87910968 [==============================] - 1s 0us/step\n",
            "87924736/87910968 [==============================] - 1s 0us/step\n"
          ]
        }
      ]
    },
    {
      "cell_type": "code",
      "source": [
        "base_model.summary()"
      ],
      "metadata": {
        "id": "5V0pFo4dpVFG"
      },
      "execution_count": null,
      "outputs": []
    },
    {
      "cell_type": "code",
      "source": [
        "x=base_model.output\n",
        "x=GlobalAveragePooling2D()(x)\n",
        "\n",
        "for layer in base_model.layers:\n",
        "  layer.trainable=False"
      ],
      "metadata": {
        "id": "U2wT4uWLpVHL"
      },
      "execution_count": null,
      "outputs": []
    },
    {
      "cell_type": "code",
      "source": [
        "from keras.models import Model\n",
        "from keras.layers import Flatten, Dense\n",
        "x=Flatten()(x)\n",
        "x=Dense(512,activation='relu')(x)\n",
        "predictions=Dense(1,activation='sigmoid')(x)\n",
        "model_final=Model(base_model.input,predictions)"
      ],
      "metadata": {
        "id": "z0yuaRHupVJc"
      },
      "execution_count": null,
      "outputs": []
    },
    {
      "cell_type": "code",
      "source": [
        "model_final.compile(optimizer='adam',loss='binary_crossentropy',metrics=['accuracy'])"
      ],
      "metadata": {
        "id": "uqIpHGBbpVL8"
      },
      "execution_count": null,
      "outputs": []
    },
    {
      "cell_type": "code",
      "source": [
        "history = model_final.fit(train_dataset,validation_data=valid_dataset,epochs=20,callbacks=[early_stop,checkpoint],batch_size=32,shuffle=True)"
      ],
      "metadata": {
        "colab": {
          "base_uri": "https://localhost:8080/"
        },
        "id": "KSTk423VpVOU",
        "outputId": "4fbdaa1d-644c-45d9-ffe9-853fbbeed648"
      },
      "execution_count": null,
      "outputs": [
        {
          "output_type": "stream",
          "name": "stdout",
          "text": [
            "Epoch 1/20\n",
            "4/4 [==============================] - ETA: 0s - loss: 1.6772 - accuracy: 0.5250"
          ]
        },
        {
          "output_type": "stream",
          "name": "stderr",
          "text": [
            "WARNING:tensorflow:Can save best model only with val_acc available, skipping.\n"
          ]
        },
        {
          "output_type": "stream",
          "name": "stdout",
          "text": [
            "\b\b\b\b\b\b\b\b\b\b\b\b\b\b\b\b\b\b\b\b\b\b\b\b\b\b\b\b\b\b\b\b\b\b\b\b\b\b\b\b\b\b\b\b\b\b\b\b\b\b\b\b\b\b\b\b\b\b\b\b\b\b\b\b\b\b\b\b\b\b\b\b\b\b\b\b\b\b\b\b\r4/4 [==============================] - 13s 2s/step - loss: 1.6772 - accuracy: 0.5250 - val_loss: 2.2943 - val_accuracy: 0.5000\n",
            "Epoch 2/20\n",
            "4/4 [==============================] - ETA: 0s - loss: 0.6270 - accuracy: 0.7833"
          ]
        },
        {
          "output_type": "stream",
          "name": "stderr",
          "text": [
            "WARNING:tensorflow:Can save best model only with val_acc available, skipping.\n"
          ]
        },
        {
          "output_type": "stream",
          "name": "stdout",
          "text": [
            "\b\b\b\b\b\b\b\b\b\b\b\b\b\b\b\b\b\b\b\b\b\b\b\b\b\b\b\b\b\b\b\b\b\b\b\b\b\b\b\b\b\b\b\b\b\b\b\b\b\b\b\b\b\b\b\b\b\b\b\b\b\b\b\b\b\b\b\b\b\b\b\b\b\b\b\b\b\b\b\b\r4/4 [==============================] - 5s 1s/step - loss: 0.6270 - accuracy: 0.7833 - val_loss: 0.8981 - val_accuracy: 0.7500\n",
            "Epoch 3/20\n",
            "4/4 [==============================] - ETA: 0s - loss: 0.3604 - accuracy: 0.8333"
          ]
        },
        {
          "output_type": "stream",
          "name": "stderr",
          "text": [
            "WARNING:tensorflow:Can save best model only with val_acc available, skipping.\n"
          ]
        },
        {
          "output_type": "stream",
          "name": "stdout",
          "text": [
            "\b\b\b\b\b\b\b\b\b\b\b\b\b\b\b\b\b\b\b\b\b\b\b\b\b\b\b\b\b\b\b\b\b\b\b\b\b\b\b\b\b\b\b\b\b\b\b\b\b\b\b\b\b\b\b\b\b\b\b\b\b\b\b\b\b\b\b\b\b\b\b\b\b\b\b\b\b\b\b\b\r4/4 [==============================] - 5s 1s/step - loss: 0.3604 - accuracy: 0.8333 - val_loss: 0.7536 - val_accuracy: 0.6786\n",
            "Epoch 4/20\n",
            "4/4 [==============================] - ETA: 0s - loss: 0.3571 - accuracy: 0.8583"
          ]
        },
        {
          "output_type": "stream",
          "name": "stderr",
          "text": [
            "WARNING:tensorflow:Can save best model only with val_acc available, skipping.\n"
          ]
        },
        {
          "output_type": "stream",
          "name": "stdout",
          "text": [
            "\b\b\b\b\b\b\b\b\b\b\b\b\b\b\b\b\b\b\b\b\b\b\b\b\b\b\b\b\b\b\b\b\b\b\b\b\b\b\b\b\b\b\b\b\b\b\b\b\b\b\b\b\b\b\b\b\b\b\b\b\b\b\b\b\b\b\b\b\b\b\b\b\b\b\b\b\b\b\b\b\r4/4 [==============================] - 5s 1s/step - loss: 0.3571 - accuracy: 0.8583 - val_loss: 0.6122 - val_accuracy: 0.6786\n",
            "Epoch 5/20\n",
            "4/4 [==============================] - ETA: 0s - loss: 0.1759 - accuracy: 0.9250"
          ]
        },
        {
          "output_type": "stream",
          "name": "stderr",
          "text": [
            "WARNING:tensorflow:Can save best model only with val_acc available, skipping.\n"
          ]
        },
        {
          "output_type": "stream",
          "name": "stdout",
          "text": [
            "\b\b\b\b\b\b\b\b\b\b\b\b\b\b\b\b\b\b\b\b\b\b\b\b\b\b\b\b\b\b\b\b\b\b\b\b\b\b\b\b\b\b\b\b\b\b\b\b\b\b\b\b\b\b\b\b\b\b\b\b\b\b\b\b\b\b\b\b\b\b\b\b\b\b\b\b\b\b\b\b\r4/4 [==============================] - 5s 1s/step - loss: 0.1759 - accuracy: 0.9250 - val_loss: 0.3556 - val_accuracy: 0.8571\n",
            "Epoch 6/20\n",
            "4/4 [==============================] - ETA: 0s - loss: 0.1706 - accuracy: 0.9333"
          ]
        },
        {
          "output_type": "stream",
          "name": "stderr",
          "text": [
            "WARNING:tensorflow:Can save best model only with val_acc available, skipping.\n"
          ]
        },
        {
          "output_type": "stream",
          "name": "stdout",
          "text": [
            "\b\b\b\b\b\b\b\b\b\b\b\b\b\b\b\b\b\b\b\b\b\b\b\b\b\b\b\b\b\b\b\b\b\b\b\b\b\b\b\b\b\b\b\b\b\b\b\b\b\b\b\b\b\b\b\b\b\b\b\b\b\b\b\b\b\b\b\b\b\b\b\b\b\b\b\b\b\b\b\b\r4/4 [==============================] - 5s 1s/step - loss: 0.1706 - accuracy: 0.9333 - val_loss: 0.3428 - val_accuracy: 0.8214\n",
            "Epoch 7/20\n",
            "4/4 [==============================] - ETA: 0s - loss: 0.1175 - accuracy: 0.9583"
          ]
        },
        {
          "output_type": "stream",
          "name": "stderr",
          "text": [
            "WARNING:tensorflow:Can save best model only with val_acc available, skipping.\n"
          ]
        },
        {
          "output_type": "stream",
          "name": "stdout",
          "text": [
            "\b\b\b\b\b\b\b\b\b\b\b\b\b\b\b\b\b\b\b\b\b\b\b\b\b\b\b\b\b\b\b\b\b\b\b\b\b\b\b\b\b\b\b\b\b\b\b\b\b\b\b\b\b\b\b\b\b\b\b\b\b\b\b\b\b\b\b\b\b\b\b\b\b\b\b\b\b\b\b\b\r4/4 [==============================] - 5s 1s/step - loss: 0.1175 - accuracy: 0.9583 - val_loss: 0.3656 - val_accuracy: 0.8214\n",
            "Epoch 8/20\n",
            "4/4 [==============================] - ETA: 0s - loss: 0.0934 - accuracy: 0.9667"
          ]
        },
        {
          "output_type": "stream",
          "name": "stderr",
          "text": [
            "WARNING:tensorflow:Can save best model only with val_acc available, skipping.\n"
          ]
        },
        {
          "output_type": "stream",
          "name": "stdout",
          "text": [
            "\b\b\b\b\b\b\b\b\b\b\b\b\b\b\b\b\b\b\b\b\b\b\b\b\b\b\b\b\b\b\b\b\b\b\b\b\b\b\b\b\b\b\b\b\b\b\b\b\b\b\b\b\b\b\b\b\b\b\b\b\b\b\b\b\b\b\b\b\b\b\b\b\b\b\b\b\b\b\b\b\r4/4 [==============================] - 5s 1s/step - loss: 0.0934 - accuracy: 0.9667 - val_loss: 0.2036 - val_accuracy: 0.9286\n",
            "Epoch 9/20\n",
            "4/4 [==============================] - ETA: 0s - loss: 0.0719 - accuracy: 0.9667"
          ]
        },
        {
          "output_type": "stream",
          "name": "stderr",
          "text": [
            "WARNING:tensorflow:Can save best model only with val_acc available, skipping.\n"
          ]
        },
        {
          "output_type": "stream",
          "name": "stdout",
          "text": [
            "\b\b\b\b\b\b\b\b\b\b\b\b\b\b\b\b\b\b\b\b\b\b\b\b\b\b\b\b\b\b\b\b\b\b\b\b\b\b\b\b\b\b\b\b\b\b\b\b\b\b\b\b\b\b\b\b\b\b\b\b\b\b\b\b\b\b\b\b\b\b\b\b\b\b\b\b\b\b\b\b\r4/4 [==============================] - 5s 1s/step - loss: 0.0719 - accuracy: 0.9667 - val_loss: 0.2412 - val_accuracy: 0.8571\n",
            "Epoch 10/20\n",
            "4/4 [==============================] - ETA: 0s - loss: 0.0644 - accuracy: 0.9833"
          ]
        },
        {
          "output_type": "stream",
          "name": "stderr",
          "text": [
            "WARNING:tensorflow:Can save best model only with val_acc available, skipping.\n"
          ]
        },
        {
          "output_type": "stream",
          "name": "stdout",
          "text": [
            "\b\b\b\b\b\b\b\b\b\b\b\b\b\b\b\b\b\b\b\b\b\b\b\b\b\b\b\b\b\b\b\b\b\b\b\b\b\b\b\b\b\b\b\b\b\b\b\b\b\b\b\b\b\b\b\b\b\b\b\b\b\b\b\b\b\b\b\b\b\b\b\b\b\b\b\b\b\b\b\b\r4/4 [==============================] - 5s 1s/step - loss: 0.0644 - accuracy: 0.9833 - val_loss: 0.3403 - val_accuracy: 0.8214\n",
            "Epoch 11/20\n",
            "4/4 [==============================] - ETA: 0s - loss: 0.0343 - accuracy: 0.9917"
          ]
        },
        {
          "output_type": "stream",
          "name": "stderr",
          "text": [
            "WARNING:tensorflow:Can save best model only with val_acc available, skipping.\n"
          ]
        },
        {
          "output_type": "stream",
          "name": "stdout",
          "text": [
            "\b\b\b\b\b\b\b\b\b\b\b\b\b\b\b\b\b\b\b\b\b\b\b\b\b\b\b\b\b\b\b\b\b\b\b\b\b\b\b\b\b\b\b\b\b\b\b\b\b\b\b\b\b\b\b\b\b\b\b\b\b\b\b\b\b\b\b\b\b\b\b\b\b\b\b\b\b\b\b\b\r4/4 [==============================] - 5s 1s/step - loss: 0.0343 - accuracy: 0.9917 - val_loss: 0.2205 - val_accuracy: 0.8929\n",
            "Epoch 11: early stopping\n"
          ]
        }
      ]
    },
    {
      "cell_type": "code",
      "source": [
        "model_final.evaluate(test_dataset)"
      ],
      "metadata": {
        "colab": {
          "base_uri": "https://localhost:8080/"
        },
        "outputId": "41a80bc9-6afc-457b-a0a4-63122db0d54c",
        "id": "eTADXynGqeEJ"
      },
      "execution_count": null,
      "outputs": [
        {
          "output_type": "stream",
          "name": "stdout",
          "text": [
            "2/2 [==============================] - 2s 976ms/step - loss: 0.1272 - accuracy: 0.9250\n"
          ]
        },
        {
          "output_type": "execute_result",
          "data": {
            "text/plain": [
              "[0.12719443440437317, 0.925000011920929]"
            ]
          },
          "metadata": {},
          "execution_count": 27
        }
      ]
    },
    {
      "cell_type": "code",
      "source": [
        "from sklearn.metrics import accuracy_score,classification_report,confusion_matrix\n",
        "import numpy as np\n",
        "#predict\n",
        "y_pred=model_final.predict(test_dataset)\n",
        "y_pred=(y_pred>0.5)"
      ],
      "metadata": {
        "id": "9wxcQJ1NqeEK"
      },
      "execution_count": null,
      "outputs": []
    },
    {
      "cell_type": "code",
      "source": [
        "from sklearn.metrics import confusion_matrix\n",
        "confusion_matrix(test_dataset.classes,y_pred)"
      ],
      "metadata": {
        "colab": {
          "base_uri": "https://localhost:8080/"
        },
        "outputId": "c2ac7415-b2bb-43ce-d3ef-9f5d3ff873b3",
        "id": "ijkJ930AqeEK"
      },
      "execution_count": null,
      "outputs": [
        {
          "output_type": "execute_result",
          "data": {
            "text/plain": [
              "array([[12,  8],\n",
              "       [ 7, 13]])"
            ]
          },
          "metadata": {},
          "execution_count": 29
        }
      ]
    },
    {
      "cell_type": "code",
      "source": [
        "accuracy_score(test_dataset.classes,y_pred)"
      ],
      "metadata": {
        "colab": {
          "base_uri": "https://localhost:8080/"
        },
        "outputId": "4c46e7db-882b-49fb-b82d-b7f88eedc9fa",
        "id": "pAw4uyCKqeEK"
      },
      "execution_count": null,
      "outputs": [
        {
          "output_type": "execute_result",
          "data": {
            "text/plain": [
              "0.625"
            ]
          },
          "metadata": {},
          "execution_count": 30
        }
      ]
    },
    {
      "cell_type": "code",
      "source": [
        "model_final.save(\"/content/drive/MyDrive/pneumonia2.h5\")\n",
        "print(\"Saved model to disk\")\n",
        "model_final.save_weights(\"/content/drive/MyDrive/pneumonia2.h5\")"
      ],
      "metadata": {
        "colab": {
          "base_uri": "https://localhost:8080/"
        },
        "id": "qDElectYpVTI",
        "outputId": "2c9f3680-d724-4055-cac4-255180361dea"
      },
      "execution_count": null,
      "outputs": [
        {
          "output_type": "stream",
          "name": "stderr",
          "text": [
            "WARNING:tensorflow:Compiled the loaded model, but the compiled metrics have yet to be built. `model.compile_metrics` will be empty until you train or evaluate the model.\n"
          ]
        },
        {
          "output_type": "stream",
          "name": "stdout",
          "text": [
            "Saved model to disk\n"
          ]
        }
      ]
    },
    {
      "cell_type": "code",
      "source": [
        "from keras.models import Model\n",
        "from keras.layers import Flatten, Dense, Reshape\n",
        "x=base_model.output\n",
        "x=GlobalAveragePooling2D()(x)\n",
        "\n",
        "for layer in base_model.layers:\n",
        "  layer.trainable=False\n",
        "\n",
        "x=Flatten()(x)\n",
        "x=Dense(512,activation='relu')(x)\n",
        "x4 = Reshape(target_shape=(512, 1))(x)\n",
        "predictions=Dense(1,activation='sigmoid')(x)\n",
        "model_final=Model(base_model.input,predictions)"
      ],
      "metadata": {
        "id": "fnLs3UPOvfVb"
      },
      "execution_count": null,
      "outputs": []
    },
    {
      "cell_type": "code",
      "source": [
        "model_final.summary()"
      ],
      "metadata": {
        "id": "wm37TbDqvfVd"
      },
      "execution_count": null,
      "outputs": []
    },
    {
      "cell_type": "code",
      "source": [
        "model_final.compile(loss='binary_crossentropy',optimizer=\"adam\",metrics=['accuracy'])"
      ],
      "metadata": {
        "id": "vKEpVuY0vfVe"
      },
      "execution_count": null,
      "outputs": []
    },
    {
      "cell_type": "code",
      "source": [
        "# fit the model\n",
        "history = model_final.fit(train_dataset,validation_data=valid_dataset,epochs=20,callbacks=[early_stop,checkpoint],batch_size=32,shuffle=True)"
      ],
      "metadata": {
        "colab": {
          "base_uri": "https://localhost:8080/"
        },
        "outputId": "4f20efeb-f696-46e5-d86b-e7216ce96989",
        "id": "rOimSlClvfVg"
      },
      "execution_count": null,
      "outputs": [
        {
          "output_type": "stream",
          "name": "stdout",
          "text": [
            "Epoch 1/20\n",
            "4/4 [==============================] - ETA: 0s - loss: 2.4907 - accuracy: 0.5667"
          ]
        },
        {
          "output_type": "stream",
          "name": "stderr",
          "text": [
            "WARNING:tensorflow:Can save best model only with val_acc available, skipping.\n"
          ]
        },
        {
          "output_type": "stream",
          "name": "stdout",
          "text": [
            "\b\b\b\b\b\b\b\b\b\b\b\b\b\b\b\b\b\b\b\b\b\b\b\b\b\b\b\b\b\b\b\b\b\b\b\b\b\b\b\b\b\b\b\b\b\b\b\b\b\b\b\b\b\b\b\b\b\b\b\b\b\b\b\b\b\b\b\b\b\b\b\b\b\b\b\b\b\b\b\b\r4/4 [==============================] - 10s 2s/step - loss: 2.4907 - accuracy: 0.5667 - val_loss: 1.3861 - val_accuracy: 0.5000\n",
            "Epoch 2/20\n",
            "4/4 [==============================] - ETA: 0s - loss: 1.2890 - accuracy: 0.5417"
          ]
        },
        {
          "output_type": "stream",
          "name": "stderr",
          "text": [
            "WARNING:tensorflow:Can save best model only with val_acc available, skipping.\n"
          ]
        },
        {
          "output_type": "stream",
          "name": "stdout",
          "text": [
            "\b\b\b\b\b\b\b\b\b\b\b\b\b\b\b\b\b\b\b\b\b\b\b\b\b\b\b\b\b\b\b\b\b\b\b\b\b\b\b\b\b\b\b\b\b\b\b\b\b\b\b\b\b\b\b\b\b\b\b\b\b\b\b\b\b\b\b\b\b\b\b\b\b\b\b\b\b\b\b\b\r4/4 [==============================] - 5s 1s/step - loss: 1.2890 - accuracy: 0.5417 - val_loss: 0.5115 - val_accuracy: 0.7857\n",
            "Epoch 3/20\n",
            "4/4 [==============================] - ETA: 0s - loss: 0.4946 - accuracy: 0.8000"
          ]
        },
        {
          "output_type": "stream",
          "name": "stderr",
          "text": [
            "WARNING:tensorflow:Can save best model only with val_acc available, skipping.\n"
          ]
        },
        {
          "output_type": "stream",
          "name": "stdout",
          "text": [
            "\b\b\b\b\b\b\b\b\b\b\b\b\b\b\b\b\b\b\b\b\b\b\b\b\b\b\b\b\b\b\b\b\b\b\b\b\b\b\b\b\b\b\b\b\b\b\b\b\b\b\b\b\b\b\b\b\b\b\b\b\b\b\b\b\b\b\b\b\b\b\b\b\b\b\b\b\b\b\b\b\r4/4 [==============================] - 5s 1s/step - loss: 0.4946 - accuracy: 0.8000 - val_loss: 1.2224 - val_accuracy: 0.5357\n",
            "Epoch 4/20\n",
            "4/4 [==============================] - ETA: 0s - loss: 0.4295 - accuracy: 0.8167"
          ]
        },
        {
          "output_type": "stream",
          "name": "stderr",
          "text": [
            "WARNING:tensorflow:Can save best model only with val_acc available, skipping.\n"
          ]
        },
        {
          "output_type": "stream",
          "name": "stdout",
          "text": [
            "\b\b\b\b\b\b\b\b\b\b\b\b\b\b\b\b\b\b\b\b\b\b\b\b\b\b\b\b\b\b\b\b\b\b\b\b\b\b\b\b\b\b\b\b\b\b\b\b\b\b\b\b\b\b\b\b\b\b\b\b\b\b\b\b\b\b\b\b\b\b\b\b\b\b\b\b\b\b\b\b\r4/4 [==============================] - 5s 1s/step - loss: 0.4295 - accuracy: 0.8167 - val_loss: 0.3879 - val_accuracy: 0.8571\n",
            "Epoch 5/20\n",
            "4/4 [==============================] - ETA: 0s - loss: 0.2978 - accuracy: 0.8583"
          ]
        },
        {
          "output_type": "stream",
          "name": "stderr",
          "text": [
            "WARNING:tensorflow:Can save best model only with val_acc available, skipping.\n"
          ]
        },
        {
          "output_type": "stream",
          "name": "stdout",
          "text": [
            "\b\b\b\b\b\b\b\b\b\b\b\b\b\b\b\b\b\b\b\b\b\b\b\b\b\b\b\b\b\b\b\b\b\b\b\b\b\b\b\b\b\b\b\b\b\b\b\b\b\b\b\b\b\b\b\b\b\b\b\b\b\b\b\b\b\b\b\b\b\b\b\b\b\b\b\b\b\b\b\b\r4/4 [==============================] - 5s 1s/step - loss: 0.2978 - accuracy: 0.8583 - val_loss: 0.4235 - val_accuracy: 0.8214\n",
            "Epoch 6/20\n",
            "4/4 [==============================] - ETA: 0s - loss: 0.2413 - accuracy: 0.8917"
          ]
        },
        {
          "output_type": "stream",
          "name": "stderr",
          "text": [
            "WARNING:tensorflow:Can save best model only with val_acc available, skipping.\n"
          ]
        },
        {
          "output_type": "stream",
          "name": "stdout",
          "text": [
            "\b\b\b\b\b\b\b\b\b\b\b\b\b\b\b\b\b\b\b\b\b\b\b\b\b\b\b\b\b\b\b\b\b\b\b\b\b\b\b\b\b\b\b\b\b\b\b\b\b\b\b\b\b\b\b\b\b\b\b\b\b\b\b\b\b\b\b\b\b\b\b\b\b\b\b\b\b\b\b\b\r4/4 [==============================] - 5s 1s/step - loss: 0.2413 - accuracy: 0.8917 - val_loss: 0.3592 - val_accuracy: 0.8214\n",
            "Epoch 7/20\n",
            "4/4 [==============================] - ETA: 0s - loss: 0.1866 - accuracy: 0.9000"
          ]
        },
        {
          "output_type": "stream",
          "name": "stderr",
          "text": [
            "WARNING:tensorflow:Can save best model only with val_acc available, skipping.\n"
          ]
        },
        {
          "output_type": "stream",
          "name": "stdout",
          "text": [
            "\b\b\b\b\b\b\b\b\b\b\b\b\b\b\b\b\b\b\b\b\b\b\b\b\b\b\b\b\b\b\b\b\b\b\b\b\b\b\b\b\b\b\b\b\b\b\b\b\b\b\b\b\b\b\b\b\b\b\b\b\b\b\b\b\b\b\b\b\b\b\b\b\b\b\b\b\b\b\b\b\r4/4 [==============================] - 5s 1s/step - loss: 0.1866 - accuracy: 0.9000 - val_loss: 0.3900 - val_accuracy: 0.7857\n",
            "Epoch 8/20\n",
            "4/4 [==============================] - ETA: 0s - loss: 0.1476 - accuracy: 0.9417"
          ]
        },
        {
          "output_type": "stream",
          "name": "stderr",
          "text": [
            "WARNING:tensorflow:Can save best model only with val_acc available, skipping.\n"
          ]
        },
        {
          "output_type": "stream",
          "name": "stdout",
          "text": [
            "\b\b\b\b\b\b\b\b\b\b\b\b\b\b\b\b\b\b\b\b\b\b\b\b\b\b\b\b\b\b\b\b\b\b\b\b\b\b\b\b\b\b\b\b\b\b\b\b\b\b\b\b\b\b\b\b\b\b\b\b\b\b\b\b\b\b\b\b\b\b\b\b\b\b\b\b\b\b\b\b\r4/4 [==============================] - 5s 1s/step - loss: 0.1476 - accuracy: 0.9417 - val_loss: 0.2441 - val_accuracy: 0.8929\n",
            "Epoch 9/20\n",
            "4/4 [==============================] - ETA: 0s - loss: 0.1364 - accuracy: 0.9500"
          ]
        },
        {
          "output_type": "stream",
          "name": "stderr",
          "text": [
            "WARNING:tensorflow:Can save best model only with val_acc available, skipping.\n"
          ]
        },
        {
          "output_type": "stream",
          "name": "stdout",
          "text": [
            "\b\b\b\b\b\b\b\b\b\b\b\b\b\b\b\b\b\b\b\b\b\b\b\b\b\b\b\b\b\b\b\b\b\b\b\b\b\b\b\b\b\b\b\b\b\b\b\b\b\b\b\b\b\b\b\b\b\b\b\b\b\b\b\b\b\b\b\b\b\b\b\b\b\b\b\b\b\b\b\b\r4/4 [==============================] - 5s 1s/step - loss: 0.1364 - accuracy: 0.9500 - val_loss: 0.2292 - val_accuracy: 0.9643\n",
            "Epoch 10/20\n",
            "4/4 [==============================] - ETA: 0s - loss: 0.1223 - accuracy: 0.9500"
          ]
        },
        {
          "output_type": "stream",
          "name": "stderr",
          "text": [
            "WARNING:tensorflow:Can save best model only with val_acc available, skipping.\n"
          ]
        },
        {
          "output_type": "stream",
          "name": "stdout",
          "text": [
            "\b\b\b\b\b\b\b\b\b\b\b\b\b\b\b\b\b\b\b\b\b\b\b\b\b\b\b\b\b\b\b\b\b\b\b\b\b\b\b\b\b\b\b\b\b\b\b\b\b\b\b\b\b\b\b\b\b\b\b\b\b\b\b\b\b\b\b\b\b\b\b\b\b\b\b\b\b\b\b\b\r4/4 [==============================] - 5s 1s/step - loss: 0.1223 - accuracy: 0.9500 - val_loss: 0.2368 - val_accuracy: 0.8929\n",
            "Epoch 11/20\n",
            "4/4 [==============================] - ETA: 0s - loss: 0.1086 - accuracy: 0.9667"
          ]
        },
        {
          "output_type": "stream",
          "name": "stderr",
          "text": [
            "WARNING:tensorflow:Can save best model only with val_acc available, skipping.\n"
          ]
        },
        {
          "output_type": "stream",
          "name": "stdout",
          "text": [
            "\b\b\b\b\b\b\b\b\b\b\b\b\b\b\b\b\b\b\b\b\b\b\b\b\b\b\b\b\b\b\b\b\b\b\b\b\b\b\b\b\b\b\b\b\b\b\b\b\b\b\b\b\b\b\b\b\b\b\b\b\b\b\b\b\b\b\b\b\b\b\b\b\b\b\b\b\b\b\b\b\r4/4 [==============================] - 5s 1s/step - loss: 0.1086 - accuracy: 0.9667 - val_loss: 0.3162 - val_accuracy: 0.8214\n",
            "Epoch 12/20\n",
            "4/4 [==============================] - ETA: 0s - loss: 0.0893 - accuracy: 0.9833"
          ]
        },
        {
          "output_type": "stream",
          "name": "stderr",
          "text": [
            "WARNING:tensorflow:Can save best model only with val_acc available, skipping.\n"
          ]
        },
        {
          "output_type": "stream",
          "name": "stdout",
          "text": [
            "\b\b\b\b\b\b\b\b\b\b\b\b\b\b\b\b\b\b\b\b\b\b\b\b\b\b\b\b\b\b\b\b\b\b\b\b\b\b\b\b\b\b\b\b\b\b\b\b\b\b\b\b\b\b\b\b\b\b\b\b\b\b\b\b\b\b\b\b\b\b\b\b\b\b\b\b\b\b\b\b\r4/4 [==============================] - 5s 1s/step - loss: 0.0893 - accuracy: 0.9833 - val_loss: 0.2200 - val_accuracy: 0.8929\n",
            "Epoch 13/20\n",
            "4/4 [==============================] - ETA: 0s - loss: 0.0811 - accuracy: 0.9833"
          ]
        },
        {
          "output_type": "stream",
          "name": "stderr",
          "text": [
            "WARNING:tensorflow:Can save best model only with val_acc available, skipping.\n"
          ]
        },
        {
          "output_type": "stream",
          "name": "stdout",
          "text": [
            "\b\b\b\b\b\b\b\b\b\b\b\b\b\b\b\b\b\b\b\b\b\b\b\b\b\b\b\b\b\b\b\b\b\b\b\b\b\b\b\b\b\b\b\b\b\b\b\b\b\b\b\b\b\b\b\b\b\b\b\b\b\b\b\b\b\b\b\b\b\b\b\b\b\b\b\b\b\b\b\b\r4/4 [==============================] - 5s 1s/step - loss: 0.0811 - accuracy: 0.9833 - val_loss: 0.2023 - val_accuracy: 0.9286\n",
            "Epoch 14/20\n",
            "4/4 [==============================] - ETA: 0s - loss: 0.0732 - accuracy: 0.9833"
          ]
        },
        {
          "output_type": "stream",
          "name": "stderr",
          "text": [
            "WARNING:tensorflow:Can save best model only with val_acc available, skipping.\n"
          ]
        },
        {
          "output_type": "stream",
          "name": "stdout",
          "text": [
            "\b\b\b\b\b\b\b\b\b\b\b\b\b\b\b\b\b\b\b\b\b\b\b\b\b\b\b\b\b\b\b\b\b\b\b\b\b\b\b\b\b\b\b\b\b\b\b\b\b\b\b\b\b\b\b\b\b\b\b\b\b\b\b\b\b\b\b\b\b\b\b\b\b\b\b\b\b\b\b\b\r4/4 [==============================] - 5s 1s/step - loss: 0.0732 - accuracy: 0.9833 - val_loss: 0.2236 - val_accuracy: 0.8929\n",
            "Epoch 15/20\n",
            "4/4 [==============================] - ETA: 0s - loss: 0.0595 - accuracy: 0.9917"
          ]
        },
        {
          "output_type": "stream",
          "name": "stderr",
          "text": [
            "WARNING:tensorflow:Can save best model only with val_acc available, skipping.\n"
          ]
        },
        {
          "output_type": "stream",
          "name": "stdout",
          "text": [
            "\b\b\b\b\b\b\b\b\b\b\b\b\b\b\b\b\b\b\b\b\b\b\b\b\b\b\b\b\b\b\b\b\b\b\b\b\b\b\b\b\b\b\b\b\b\b\b\b\b\b\b\b\b\b\b\b\b\b\b\b\b\b\b\b\b\b\b\b\b\b\b\b\b\b\b\b\b\b\b\b\r4/4 [==============================] - 5s 1s/step - loss: 0.0595 - accuracy: 0.9917 - val_loss: 0.2325 - val_accuracy: 0.8929\n",
            "Epoch 16/20\n",
            "4/4 [==============================] - ETA: 0s - loss: 0.0531 - accuracy: 1.0000"
          ]
        },
        {
          "output_type": "stream",
          "name": "stderr",
          "text": [
            "WARNING:tensorflow:Can save best model only with val_acc available, skipping.\n"
          ]
        },
        {
          "output_type": "stream",
          "name": "stdout",
          "text": [
            "\b\b\b\b\b\b\b\b\b\b\b\b\b\b\b\b\b\b\b\b\b\b\b\b\b\b\b\b\b\b\b\b\b\b\b\b\b\b\b\b\b\b\b\b\b\b\b\b\b\b\b\b\b\b\b\b\b\b\b\b\b\b\b\b\b\b\b\b\b\b\b\b\b\b\b\b\b\b\b\b\r4/4 [==============================] - 5s 1s/step - loss: 0.0531 - accuracy: 1.0000 - val_loss: 0.2127 - val_accuracy: 0.8929\n",
            "Epoch 16: early stopping\n"
          ]
        }
      ]
    },
    {
      "cell_type": "code",
      "source": [
        "model_final.evaluate(test_dataset)"
      ],
      "metadata": {
        "colab": {
          "base_uri": "https://localhost:8080/"
        },
        "outputId": "70813df1-902a-418b-a84c-c47cc2ed1287",
        "id": "ISfR9puwvfVh"
      },
      "execution_count": null,
      "outputs": [
        {
          "output_type": "stream",
          "name": "stdout",
          "text": [
            "2/2 [==============================] - 1s 150ms/step - loss: 0.1395 - accuracy: 0.9250\n"
          ]
        },
        {
          "output_type": "execute_result",
          "data": {
            "text/plain": [
              "[0.13946221768856049, 0.925000011920929]"
            ]
          },
          "metadata": {},
          "execution_count": 49
        }
      ]
    },
    {
      "cell_type": "code",
      "source": [
        "#predict\n",
        "y_pred=model_final.predict(test_dataset)\n",
        "y_pred=(y_pred>0.5)"
      ],
      "metadata": {
        "id": "8tHlHLM7vfVh"
      },
      "execution_count": null,
      "outputs": []
    },
    {
      "cell_type": "code",
      "source": [
        "confusion_matrix(test_dataset.classes,y_pred)"
      ],
      "metadata": {
        "colab": {
          "base_uri": "https://localhost:8080/"
        },
        "outputId": "0d81913c-1ea4-4066-f939-c32be7b8b499",
        "id": "LPET1Rl0vfVh"
      },
      "execution_count": null,
      "outputs": [
        {
          "output_type": "execute_result",
          "data": {
            "text/plain": [
              "array([[10, 10],\n",
              "       [ 9, 11]])"
            ]
          },
          "metadata": {},
          "execution_count": 51
        }
      ]
    },
    {
      "cell_type": "code",
      "source": [
        "accuracy_score(test_dataset.classes,y_pred)"
      ],
      "metadata": {
        "colab": {
          "base_uri": "https://localhost:8080/"
        },
        "outputId": "582b8664-6bd7-46ee-8b46-48ade81a117f",
        "id": "aCNBCoQ4vfVi"
      },
      "execution_count": null,
      "outputs": [
        {
          "output_type": "execute_result",
          "data": {
            "text/plain": [
              "0.525"
            ]
          },
          "metadata": {},
          "execution_count": 52
        }
      ]
    },
    {
      "cell_type": "markdown",
      "source": [
        "2."
      ],
      "metadata": {
        "id": "MotNX6msgpR0"
      }
    },
    {
      "cell_type": "code",
      "execution_count": null,
      "metadata": {
        "colab": {
          "base_uri": "https://localhost:8080/"
        },
        "id": "OOpDo5Miiwj7",
        "outputId": "c3d233d1-7e4c-4878-f2ce-b5d248bcbe37"
      },
      "outputs": [
        {
          "output_type": "stream",
          "name": "stdout",
          "text": [
            "Looking in indexes: https://pypi.org/simple, https://us-python.pkg.dev/colab-wheels/public/simple/\n",
            "Requirement already satisfied: pandas-datareader==0.9.0 in /usr/local/lib/python3.7/dist-packages (0.9.0)\n",
            "Requirement already satisfied: lxml in /usr/local/lib/python3.7/dist-packages (from pandas-datareader==0.9.0) (4.9.1)\n",
            "Requirement already satisfied: pandas>=0.23 in /usr/local/lib/python3.7/dist-packages (from pandas-datareader==0.9.0) (1.3.5)\n",
            "Requirement already satisfied: requests>=2.19.0 in /usr/local/lib/python3.7/dist-packages (from pandas-datareader==0.9.0) (2.28.1)\n",
            "Requirement already satisfied: pytz>=2017.3 in /usr/local/lib/python3.7/dist-packages (from pandas>=0.23->pandas-datareader==0.9.0) (2022.2.1)\n",
            "Requirement already satisfied: numpy>=1.17.3 in /usr/local/lib/python3.7/dist-packages (from pandas>=0.23->pandas-datareader==0.9.0) (1.21.6)\n",
            "Requirement already satisfied: python-dateutil>=2.7.3 in /usr/local/lib/python3.7/dist-packages (from pandas>=0.23->pandas-datareader==0.9.0) (2.8.2)\n",
            "Requirement already satisfied: six>=1.5 in /usr/local/lib/python3.7/dist-packages (from python-dateutil>=2.7.3->pandas>=0.23->pandas-datareader==0.9.0) (1.15.0)\n",
            "Requirement already satisfied: idna<4,>=2.5 in /usr/local/lib/python3.7/dist-packages (from requests>=2.19.0->pandas-datareader==0.9.0) (2.10)\n",
            "Requirement already satisfied: charset-normalizer<3,>=2 in /usr/local/lib/python3.7/dist-packages (from requests>=2.19.0->pandas-datareader==0.9.0) (2.1.1)\n",
            "Requirement already satisfied: urllib3<1.27,>=1.21.1 in /usr/local/lib/python3.7/dist-packages (from requests>=2.19.0->pandas-datareader==0.9.0) (1.24.3)\n",
            "Requirement already satisfied: certifi>=2017.4.17 in /usr/local/lib/python3.7/dist-packages (from requests>=2.19.0->pandas-datareader==0.9.0) (2022.6.15)\n"
          ]
        }
      ],
      "source": [
        "!pip install --upgrade pandas-datareader==0.9.0"
      ]
    },
    {
      "cell_type": "code",
      "source": [
        "!pip install -q yfinance"
      ],
      "metadata": {
        "id": "ixBRkOgfjEi3"
      },
      "execution_count": null,
      "outputs": []
    },
    {
      "cell_type": "code",
      "source": [
        "import pandas as pd\n",
        "import numpy as np\n",
        "import matplotlib.pyplot as plt\n",
        "\n",
        "%matplotlib inline"
      ],
      "metadata": {
        "id": "iFxppInzjNOr"
      },
      "execution_count": null,
      "outputs": []
    },
    {
      "cell_type": "code",
      "source": [
        "from pandas_datareader import DataReader\n",
        "import yfinance as yf\n",
        "from datetime import datetime"
      ],
      "metadata": {
        "id": "iXmnqDSbjjIk"
      },
      "execution_count": null,
      "outputs": []
    },
    {
      "cell_type": "code",
      "source": [
        "tech_list=['AAPL','MSFT']   \n"
      ],
      "metadata": {
        "id": "wXIidQJTkf17"
      },
      "execution_count": null,
      "outputs": []
    },
    {
      "cell_type": "code",
      "source": [
        "end=datetime.now()\n",
        "start=datetime(end.year -10 ,end.month,end.day)"
      ],
      "metadata": {
        "id": "LyWdf0y2kRXq"
      },
      "execution_count": null,
      "outputs": []
    },
    {
      "cell_type": "code",
      "source": [
        "start"
      ],
      "metadata": {
        "colab": {
          "base_uri": "https://localhost:8080/"
        },
        "id": "v9kf-xpTgh4d",
        "outputId": "0767d144-6ff6-4748-fd61-43007fda680a"
      },
      "execution_count": null,
      "outputs": [
        {
          "output_type": "execute_result",
          "data": {
            "text/plain": [
              "datetime.datetime(2012, 9, 14, 0, 0)"
            ]
          },
          "metadata": {},
          "execution_count": 438
        }
      ]
    },
    {
      "cell_type": "code",
      "source": [
        "end"
      ],
      "metadata": {
        "colab": {
          "base_uri": "https://localhost:8080/"
        },
        "id": "EE-IT0-uiWve",
        "outputId": "82c5ab87-f77b-44f6-bc5b-c51b227cb3e2"
      },
      "execution_count": null,
      "outputs": [
        {
          "output_type": "execute_result",
          "data": {
            "text/plain": [
              "datetime.datetime(2022, 9, 14, 20, 20, 24, 902988)"
            ]
          },
          "metadata": {},
          "execution_count": 439
        }
      ]
    },
    {
      "cell_type": "code",
      "source": [
        "for stock in tech_list:\n",
        "  globals()[stock]=yf.download(stock,start,end)"
      ],
      "metadata": {
        "colab": {
          "base_uri": "https://localhost:8080/"
        },
        "id": "P50VQLj4iWx7",
        "outputId": "8e13dfcc-9787-44bb-ece0-2c408d906bcd"
      },
      "execution_count": null,
      "outputs": [
        {
          "output_type": "stream",
          "name": "stdout",
          "text": [
            "[*********************100%***********************]  1 of 1 completed\n",
            "[*********************100%***********************]  1 of 1 completed\n"
          ]
        }
      ]
    },
    {
      "cell_type": "code",
      "source": [
        "company_list=[AAPL,MSFT]#symbol present in yfinance\n",
        "company_name=[\"Apple\",\"Microsoft\"]#Actual company name\n",
        "ma_days=[10,20,50]\n",
        "for ma in ma_days:\n",
        "  for company in company_list:\n",
        "    column_name=f'MA FOR {ma} DAYS'\n",
        "    company[column_name]=company['Close'].rolling(ma).mean()"
      ],
      "metadata": {
        "id": "8TeabAkhkt5Q"
      },
      "execution_count": null,
      "outputs": []
    },
    {
      "cell_type": "code",
      "source": [
        "MSFT[['Close','MA FOR 10 DAYS','MA FOR 20 DAYS','MA FOR 50 DAYS']].plot()"
      ],
      "metadata": {
        "colab": {
          "base_uri": "https://localhost:8080/",
          "height": 286
        },
        "id": "BT9PUYq4kv3s",
        "outputId": "4453951e-fa15-4a64-e714-55b3992fff96"
      },
      "execution_count": null,
      "outputs": [
        {
          "output_type": "execute_result",
          "data": {
            "text/plain": [
              "<matplotlib.axes._subplots.AxesSubplot at 0x7f23e0ce3210>"
            ]
          },
          "metadata": {},
          "execution_count": 442
        },
        {
          "output_type": "display_data",
          "data": {
            "text/plain": [
              "<Figure size 432x288 with 1 Axes>"
            ],
            "image/png": "[encoded data removed]"
          },
          "metadata": {
            "needs_background": "light"
          }
        }
      ]
    },
    {
      "cell_type": "code",
      "source": [
        "AAPL[['Close','MA FOR 10 DAYS','MA FOR 20 DAYS','MA FOR 50 DAYS']].plot()"
      ],
      "metadata": {
        "colab": {
          "base_uri": "https://localhost:8080/",
          "height": 286
        },
        "id": "0MXmfQmrlLLF",
        "outputId": "b4afcc12-df65-485a-c13a-acf4e1f36914"
      },
      "execution_count": null,
      "outputs": [
        {
          "output_type": "execute_result",
          "data": {
            "text/plain": [
              "<matplotlib.axes._subplots.AxesSubplot at 0x7f2404269490>"
            ]
          },
          "metadata": {},
          "execution_count": 443
        },
        {
          "output_type": "display_data",
          "data": {
            "text/plain": [
              "<Figure size 432x288 with 1 Axes>"
            ],
            "image/png": "[encoded data removed]"
          },
          "metadata": {
            "needs_background": "light"
          }
        }
      ]
    },
    {
      "cell_type": "code",
      "source": [
        "AAPL.head()"
      ],
      "metadata": {
        "colab": {
          "base_uri": "https://localhost:8080/",
          "height": 237
        },
        "id": "926ZxRCviW22",
        "outputId": "ad37f44a-f574-478e-a775-fd421974f4f6"
      },
      "execution_count": null,
      "outputs": [
        {
          "output_type": "execute_result",
          "data": {
            "text/plain": [
              "                 Open       High        Low      Close  Adj Close     Volume  \\\n",
              "Date                                                                           \n",
              "2012-09-14  24.641430  24.892143  24.567499  24.688572  21.170391  600474000   \n",
              "2012-09-17  24.976786  24.992857  24.807501  24.992144  21.430712  398031200   \n",
              "2012-09-18  24.995714  25.083214  24.872143  25.068214  21.495939  373503200   \n",
              "2012-09-19  25.009287  25.142500  24.984644  25.075001  21.501759  326874800   \n",
              "2012-09-20  24.969999  25.002144  24.772142  24.953571  21.397635  336568400   \n",
              "\n",
              "            MA FOR 10 DAYS  MA FOR 20 DAYS  MA FOR 50 DAYS  \n",
              "Date                                                        \n",
              "2012-09-14             NaN             NaN             NaN  \n",
              "2012-09-17             NaN             NaN             NaN  \n",
              "2012-09-18             NaN             NaN             NaN  \n",
              "2012-09-19             NaN             NaN             NaN  \n",
              "2012-09-20             NaN             NaN             NaN  "
            ],
            "text/html": [
              "\n",
              "  <div id=\"df-7231f5d0-ac1a-4764-9959-c23bf5fa73bf\">\n",
              "    <div class=\"colab-df-container\">\n",
              "      <div>\n",
              "<style scoped>\n",
              "    .dataframe tbody tr th:only-of-type {\n",
              "        vertical-align: middle;\n",
              "    }\n",
              "\n",
              "    .dataframe tbody tr th {\n",
              "        vertical-align: top;\n",
              "    }\n",
              "\n",
              "    .dataframe thead th {\n",
              "        text-align: right;\n",
              "    }\n",
              "</style>\n",
              "<table border=\"1\" class=\"dataframe\">\n",
              "  <thead>\n",
              "    <tr style=\"text-align: right;\">\n",
              "      <th></th>\n",
              "      <th>Open</th>\n",
              "      <th>High</th>\n",
              "      <th>Low</th>\n",
              "      <th>Close</th>\n",
              "      <th>Adj Close</th>\n",
              "      <th>Volume</th>\n",
              "      <th>MA FOR 10 DAYS</th>\n",
              "      <th>MA FOR 20 DAYS</th>\n",
              "      <th>MA FOR 50 DAYS</th>\n",
              "    </tr>\n",
              "    <tr>\n",
              "      <th>Date</th>\n",
              "      <th></th>\n",
              "      <th></th>\n",
              "      <th></th>\n",
              "      <th></th>\n",
              "      <th></th>\n",
              "      <th></th>\n",
              "      <th></th>\n",
              "      <th></th>\n",
              "      <th></th>\n",
              "    </tr>\n",
              "  </thead>\n",
              "  <tbody>\n",
              "    <tr>\n",
              "      <th>2012-09-14</th>\n",
              "      <td>24.641430</td>\n",
              "      <td>24.892143</td>\n",
              "      <td>24.567499</td>\n",
              "      <td>24.688572</td>\n",
              "      <td>21.170391</td>\n",
              "      <td>600474000</td>\n",
              "      <td>NaN</td>\n",
              "      <td>NaN</td>\n",
              "      <td>NaN</td>\n",
              "    </tr>\n",
              "    <tr>\n",
              "      <th>2012-09-17</th>\n",
              "      <td>24.976786</td>\n",
              "      <td>24.992857</td>\n",
              "      <td>24.807501</td>\n",
              "      <td>24.992144</td>\n",
              "      <td>21.430712</td>\n",
              "      <td>398031200</td>\n",
              "      <td>NaN</td>\n",
              "      <td>NaN</td>\n",
              "      <td>NaN</td>\n",
              "    </tr>\n",
              "    <tr>\n",
              "      <th>2012-09-18</th>\n",
              "      <td>24.995714</td>\n",
              "      <td>25.083214</td>\n",
              "      <td>24.872143</td>\n",
              "      <td>25.068214</td>\n",
              "      <td>21.495939</td>\n",
              "      <td>373503200</td>\n",
              "      <td>NaN</td>\n",
              "      <td>NaN</td>\n",
              "      <td>NaN</td>\n",
              "    </tr>\n",
              "    <tr>\n",
              "      <th>2012-09-19</th>\n",
              "      <td>25.009287</td>\n",
              "      <td>25.142500</td>\n",
              "      <td>24.984644</td>\n",
              "      <td>25.075001</td>\n",
              "      <td>21.501759</td>\n",
              "      <td>326874800</td>\n",
              "      <td>NaN</td>\n",
              "      <td>NaN</td>\n",
              "      <td>NaN</td>\n",
              "    </tr>\n",
              "    <tr>\n",
              "      <th>2012-09-20</th>\n",
              "      <td>24.969999</td>\n",
              "      <td>25.002144</td>\n",
              "      <td>24.772142</td>\n",
              "      <td>24.953571</td>\n",
              "      <td>21.397635</td>\n",
              "      <td>336568400</td>\n",
              "      <td>NaN</td>\n",
              "      <td>NaN</td>\n",
              "      <td>NaN</td>\n",
              "    </tr>\n",
              "  </tbody>\n",
              "</table>\n",
              "</div>\n",
              "      <button class=\"colab-df-convert\" onclick=\"convertToInteractive('df-7231f5d0-ac1a-4764-9959-c23bf5fa73bf')\"\n",
              "              title=\"Convert this dataframe to an interactive table.\"\n",
              "              style=\"display:none;\">\n",
              "        \n",
              "  <svg xmlns=\"http://www.w3.org/2000/svg\" height=\"24px\"viewBox=\"0 0 24 24\"\n",
              "       width=\"24px\">\n",
              "    <path d=\"M0 0h24v24H0V0z\" fill=\"none\"/>\n",
              "    <path d=\"M18.56 5.44l.94 2.06.94-2.06 2.06-.94-2.06-.94-.94-2.06-.94 2.06-2.06.94zm-11 1L8.5 8.5l.94-2.06 2.06-.94-2.06-.94L8.5 2.5l-.94 2.06-2.06.94zm10 10l.94 2.06.94-2.06 2.06-.94-2.06-.94-.94-2.06-.94 2.06-2.06.94z\"/><path d=\"M17.41 7.96l-1.37-1.37c-.4-.4-.92-.59-1.43-.59-.52 0-1.04.2-1.43.59L10.3 9.45l-7.72 7.72c-.78.78-.78 2.05 0 2.83L4 21.41c.39.39.9.59 1.41.59.51 0 1.02-.2 1.41-.59l7.78-7.78 2.81-2.81c.8-.78.8-2.07 0-2.86zM5.41 20L4 18.59l7.72-7.72 1.47 1.35L5.41 20z\"/>\n",
              "  </svg>\n",
              "      </button>\n",
              "      \n",
              "  <style>\n",
              "    .colab-df-container {\n",
              "      display:flex;\n",
              "      flex-wrap:wrap;\n",
              "      gap: 12px;\n",
              "    }\n",
              "\n",
              "    .colab-df-convert {\n",
              "      background-color: #E8F0FE;\n",
              "      border: none;\n",
              "      border-radius: 50%;\n",
              "      cursor: pointer;\n",
              "      display: none;\n",
              "      fill: #1967D2;\n",
              "      height: 32px;\n",
              "      padding: 0 0 0 0;\n",
              "      width: 32px;\n",
              "    }\n",
              "\n",
              "    .colab-df-convert:hover {\n",
              "      background-color: #E2EBFA;\n",
              "      box-shadow: 0px 1px 2px rgba(60, 64, 67, 0.3), 0px 1px 3px 1px rgba(60, 64, 67, 0.15);\n",
              "      fill: #174EA6;\n",
              "    }\n",
              "\n",
              "    [theme=dark] .colab-df-convert {\n",
              "      background-color: #3B4455;\n",
              "      fill: #D2E3FC;\n",
              "    }\n",
              "\n",
              "    [theme=dark] .colab-df-convert:hover {\n",
              "      background-color: #434B5C;\n",
              "      box-shadow: 0px 1px 3px 1px rgba(0, 0, 0, 0.15);\n",
              "      filter: drop-shadow(0px 1px 2px rgba(0, 0, 0, 0.3));\n",
              "      fill: #FFFFFF;\n",
              "    }\n",
              "  </style>\n",
              "\n",
              "      <script>\n",
              "        const buttonEl =\n",
              "          document.querySelector('#df-7231f5d0-ac1a-4764-9959-c23bf5fa73bf button.colab-df-convert');\n",
              "        buttonEl.style.display =\n",
              "          google.colab.kernel.accessAllowed ? 'block' : 'none';\n",
              "\n",
              "        async function convertToInteractive(key) {\n",
              "          const element = document.querySelector('#df-7231f5d0-ac1a-4764-9959-c23bf5fa73bf');\n",
              "          const dataTable =\n",
              "            await google.colab.kernel.invokeFunction('convertToInteractive',\n",
              "                                                     [key], {});\n",
              "          if (!dataTable) return;\n",
              "\n",
              "          const docLinkHtml = 'Like what you see? Visit the ' +\n",
              "            '<a target=\"_blank\" href=https://colab.research.google.com/notebooks/data_table.ipynb>data table notebook</a>'\n",
              "            + ' to learn more about interactive tables.';\n",
              "          element.innerHTML = '';\n",
              "          dataTable['output_type'] = 'display_data';\n",
              "          await google.colab.output.renderOutput(dataTable, element);\n",
              "          const docLink = document.createElement('div');\n",
              "          docLink.innerHTML = docLinkHtml;\n",
              "          element.appendChild(docLink);\n",
              "        }\n",
              "      </script>\n",
              "    </div>\n",
              "  </div>\n",
              "  "
            ]
          },
          "metadata": {},
          "execution_count": 444
        }
      ]
    },
    {
      "cell_type": "code",
      "source": [
        "MSFT.head()"
      ],
      "metadata": {
        "colab": {
          "base_uri": "https://localhost:8080/",
          "height": 237
        },
        "id": "eOQ0gs1LiW5C",
        "outputId": "f1c6391b-62cd-4568-9074-baf7b29a891f"
      },
      "execution_count": null,
      "outputs": [
        {
          "output_type": "execute_result",
          "data": {
            "text/plain": [
              "                 Open       High        Low      Close  Adj Close    Volume  \\\n",
              "Date                                                                          \n",
              "2012-09-14  31.010000  31.250000  30.809999  31.209999  25.597084  51422800   \n",
              "2012-09-17  31.190001  31.260000  31.040001  31.209999  25.597084  36488500   \n",
              "2012-09-18  31.100000  31.209999  31.030001  31.180000  25.572481  34542700   \n",
              "2012-09-19  31.090000  31.190001  31.040001  31.049999  25.465862  48871900   \n",
              "2012-09-20  30.950001  31.480000  30.910000  31.450001  25.793930  45543000   \n",
              "\n",
              "            MA FOR 10 DAYS  MA FOR 20 DAYS  MA FOR 50 DAYS  \n",
              "Date                                                        \n",
              "2012-09-14             NaN             NaN             NaN  \n",
              "2012-09-17             NaN             NaN             NaN  \n",
              "2012-09-18             NaN             NaN             NaN  \n",
              "2012-09-19             NaN             NaN             NaN  \n",
              "2012-09-20             NaN             NaN             NaN  "
            ],
            "text/html": [
              "\n",
              "  <div id=\"df-a444e202-2c54-4ad8-b7f1-574659ef5987\">\n",
              "    <div class=\"colab-df-container\">\n",
              "      <div>\n",
              "<style scoped>\n",
              "    .dataframe tbody tr th:only-of-type {\n",
              "        vertical-align: middle;\n",
              "    }\n",
              "\n",
              "    .dataframe tbody tr th {\n",
              "        vertical-align: top;\n",
              "    }\n",
              "\n",
              "    .dataframe thead th {\n",
              "        text-align: right;\n",
              "    }\n",
              "</style>\n",
              "<table border=\"1\" class=\"dataframe\">\n",
              "  <thead>\n",
              "    <tr style=\"text-align: right;\">\n",
              "      <th></th>\n",
              "      <th>Open</th>\n",
              "      <th>High</th>\n",
              "      <th>Low</th>\n",
              "      <th>Close</th>\n",
              "      <th>Adj Close</th>\n",
              "      <th>Volume</th>\n",
              "      <th>MA FOR 10 DAYS</th>\n",
              "      <th>MA FOR 20 DAYS</th>\n",
              "      <th>MA FOR 50 DAYS</th>\n",
              "    </tr>\n",
              "    <tr>\n",
              "      <th>Date</th>\n",
              "      <th></th>\n",
              "      <th></th>\n",
              "      <th></th>\n",
              "      <th></th>\n",
              "      <th></th>\n",
              "      <th></th>\n",
              "      <th></th>\n",
              "      <th></th>\n",
              "      <th></th>\n",
              "    </tr>\n",
              "  </thead>\n",
              "  <tbody>\n",
              "    <tr>\n",
              "      <th>2012-09-14</th>\n",
              "      <td>31.010000</td>\n",
              "      <td>31.250000</td>\n",
              "      <td>30.809999</td>\n",
              "      <td>31.209999</td>\n",
              "      <td>25.597084</td>\n",
              "      <td>51422800</td>\n",
              "      <td>NaN</td>\n",
              "      <td>NaN</td>\n",
              "      <td>NaN</td>\n",
              "    </tr>\n",
              "    <tr>\n",
              "      <th>2012-09-17</th>\n",
              "      <td>31.190001</td>\n",
              "      <td>31.260000</td>\n",
              "      <td>31.040001</td>\n",
              "      <td>31.209999</td>\n",
              "      <td>25.597084</td>\n",
              "      <td>36488500</td>\n",
              "      <td>NaN</td>\n",
              "      <td>NaN</td>\n",
              "      <td>NaN</td>\n",
              "    </tr>\n",
              "    <tr>\n",
              "      <th>2012-09-18</th>\n",
              "      <td>31.100000</td>\n",
              "      <td>31.209999</td>\n",
              "      <td>31.030001</td>\n",
              "      <td>31.180000</td>\n",
              "      <td>25.572481</td>\n",
              "      <td>34542700</td>\n",
              "      <td>NaN</td>\n",
              "      <td>NaN</td>\n",
              "      <td>NaN</td>\n",
              "    </tr>\n",
              "    <tr>\n",
              "      <th>2012-09-19</th>\n",
              "      <td>31.090000</td>\n",
              "      <td>31.190001</td>\n",
              "      <td>31.040001</td>\n",
              "      <td>31.049999</td>\n",
              "      <td>25.465862</td>\n",
              "      <td>48871900</td>\n",
              "      <td>NaN</td>\n",
              "      <td>NaN</td>\n",
              "      <td>NaN</td>\n",
              "    </tr>\n",
              "    <tr>\n",
              "      <th>2012-09-20</th>\n",
              "      <td>30.950001</td>\n",
              "      <td>31.480000</td>\n",
              "      <td>30.910000</td>\n",
              "      <td>31.450001</td>\n",
              "      <td>25.793930</td>\n",
              "      <td>45543000</td>\n",
              "      <td>NaN</td>\n",
              "      <td>NaN</td>\n",
              "      <td>NaN</td>\n",
              "    </tr>\n",
              "  </tbody>\n",
              "</table>\n",
              "</div>\n",
              "      <button class=\"colab-df-convert\" onclick=\"convertToInteractive('df-a444e202-2c54-4ad8-b7f1-574659ef5987')\"\n",
              "              title=\"Convert this dataframe to an interactive table.\"\n",
              "              style=\"display:none;\">\n",
              "        \n",
              "  <svg xmlns=\"http://www.w3.org/2000/svg\" height=\"24px\"viewBox=\"0 0 24 24\"\n",
              "       width=\"24px\">\n",
              "    <path d=\"M0 0h24v24H0V0z\" fill=\"none\"/>\n",
              "    <path d=\"M18.56 5.44l.94 2.06.94-2.06 2.06-.94-2.06-.94-.94-2.06-.94 2.06-2.06.94zm-11 1L8.5 8.5l.94-2.06 2.06-.94-2.06-.94L8.5 2.5l-.94 2.06-2.06.94zm10 10l.94 2.06.94-2.06 2.06-.94-2.06-.94-.94-2.06-.94 2.06-2.06.94z\"/><path d=\"M17.41 7.96l-1.37-1.37c-.4-.4-.92-.59-1.43-.59-.52 0-1.04.2-1.43.59L10.3 9.45l-7.72 7.72c-.78.78-.78 2.05 0 2.83L4 21.41c.39.39.9.59 1.41.59.51 0 1.02-.2 1.41-.59l7.78-7.78 2.81-2.81c.8-.78.8-2.07 0-2.86zM5.41 20L4 18.59l7.72-7.72 1.47 1.35L5.41 20z\"/>\n",
              "  </svg>\n",
              "      </button>\n",
              "      \n",
              "  <style>\n",
              "    .colab-df-container {\n",
              "      display:flex;\n",
              "      flex-wrap:wrap;\n",
              "      gap: 12px;\n",
              "    }\n",
              "\n",
              "    .colab-df-convert {\n",
              "      background-color: #E8F0FE;\n",
              "      border: none;\n",
              "      border-radius: 50%;\n",
              "      cursor: pointer;\n",
              "      display: none;\n",
              "      fill: #1967D2;\n",
              "      height: 32px;\n",
              "      padding: 0 0 0 0;\n",
              "      width: 32px;\n",
              "    }\n",
              "\n",
              "    .colab-df-convert:hover {\n",
              "      background-color: #E2EBFA;\n",
              "      box-shadow: 0px 1px 2px rgba(60, 64, 67, 0.3), 0px 1px 3px 1px rgba(60, 64, 67, 0.15);\n",
              "      fill: #174EA6;\n",
              "    }\n",
              "\n",
              "    [theme=dark] .colab-df-convert {\n",
              "      background-color: #3B4455;\n",
              "      fill: #D2E3FC;\n",
              "    }\n",
              "\n",
              "    [theme=dark] .colab-df-convert:hover {\n",
              "      background-color: #434B5C;\n",
              "      box-shadow: 0px 1px 3px 1px rgba(0, 0, 0, 0.15);\n",
              "      filter: drop-shadow(0px 1px 2px rgba(0, 0, 0, 0.3));\n",
              "      fill: #FFFFFF;\n",
              "    }\n",
              "  </style>\n",
              "\n",
              "      <script>\n",
              "        const buttonEl =\n",
              "          document.querySelector('#df-a444e202-2c54-4ad8-b7f1-574659ef5987 button.colab-df-convert');\n",
              "        buttonEl.style.display =\n",
              "          google.colab.kernel.accessAllowed ? 'block' : 'none';\n",
              "\n",
              "        async function convertToInteractive(key) {\n",
              "          const element = document.querySelector('#df-a444e202-2c54-4ad8-b7f1-574659ef5987');\n",
              "          const dataTable =\n",
              "            await google.colab.kernel.invokeFunction('convertToInteractive',\n",
              "                                                     [key], {});\n",
              "          if (!dataTable) return;\n",
              "\n",
              "          const docLinkHtml = 'Like what you see? Visit the ' +\n",
              "            '<a target=\"_blank\" href=https://colab.research.google.com/notebooks/data_table.ipynb>data table notebook</a>'\n",
              "            + ' to learn more about interactive tables.';\n",
              "          element.innerHTML = '';\n",
              "          dataTable['output_type'] = 'display_data';\n",
              "          await google.colab.output.renderOutput(dataTable, element);\n",
              "          const docLink = document.createElement('div');\n",
              "          docLink.innerHTML = docLinkHtml;\n",
              "          element.appendChild(docLink);\n",
              "        }\n",
              "      </script>\n",
              "    </div>\n",
              "  </div>\n",
              "  "
            ]
          },
          "metadata": {},
          "execution_count": 445
        }
      ]
    },
    {
      "cell_type": "code",
      "source": [
        "apple_data=AAPL.filter(['Close'])\n",
        "apple_data.head()"
      ],
      "metadata": {
        "colab": {
          "base_uri": "https://localhost:8080/",
          "height": 237
        },
        "id": "DdKyD50MmQVV",
        "outputId": "293a9cce-300f-4345-cfb6-4471ea0d6ce8"
      },
      "execution_count": null,
      "outputs": [
        {
          "output_type": "execute_result",
          "data": {
            "text/plain": [
              "                Close\n",
              "Date                 \n",
              "2012-09-14  24.688572\n",
              "2012-09-17  24.992144\n",
              "2012-09-18  25.068214\n",
              "2012-09-19  25.075001\n",
              "2012-09-20  24.953571"
            ],
            "text/html": [
              "\n",
              "  <div id=\"df-cb83c8c7-68c6-4308-bd18-9c0d203f340c\">\n",
              "    <div class=\"colab-df-container\">\n",
              "      <div>\n",
              "<style scoped>\n",
              "    .dataframe tbody tr th:only-of-type {\n",
              "        vertical-align: middle;\n",
              "    }\n",
              "\n",
              "    .dataframe tbody tr th {\n",
              "        vertical-align: top;\n",
              "    }\n",
              "\n",
              "    .dataframe thead th {\n",
              "        text-align: right;\n",
              "    }\n",
              "</style>\n",
              "<table border=\"1\" class=\"dataframe\">\n",
              "  <thead>\n",
              "    <tr style=\"text-align: right;\">\n",
              "      <th></th>\n",
              "      <th>Close</th>\n",
              "    </tr>\n",
              "    <tr>\n",
              "      <th>Date</th>\n",
              "      <th></th>\n",
              "    </tr>\n",
              "  </thead>\n",
              "  <tbody>\n",
              "    <tr>\n",
              "      <th>2012-09-14</th>\n",
              "      <td>24.688572</td>\n",
              "    </tr>\n",
              "    <tr>\n",
              "      <th>2012-09-17</th>\n",
              "      <td>24.992144</td>\n",
              "    </tr>\n",
              "    <tr>\n",
              "      <th>2012-09-18</th>\n",
              "      <td>25.068214</td>\n",
              "    </tr>\n",
              "    <tr>\n",
              "      <th>2012-09-19</th>\n",
              "      <td>25.075001</td>\n",
              "    </tr>\n",
              "    <tr>\n",
              "      <th>2012-09-20</th>\n",
              "      <td>24.953571</td>\n",
              "    </tr>\n",
              "  </tbody>\n",
              "</table>\n",
              "</div>\n",
              "      <button class=\"colab-df-convert\" onclick=\"convertToInteractive('df-cb83c8c7-68c6-4308-bd18-9c0d203f340c')\"\n",
              "              title=\"Convert this dataframe to an interactive table.\"\n",
              "              style=\"display:none;\">\n",
              "        \n",
              "  <svg xmlns=\"http://www.w3.org/2000/svg\" height=\"24px\"viewBox=\"0 0 24 24\"\n",
              "       width=\"24px\">\n",
              "    <path d=\"M0 0h24v24H0V0z\" fill=\"none\"/>\n",
              "    <path d=\"M18.56 5.44l.94 2.06.94-2.06 2.06-.94-2.06-.94-.94-2.06-.94 2.06-2.06.94zm-11 1L8.5 8.5l.94-2.06 2.06-.94-2.06-.94L8.5 2.5l-.94 2.06-2.06.94zm10 10l.94 2.06.94-2.06 2.06-.94-2.06-.94-.94-2.06-.94 2.06-2.06.94z\"/><path d=\"M17.41 7.96l-1.37-1.37c-.4-.4-.92-.59-1.43-.59-.52 0-1.04.2-1.43.59L10.3 9.45l-7.72 7.72c-.78.78-.78 2.05 0 2.83L4 21.41c.39.39.9.59 1.41.59.51 0 1.02-.2 1.41-.59l7.78-7.78 2.81-2.81c.8-.78.8-2.07 0-2.86zM5.41 20L4 18.59l7.72-7.72 1.47 1.35L5.41 20z\"/>\n",
              "  </svg>\n",
              "      </button>\n",
              "      \n",
              "  <style>\n",
              "    .colab-df-container {\n",
              "      display:flex;\n",
              "      flex-wrap:wrap;\n",
              "      gap: 12px;\n",
              "    }\n",
              "\n",
              "    .colab-df-convert {\n",
              "      background-color: #E8F0FE;\n",
              "      border: none;\n",
              "      border-radius: 50%;\n",
              "      cursor: pointer;\n",
              "      display: none;\n",
              "      fill: #1967D2;\n",
              "      height: 32px;\n",
              "      padding: 0 0 0 0;\n",
              "      width: 32px;\n",
              "    }\n",
              "\n",
              "    .colab-df-convert:hover {\n",
              "      background-color: #E2EBFA;\n",
              "      box-shadow: 0px 1px 2px rgba(60, 64, 67, 0.3), 0px 1px 3px 1px rgba(60, 64, 67, 0.15);\n",
              "      fill: #174EA6;\n",
              "    }\n",
              "\n",
              "    [theme=dark] .colab-df-convert {\n",
              "      background-color: #3B4455;\n",
              "      fill: #D2E3FC;\n",
              "    }\n",
              "\n",
              "    [theme=dark] .colab-df-convert:hover {\n",
              "      background-color: #434B5C;\n",
              "      box-shadow: 0px 1px 3px 1px rgba(0, 0, 0, 0.15);\n",
              "      filter: drop-shadow(0px 1px 2px rgba(0, 0, 0, 0.3));\n",
              "      fill: #FFFFFF;\n",
              "    }\n",
              "  </style>\n",
              "\n",
              "      <script>\n",
              "        const buttonEl =\n",
              "          document.querySelector('#df-cb83c8c7-68c6-4308-bd18-9c0d203f340c button.colab-df-convert');\n",
              "        buttonEl.style.display =\n",
              "          google.colab.kernel.accessAllowed ? 'block' : 'none';\n",
              "\n",
              "        async function convertToInteractive(key) {\n",
              "          const element = document.querySelector('#df-cb83c8c7-68c6-4308-bd18-9c0d203f340c');\n",
              "          const dataTable =\n",
              "            await google.colab.kernel.invokeFunction('convertToInteractive',\n",
              "                                                     [key], {});\n",
              "          if (!dataTable) return;\n",
              "\n",
              "          const docLinkHtml = 'Like what you see? Visit the ' +\n",
              "            '<a target=\"_blank\" href=https://colab.research.google.com/notebooks/data_table.ipynb>data table notebook</a>'\n",
              "            + ' to learn more about interactive tables.';\n",
              "          element.innerHTML = '';\n",
              "          dataTable['output_type'] = 'display_data';\n",
              "          await google.colab.output.renderOutput(dataTable, element);\n",
              "          const docLink = document.createElement('div');\n",
              "          docLink.innerHTML = docLinkHtml;\n",
              "          element.appendChild(docLink);\n",
              "        }\n",
              "      </script>\n",
              "    </div>\n",
              "  </div>\n",
              "  "
            ]
          },
          "metadata": {},
          "execution_count": 446
        }
      ]
    },
    {
      "cell_type": "code",
      "source": [
        "dataset=apple_data.values"
      ],
      "metadata": {
        "id": "cefteSiJuP9C"
      },
      "execution_count": null,
      "outputs": []
    },
    {
      "cell_type": "code",
      "source": [
        "dataset"
      ],
      "metadata": {
        "colab": {
          "base_uri": "https://localhost:8080/"
        },
        "id": "mD7PIfL2uSnh",
        "outputId": "21cc6efd-33a6-45cd-d9a5-d17af7918ee0"
      },
      "execution_count": null,
      "outputs": [
        {
          "output_type": "execute_result",
          "data": {
            "text/plain": [
              "array([[ 24.68857193],\n",
              "       [ 24.99214363],\n",
              "       [ 25.06821442],\n",
              "       ...,\n",
              "       [163.42999268],\n",
              "       [153.83999634],\n",
              "       [155.30999756]])"
            ]
          },
          "metadata": {},
          "execution_count": 480
        }
      ]
    },
    {
      "cell_type": "code",
      "source": [
        "training_data_len=int(np.ceil(len(dataset)*.85))"
      ],
      "metadata": {
        "id": "v0m1bEA2uz9M"
      },
      "execution_count": null,
      "outputs": []
    },
    {
      "cell_type": "code",
      "source": [
        "dataset.shape"
      ],
      "metadata": {
        "colab": {
          "base_uri": "https://localhost:8080/"
        },
        "id": "0YRTdIrNvByl",
        "outputId": "ffcf1853-0976-4bcb-cee2-dd07aa3039c4"
      },
      "execution_count": null,
      "outputs": [
        {
          "output_type": "execute_result",
          "data": {
            "text/plain": [
              "(2516, 1)"
            ]
          },
          "metadata": {},
          "execution_count": 511
        }
      ]
    },
    {
      "cell_type": "code",
      "source": [
        "training_data_len"
      ],
      "metadata": {
        "colab": {
          "base_uri": "https://localhost:8080/"
        },
        "id": "hS6sg-y3vDuE",
        "outputId": "6e981bd8-7219-4ba1-9e44-cca2bf7b97f5"
      },
      "execution_count": null,
      "outputs": [
        {
          "output_type": "execute_result",
          "data": {
            "text/plain": [
              "2139"
            ]
          },
          "metadata": {},
          "execution_count": 512
        }
      ]
    },
    {
      "cell_type": "code",
      "source": [
        "from sklearn.preprocessing import MinMaxScaler\n"
      ],
      "metadata": {
        "id": "rK9LURJAvOhH"
      },
      "execution_count": null,
      "outputs": []
    },
    {
      "cell_type": "code",
      "source": [
        "scaler=MinMaxScaler(feature_range=(0,1))\n",
        "scaled_data=scaler.fit_transform(dataset)"
      ],
      "metadata": {
        "id": "jwfICDiFvb7W"
      },
      "execution_count": null,
      "outputs": []
    },
    {
      "cell_type": "code",
      "source": [
        "scaled_data[:5]"
      ],
      "metadata": {
        "colab": {
          "base_uri": "https://localhost:8080/"
        },
        "id": "8T6NOmHzvtc8",
        "outputId": "7a152c96-80ce-45c0-f407-d35c0f680a1f"
      },
      "execution_count": null,
      "outputs": [
        {
          "output_type": "execute_result",
          "data": {
            "text/plain": [
              "array([[0.06391118],\n",
              "       [0.06571748],\n",
              "       [0.06617011],\n",
              "       [0.06621049],\n",
              "       [0.06548797]])"
            ]
          },
          "metadata": {},
          "execution_count": 515
        }
      ]
    },
    {
      "cell_type": "code",
      "source": [
        "train_data=scaled_data[0:int(training_data_len),:]"
      ],
      "metadata": {
        "id": "3NQRma3Rv_Cr"
      },
      "execution_count": null,
      "outputs": []
    },
    {
      "cell_type": "code",
      "source": [
        "x_train=[]\n",
        "y_train=[]\n",
        "for i in range(60,len(train_data)):\n",
        "  x_train.append(train_data[i-60:i,0])\n",
        "  y_train.append(train_data[i,0])"
      ],
      "metadata": {
        "id": "LeLqXt1AwRP6"
      },
      "execution_count": null,
      "outputs": []
    },
    {
      "cell_type": "code",
      "source": [
        "print(x_train[:5])"
      ],
      "metadata": {
        "colab": {
          "base_uri": "https://localhost:8080/"
        },
        "id": "kskOPIxUxHmY",
        "outputId": "8b528437-183e-4ded-b957-41bc1ba84cc2"
      },
      "execution_count": null,
      "outputs": [
        {
          "output_type": "stream",
          "name": "stdout",
          "text": [
            "[array([0.06391118, 0.06571748, 0.06617011, 0.06621049, 0.06548797,\n",
            "       0.06578335, 0.06380704, 0.06014132, 0.05836477, 0.06179461,\n",
            "       0.05877278, 0.05713436, 0.05754237, 0.05969717, 0.05870902,\n",
            "       0.05568932, 0.05262498, 0.05213197, 0.05320725, 0.05048504,\n",
            "       0.05082718, 0.05190034, 0.0550943 , 0.05399352, 0.05144982,\n",
            "       0.04660469, 0.05174521, 0.04735271, 0.0480901 , 0.04654093,\n",
            "       0.04536365, 0.0435191 , 0.04377836, 0.03958349, 0.04124529,\n",
            "       0.04086914, 0.03558838, 0.03128513, 0.03326356, 0.03236466,\n",
            "       0.03237954, 0.03110025, 0.02870743, 0.0291452 , 0.03723105,\n",
            "       0.03620676, 0.03637465, 0.0384572 , 0.04228869, 0.04127929,\n",
            "       0.04088828, 0.04225256, 0.04138554, 0.04157891, 0.0393816 ,\n",
            "       0.03150614, 0.03330182, 0.03032886, 0.02959996, 0.03205865]), array([0.06571748, 0.06617011, 0.06621049, 0.06548797, 0.06578335,\n",
            "       0.06380704, 0.06014132, 0.05836477, 0.06179461, 0.05877278,\n",
            "       0.05713436, 0.05754237, 0.05969717, 0.05870902, 0.05568932,\n",
            "       0.05262498, 0.05213197, 0.05320725, 0.05048504, 0.05082718,\n",
            "       0.05190034, 0.0550943 , 0.05399352, 0.05144982, 0.04660469,\n",
            "       0.05174521, 0.04735271, 0.0480901 , 0.04654093, 0.04536365,\n",
            "       0.0435191 , 0.04377836, 0.03958349, 0.04124529, 0.04086914,\n",
            "       0.03558838, 0.03128513, 0.03326356, 0.03236466, 0.03237954,\n",
            "       0.03110025, 0.02870743, 0.0291452 , 0.03723105, 0.03620676,\n",
            "       0.03637465, 0.0384572 , 0.04228869, 0.04127929, 0.04088828,\n",
            "       0.04225256, 0.04138554, 0.04157891, 0.0393816 , 0.03150614,\n",
            "       0.03330182, 0.03032886, 0.02959996, 0.03205865, 0.03155076]), array([0.06617011, 0.06621049, 0.06548797, 0.06578335, 0.06380704,\n",
            "       0.06014132, 0.05836477, 0.06179461, 0.05877278, 0.05713436,\n",
            "       0.05754237, 0.05969717, 0.05870902, 0.05568932, 0.05262498,\n",
            "       0.05213197, 0.05320725, 0.05048504, 0.05082718, 0.05190034,\n",
            "       0.0550943 , 0.05399352, 0.05144982, 0.04660469, 0.05174521,\n",
            "       0.04735271, 0.0480901 , 0.04654093, 0.04536365, 0.0435191 ,\n",
            "       0.04377836, 0.03958349, 0.04124529, 0.04086914, 0.03558838,\n",
            "       0.03128513, 0.03326356, 0.03236466, 0.03237954, 0.03110025,\n",
            "       0.02870743, 0.0291452 , 0.03723105, 0.03620676, 0.03637465,\n",
            "       0.0384572 , 0.04228869, 0.04127929, 0.04088828, 0.04225256,\n",
            "       0.04138554, 0.04157891, 0.0393816 , 0.03150614, 0.03330182,\n",
            "       0.03032886, 0.02959996, 0.03205865, 0.03155076, 0.02957233]), array([0.06621049, 0.06548797, 0.06578335, 0.06380704, 0.06014132,\n",
            "       0.05836477, 0.06179461, 0.05877278, 0.05713436, 0.05754237,\n",
            "       0.05969717, 0.05870902, 0.05568932, 0.05262498, 0.05213197,\n",
            "       0.05320725, 0.05048504, 0.05082718, 0.05190034, 0.0550943 ,\n",
            "       0.05399352, 0.05144982, 0.04660469, 0.05174521, 0.04735271,\n",
            "       0.0480901 , 0.04654093, 0.04536365, 0.0435191 , 0.04377836,\n",
            "       0.03958349, 0.04124529, 0.04086914, 0.03558838, 0.03128513,\n",
            "       0.03326356, 0.03236466, 0.03237954, 0.03110025, 0.02870743,\n",
            "       0.0291452 , 0.03723105, 0.03620676, 0.03637465, 0.0384572 ,\n",
            "       0.04228869, 0.04127929, 0.04088828, 0.04225256, 0.04138554,\n",
            "       0.04157891, 0.0393816 , 0.03150614, 0.03330182, 0.03032886,\n",
            "       0.02959996, 0.03205865, 0.03155076, 0.02957233, 0.02534346]), array([0.06548797, 0.06578335, 0.06380704, 0.06014132, 0.05836477,\n",
            "       0.06179461, 0.05877278, 0.05713436, 0.05754237, 0.05969717,\n",
            "       0.05870902, 0.05568932, 0.05262498, 0.05213197, 0.05320725,\n",
            "       0.05048504, 0.05082718, 0.05190034, 0.0550943 , 0.05399352,\n",
            "       0.05144982, 0.04660469, 0.05174521, 0.04735271, 0.0480901 ,\n",
            "       0.04654093, 0.04536365, 0.0435191 , 0.04377836, 0.03958349,\n",
            "       0.04124529, 0.04086914, 0.03558838, 0.03128513, 0.03326356,\n",
            "       0.03236466, 0.03237954, 0.03110025, 0.02870743, 0.0291452 ,\n",
            "       0.03723105, 0.03620676, 0.03637465, 0.0384572 , 0.04228869,\n",
            "       0.04127929, 0.04088828, 0.04225256, 0.04138554, 0.04157891,\n",
            "       0.0393816 , 0.03150614, 0.03330182, 0.03032886, 0.02959996,\n",
            "       0.03205865, 0.03155076, 0.02957233, 0.02534346, 0.02726451])]\n"
          ]
        }
      ]
    },
    {
      "cell_type": "code",
      "source": [
        "x_train,y_train=np.array(x_train),np.array(y_train)"
      ],
      "metadata": {
        "id": "UlM2u5RUxuXL"
      },
      "execution_count": null,
      "outputs": []
    },
    {
      "cell_type": "code",
      "source": [
        "x_train.shape"
      ],
      "metadata": {
        "colab": {
          "base_uri": "https://localhost:8080/"
        },
        "id": "4NLxt8IZx4Gb",
        "outputId": "b8bbae1a-f2d6-4694-8612-9ff0ea8260b2"
      },
      "execution_count": null,
      "outputs": [
        {
          "output_type": "execute_result",
          "data": {
            "text/plain": [
              "(2079, 60)"
            ]
          },
          "metadata": {},
          "execution_count": 520
        }
      ]
    },
    {
      "cell_type": "code",
      "source": [
        "x_train=np.reshape(x_train,(x_train.shape[0],x_train.shape[1],1))"
      ],
      "metadata": {
        "id": "ghBukB6Ax_jH"
      },
      "execution_count": null,
      "outputs": []
    },
    {
      "cell_type": "code",
      "source": [
        "x_train.shape"
      ],
      "metadata": {
        "colab": {
          "base_uri": "https://localhost:8080/"
        },
        "id": "J6MR6EKAygA7",
        "outputId": "e2e5b9e7-b132-4f55-b7bf-1779db85459a"
      },
      "execution_count": null,
      "outputs": [
        {
          "output_type": "execute_result",
          "data": {
            "text/plain": [
              "(2079, 60, 1)"
            ]
          },
          "metadata": {},
          "execution_count": 522
        }
      ]
    },
    {
      "cell_type": "code",
      "source": [
        "#build the model\n",
        "from keras.models import Sequential\n",
        "from keras.layers import Dense, LSTM, Bidirectional\n",
        "model=Sequential()\n",
        "model.add(Bidirectional(LSTM(128,return_sequences=True,input_shape=(x_train.shape[1],1))))\n",
        "model.add(Bidirectional(LSTM(64,return_sequences=True)))\n",
        "model.add(Bidirectional(LSTM(16,return_sequences=False)))\n",
        "model.add(Dense(25))\n",
        "model.add(Dense(1))"
      ],
      "metadata": {
        "id": "HYLGEPkQyhtW"
      },
      "execution_count": null,
      "outputs": []
    },
    {
      "cell_type": "code",
      "source": [
        "#model.summary()"
      ],
      "metadata": {
        "id": "q7WIu9CCznWm"
      },
      "execution_count": null,
      "outputs": []
    },
    {
      "cell_type": "code",
      "source": [
        "from keras.callbacks import EarlyStopping\n",
        "earlystop=EarlyStopping(monitor='loss',min_delta=0,patience=3,verbose=1,\n",
        "                        restore_best_weights=True)"
      ],
      "metadata": {
        "id": "H1vv0U3Es-GX"
      },
      "execution_count": null,
      "outputs": []
    },
    {
      "cell_type": "code",
      "source": [
        "model.compile(optimizer='adam',loss='mean_squared_error')\n"
      ],
      "metadata": {
        "id": "yFFM4jOW0Ryo"
      },
      "execution_count": null,
      "outputs": []
    },
    {
      "cell_type": "code",
      "source": [
        "model.fit(x_train,y_train,batch_size=2,callbacks=[earlystop],epochs=50)"
      ],
      "metadata": {
        "colab": {
          "base_uri": "https://localhost:8080/"
        },
        "id": "SamyDsti0gI_",
        "outputId": "dbe73085-4028-4770-cd05-142d53a2edf4"
      },
      "execution_count": null,
      "outputs": [
        {
          "output_type": "stream",
          "name": "stdout",
          "text": [
            "Epoch 1/50\n",
            "1040/1040 [==============================] - 28s 18ms/step - loss: 8.8290e-04\n",
            "Epoch 2/50\n",
            "1040/1040 [==============================] - 19s 19ms/step - loss: 3.6059e-04\n",
            "Epoch 3/50\n",
            "1040/1040 [==============================] - 19s 19ms/step - loss: 2.8422e-04\n",
            "Epoch 4/50\n",
            "1040/1040 [==============================] - 19s 18ms/step - loss: 3.0592e-04\n",
            "Epoch 5/50\n",
            "1040/1040 [==============================] - 19s 18ms/step - loss: 2.6885e-04\n",
            "Epoch 6/50\n",
            "1040/1040 [==============================] - 19s 18ms/step - loss: 1.9947e-04\n",
            "Epoch 7/50\n",
            "1040/1040 [==============================] - 19s 18ms/step - loss: 1.9204e-04\n",
            "Epoch 8/50\n",
            "1040/1040 [==============================] - 19s 18ms/step - loss: 1.8445e-04\n",
            "Epoch 9/50\n",
            "1040/1040 [==============================] - 19s 18ms/step - loss: 1.9794e-04\n",
            "Epoch 10/50\n",
            "1040/1040 [==============================] - 19s 18ms/step - loss: 1.8498e-04\n",
            "Epoch 11/50\n",
            "1040/1040 [==============================] - 19s 18ms/step - loss: 1.2807e-04\n",
            "Epoch 12/50\n",
            "1040/1040 [==============================] - 19s 18ms/step - loss: 1.3136e-04\n",
            "Epoch 13/50\n",
            "1040/1040 [==============================] - 19s 18ms/step - loss: 1.2664e-04\n",
            "Epoch 14/50\n",
            "1040/1040 [==============================] - 19s 18ms/step - loss: 1.3169e-04\n",
            "Epoch 15/50\n",
            "1040/1040 [==============================] - 19s 18ms/step - loss: 1.3538e-04\n",
            "Epoch 16/50\n",
            "1039/1040 [============================>.] - ETA: 0s - loss: 1.3231e-04Restoring model weights from the end of the best epoch: 13.\n",
            "1040/1040 [==============================] - 19s 18ms/step - loss: 1.3243e-04\n",
            "Epoch 16: early stopping\n"
          ]
        },
        {
          "output_type": "execute_result",
          "data": {
            "text/plain": [
              "<keras.callbacks.History at 0x7f23d7f40fd0>"
            ]
          },
          "metadata": {},
          "execution_count": 578
        }
      ]
    },
    {
      "cell_type": "code",
      "source": [
        "test_data=scaled_data[training_data_len-60:,:]"
      ],
      "metadata": {
        "id": "dscBr5H7zrn8"
      },
      "execution_count": null,
      "outputs": []
    },
    {
      "cell_type": "code",
      "source": [
        "test_data.shape"
      ],
      "metadata": {
        "colab": {
          "base_uri": "https://localhost:8080/"
        },
        "id": "dXO4F9Vi1DkZ",
        "outputId": "36c79f9b-6f37-47a0-f030-1e6829ccc5e4"
      },
      "execution_count": null,
      "outputs": [
        {
          "output_type": "execute_result",
          "data": {
            "text/plain": [
              "(437, 1)"
            ]
          },
          "metadata": {},
          "execution_count": 580
        }
      ]
    },
    {
      "cell_type": "code",
      "source": [
        "x_test=[]\n",
        "y_test=dataset[training_data_len:,:]\n",
        "\n",
        "for i in range(60,len(test_data)):\n",
        "  x_test.append(test_data[i-60:i,0])\n"
      ],
      "metadata": {
        "id": "3FxUc38p1FMR"
      },
      "execution_count": null,
      "outputs": []
    },
    {
      "cell_type": "code",
      "source": [
        "type(x_test)"
      ],
      "metadata": {
        "colab": {
          "base_uri": "https://localhost:8080/"
        },
        "id": "dvhW4DYI1b9u",
        "outputId": "97fea679-c6c3-44c1-d01d-581115cae8d1"
      },
      "execution_count": null,
      "outputs": [
        {
          "output_type": "execute_result",
          "data": {
            "text/plain": [
              "list"
            ]
          },
          "metadata": {},
          "execution_count": 582
        }
      ]
    },
    {
      "cell_type": "code",
      "source": [
        "x_test=np.array(x_test)"
      ],
      "metadata": {
        "id": "pSowv98R1kVn"
      },
      "execution_count": null,
      "outputs": []
    },
    {
      "cell_type": "code",
      "source": [
        "x_test=np.reshape(x_test,(x_test.shape[0],x_test.shape[1],1))"
      ],
      "metadata": {
        "id": "vAwEn4gJ1nF4"
      },
      "execution_count": null,
      "outputs": []
    },
    {
      "cell_type": "code",
      "source": [
        "predictions=model.predict(x_test)"
      ],
      "metadata": {
        "id": "ppVPx5EN1y14"
      },
      "execution_count": null,
      "outputs": []
    },
    {
      "cell_type": "code",
      "source": [
        "predictions=scaler.inverse_transform(predictions)"
      ],
      "metadata": {
        "id": "qIHE2P6J13Gy"
      },
      "execution_count": null,
      "outputs": []
    },
    {
      "cell_type": "code",
      "source": [
        "y_test.shape"
      ],
      "metadata": {
        "colab": {
          "base_uri": "https://localhost:8080/"
        },
        "id": "2W8tEd1a2TJv",
        "outputId": "6997fb52-6fda-47ab-dda4-6c6685e7b427"
      },
      "execution_count": null,
      "outputs": [
        {
          "output_type": "execute_result",
          "data": {
            "text/plain": [
              "(377, 1)"
            ]
          },
          "metadata": {},
          "execution_count": 587
        }
      ]
    },
    {
      "cell_type": "code",
      "source": [
        "rmse=np.sqrt(np.mean(((predictions-y_test)**2)))"
      ],
      "metadata": {
        "id": "UQA5Vd0w2fE2"
      },
      "execution_count": null,
      "outputs": []
    },
    {
      "cell_type": "code",
      "source": [
        "rmse"
      ],
      "metadata": {
        "colab": {
          "base_uri": "https://localhost:8080/"
        },
        "id": "yqn7GM9B2w3d",
        "outputId": "afa30116-8f70-4110-8718-2c4718fe10e7"
      },
      "execution_count": null,
      "outputs": [
        {
          "output_type": "execute_result",
          "data": {
            "text/plain": [
              "5.94562231845341"
            ]
          },
          "metadata": {},
          "execution_count": 589
        }
      ]
    },
    {
      "cell_type": "code",
      "source": [
        "train=apple_data[:training_data_len]\n",
        "valid=apple_data[training_data_len:]\n",
        "valid['prediction']=predictions"
      ],
      "metadata": {
        "colab": {
          "base_uri": "https://localhost:8080/"
        },
        "id": "s8Af1CDdmQX6",
        "outputId": "6464f83a-d21e-4997-f966-9c4962cae530"
      },
      "execution_count": null,
      "outputs": [
        {
          "output_type": "stream",
          "name": "stderr",
          "text": [
            "/usr/local/lib/python3.7/dist-packages/ipykernel_launcher.py:3: SettingWithCopyWarning: \n",
            "A value is trying to be set on a copy of a slice from a DataFrame.\n",
            "Try using .loc[row_indexer,col_indexer] = value instead\n",
            "\n",
            "See the caveats in the documentation: https://pandas.pydata.org/pandas-docs/stable/user_guide/indexing.html#returning-a-view-versus-a-copy\n",
            "  This is separate from the ipykernel package so we can avoid doing imports until\n"
          ]
        }
      ]
    },
    {
      "cell_type": "code",
      "source": [
        "plt.figure(figsize=(15,7))\n",
        "plt.plot(train['Close'])\n",
        "plt.plot(valid[['Close','prediction']])\n",
        "plt.title(\"Prediction of Apple Stock price\")\n",
        "plt.show()"
      ],
      "metadata": {
        "colab": {
          "base_uri": "https://localhost:8080/",
          "height": 444
        },
        "id": "wwOEUI-XmQaj",
        "outputId": "7610c6b7-efcc-4dbd-fc4f-e5a58a520586"
      },
      "execution_count": null,
      "outputs": [
        {
          "output_type": "display_data",
          "data": {
            "text/plain": [
              "<Figure size 1080x504 with 1 Axes>"
            ],
            "image/png": "[encoded data removed]"
          },
          "metadata": {
            "needs_background": "light"
          }
        }
      ]
    },
    {
      "cell_type": "code",
      "source": [],
      "metadata": {
        "id": "4wW1eYu0rGB4"
      },
      "execution_count": null,
      "outputs": []
    },
    {
      "cell_type": "code",
      "source": [
        "microsoft_data=MSFT.filter(['Close'])\n",
        "microsoft_data.head()"
      ],
      "metadata": {
        "colab": {
          "base_uri": "https://localhost:8080/",
          "height": 237
        },
        "outputId": "286f5b1c-520a-432f-d889-d8012b12d5f9",
        "id": "rJtdsEr1vCNF"
      },
      "execution_count": null,
      "outputs": [
        {
          "output_type": "execute_result",
          "data": {
            "text/plain": [
              "                Close\n",
              "Date                 \n",
              "2012-09-14  31.209999\n",
              "2012-09-17  31.209999\n",
              "2012-09-18  31.180000\n",
              "2012-09-19  31.049999\n",
              "2012-09-20  31.450001"
            ],
            "text/html": [
              "\n",
              "  <div id=\"df-bbd603f9-2234-4ddc-a36e-d91d03737965\">\n",
              "    <div class=\"colab-df-container\">\n",
              "      <div>\n",
              "<style scoped>\n",
              "    .dataframe tbody tr th:only-of-type {\n",
              "        vertical-align: middle;\n",
              "    }\n",
              "\n",
              "    .dataframe tbody tr th {\n",
              "        vertical-align: top;\n",
              "    }\n",
              "\n",
              "    .dataframe thead th {\n",
              "        text-align: right;\n",
              "    }\n",
              "</style>\n",
              "<table border=\"1\" class=\"dataframe\">\n",
              "  <thead>\n",
              "    <tr style=\"text-align: right;\">\n",
              "      <th></th>\n",
              "      <th>Close</th>\n",
              "    </tr>\n",
              "    <tr>\n",
              "      <th>Date</th>\n",
              "      <th></th>\n",
              "    </tr>\n",
              "  </thead>\n",
              "  <tbody>\n",
              "    <tr>\n",
              "      <th>2012-09-14</th>\n",
              "      <td>31.209999</td>\n",
              "    </tr>\n",
              "    <tr>\n",
              "      <th>2012-09-17</th>\n",
              "      <td>31.209999</td>\n",
              "    </tr>\n",
              "    <tr>\n",
              "      <th>2012-09-18</th>\n",
              "      <td>31.180000</td>\n",
              "    </tr>\n",
              "    <tr>\n",
              "      <th>2012-09-19</th>\n",
              "      <td>31.049999</td>\n",
              "    </tr>\n",
              "    <tr>\n",
              "      <th>2012-09-20</th>\n",
              "      <td>31.450001</td>\n",
              "    </tr>\n",
              "  </tbody>\n",
              "</table>\n",
              "</div>\n",
              "      <button class=\"colab-df-convert\" onclick=\"convertToInteractive('df-bbd603f9-2234-4ddc-a36e-d91d03737965')\"\n",
              "              title=\"Convert this dataframe to an interactive table.\"\n",
              "              style=\"display:none;\">\n",
              "        \n",
              "  <svg xmlns=\"http://www.w3.org/2000/svg\" height=\"24px\"viewBox=\"0 0 24 24\"\n",
              "       width=\"24px\">\n",
              "    <path d=\"M0 0h24v24H0V0z\" fill=\"none\"/>\n",
              "    <path d=\"M18.56 5.44l.94 2.06.94-2.06 2.06-.94-2.06-.94-.94-2.06-.94 2.06-2.06.94zm-11 1L8.5 8.5l.94-2.06 2.06-.94-2.06-.94L8.5 2.5l-.94 2.06-2.06.94zm10 10l.94 2.06.94-2.06 2.06-.94-2.06-.94-.94-2.06-.94 2.06-2.06.94z\"/><path d=\"M17.41 7.96l-1.37-1.37c-.4-.4-.92-.59-1.43-.59-.52 0-1.04.2-1.43.59L10.3 9.45l-7.72 7.72c-.78.78-.78 2.05 0 2.83L4 21.41c.39.39.9.59 1.41.59.51 0 1.02-.2 1.41-.59l7.78-7.78 2.81-2.81c.8-.78.8-2.07 0-2.86zM5.41 20L4 18.59l7.72-7.72 1.47 1.35L5.41 20z\"/>\n",
              "  </svg>\n",
              "      </button>\n",
              "      \n",
              "  <style>\n",
              "    .colab-df-container {\n",
              "      display:flex;\n",
              "      flex-wrap:wrap;\n",
              "      gap: 12px;\n",
              "    }\n",
              "\n",
              "    .colab-df-convert {\n",
              "      background-color: #E8F0FE;\n",
              "      border: none;\n",
              "      border-radius: 50%;\n",
              "      cursor: pointer;\n",
              "      display: none;\n",
              "      fill: #1967D2;\n",
              "      height: 32px;\n",
              "      padding: 0 0 0 0;\n",
              "      width: 32px;\n",
              "    }\n",
              "\n",
              "    .colab-df-convert:hover {\n",
              "      background-color: #E2EBFA;\n",
              "      box-shadow: 0px 1px 2px rgba(60, 64, 67, 0.3), 0px 1px 3px 1px rgba(60, 64, 67, 0.15);\n",
              "      fill: #174EA6;\n",
              "    }\n",
              "\n",
              "    [theme=dark] .colab-df-convert {\n",
              "      background-color: #3B4455;\n",
              "      fill: #D2E3FC;\n",
              "    }\n",
              "\n",
              "    [theme=dark] .colab-df-convert:hover {\n",
              "      background-color: #434B5C;\n",
              "      box-shadow: 0px 1px 3px 1px rgba(0, 0, 0, 0.15);\n",
              "      filter: drop-shadow(0px 1px 2px rgba(0, 0, 0, 0.3));\n",
              "      fill: #FFFFFF;\n",
              "    }\n",
              "  </style>\n",
              "\n",
              "      <script>\n",
              "        const buttonEl =\n",
              "          document.querySelector('#df-bbd603f9-2234-4ddc-a36e-d91d03737965 button.colab-df-convert');\n",
              "        buttonEl.style.display =\n",
              "          google.colab.kernel.accessAllowed ? 'block' : 'none';\n",
              "\n",
              "        async function convertToInteractive(key) {\n",
              "          const element = document.querySelector('#df-bbd603f9-2234-4ddc-a36e-d91d03737965');\n",
              "          const dataTable =\n",
              "            await google.colab.kernel.invokeFunction('convertToInteractive',\n",
              "                                                     [key], {});\n",
              "          if (!dataTable) return;\n",
              "\n",
              "          const docLinkHtml = 'Like what you see? Visit the ' +\n",
              "            '<a target=\"_blank\" href=https://colab.research.google.com/notebooks/data_table.ipynb>data table notebook</a>'\n",
              "            + ' to learn more about interactive tables.';\n",
              "          element.innerHTML = '';\n",
              "          dataTable['output_type'] = 'display_data';\n",
              "          await google.colab.output.renderOutput(dataTable, element);\n",
              "          const docLink = document.createElement('div');\n",
              "          docLink.innerHTML = docLinkHtml;\n",
              "          element.appendChild(docLink);\n",
              "        }\n",
              "      </script>\n",
              "    </div>\n",
              "  </div>\n",
              "  "
            ]
          },
          "metadata": {},
          "execution_count": 595
        }
      ]
    },
    {
      "cell_type": "code",
      "source": [
        "dataset=microsoft_data.values"
      ],
      "metadata": {
        "id": "Uzul1GemvCNF"
      },
      "execution_count": null,
      "outputs": []
    },
    {
      "cell_type": "code",
      "source": [
        "dataset"
      ],
      "metadata": {
        "colab": {
          "base_uri": "https://localhost:8080/"
        },
        "outputId": "08733102-cba8-4842-920a-1140b921e776",
        "id": "BRqUjUyBvCNF"
      },
      "execution_count": null,
      "outputs": [
        {
          "output_type": "execute_result",
          "data": {
            "text/plain": [
              "array([[ 31.20999908],\n",
              "       [ 31.20999908],\n",
              "       [ 31.18000031],\n",
              "       ...,\n",
              "       [266.6499939 ],\n",
              "       [251.99000549],\n",
              "       [252.22000122]])"
            ]
          },
          "metadata": {},
          "execution_count": 597
        }
      ]
    },
    {
      "cell_type": "code",
      "source": [
        "training_data_len=int(np.ceil(len(dataset)*.85))"
      ],
      "metadata": {
        "id": "py8r1DYMvCNG"
      },
      "execution_count": null,
      "outputs": []
    },
    {
      "cell_type": "code",
      "source": [
        "dataset.shape"
      ],
      "metadata": {
        "colab": {
          "base_uri": "https://localhost:8080/"
        },
        "outputId": "3a5d7194-8bba-4796-d340-3eff96a15566",
        "id": "USem678JvCNG"
      },
      "execution_count": null,
      "outputs": [
        {
          "output_type": "execute_result",
          "data": {
            "text/plain": [
              "(2516, 1)"
            ]
          },
          "metadata": {},
          "execution_count": 599
        }
      ]
    },
    {
      "cell_type": "code",
      "source": [
        "training_data_len"
      ],
      "metadata": {
        "colab": {
          "base_uri": "https://localhost:8080/"
        },
        "outputId": "df604185-cdbc-4ddb-f59d-1a9bbd386fa2",
        "id": "bllSZrkWvCNG"
      },
      "execution_count": null,
      "outputs": [
        {
          "output_type": "execute_result",
          "data": {
            "text/plain": [
              "2139"
            ]
          },
          "metadata": {},
          "execution_count": 600
        }
      ]
    },
    {
      "cell_type": "code",
      "source": [
        "from sklearn.preprocessing import MinMaxScaler\n"
      ],
      "metadata": {
        "id": "hNKeg-kkvCNG"
      },
      "execution_count": null,
      "outputs": []
    },
    {
      "cell_type": "code",
      "source": [
        "scaler=MinMaxScaler(feature_range=(0,1))\n",
        "scaled_data=scaler.fit_transform(dataset)"
      ],
      "metadata": {
        "id": "20IPAIlVvCNG"
      },
      "execution_count": null,
      "outputs": []
    },
    {
      "cell_type": "code",
      "source": [
        "scaled_data[:5]"
      ],
      "metadata": {
        "colab": {
          "base_uri": "https://localhost:8080/"
        },
        "outputId": "30a95609-93ab-4fc7-fb44-53a9220526b3",
        "id": "3Of8TNvKvCNG"
      },
      "execution_count": null,
      "outputs": [
        {
          "output_type": "execute_result",
          "data": {
            "text/plain": [
              "array([[0.01528067],\n",
              "       [0.01528067],\n",
              "       [0.01518596],\n",
              "       [0.01477552],\n",
              "       [0.01603839]])"
            ]
          },
          "metadata": {},
          "execution_count": 603
        }
      ]
    },
    {
      "cell_type": "code",
      "source": [
        "train_data=scaled_data[0:int(training_data_len),:]"
      ],
      "metadata": {
        "id": "HMLwF4CKvCNG"
      },
      "execution_count": null,
      "outputs": []
    },
    {
      "cell_type": "code",
      "source": [
        "x_train=[]\n",
        "y_train=[]\n",
        "for i in range(60,len(train_data)):\n",
        "  x_train.append(train_data[i-60:i,0])\n",
        "  y_train.append(train_data[i,0])"
      ],
      "metadata": {
        "id": "k8sjUD_1vCNH"
      },
      "execution_count": null,
      "outputs": []
    },
    {
      "cell_type": "code",
      "source": [
        "print(x_train[:5])"
      ],
      "metadata": {
        "colab": {
          "base_uri": "https://localhost:8080/"
        },
        "outputId": "9a6fde85-e037-4c67-aded-254ccd1ef554",
        "id": "HfFCsHB1vCNH"
      },
      "execution_count": null,
      "outputs": [
        {
          "output_type": "stream",
          "name": "stdout",
          "text": [
            "[array([0.01528067, 0.01528067, 0.01518596, 0.01477552, 0.01603839,\n",
            "       0.01521753, 0.01392309, 0.01269179, 0.01199722, 0.01196565,\n",
            "       0.01070278, 0.00985035, 0.01038707, 0.0110185 , 0.01155522,\n",
            "       0.01098693, 0.01076593, 0.00918735, 0.00824019, 0.00814548,\n",
            "       0.00893477, 0.00991349, 0.00985035, 0.01016607, 0.00988192,\n",
            "       0.00716676, 0.00514617, 0.00530403, 0.00483046, 0.00476731,\n",
            "       0.00580918, 0.00685105, 0.00994506, 0.00988192, 0.01029235,\n",
            "       0.0110185 , 0.00855591, 0.00770348, 0.00776662, 0.00584075,\n",
            "       0.00227316, 0.00148386, 0.00091557, 0.00047357, 0.00113657,\n",
            "       0.00107343, 0.00183115, 0.00419903, 0.0032203 , 0.00224158,\n",
            "       0.00312559, 0.00183115, 0.00078929, 0.00018943, 0.        ,\n",
            "       0.00094715, 0.00113657, 0.00028414, 0.00179958, 0.0029993 ]), array([0.01528067, 0.01518596, 0.01477552, 0.01603839, 0.01521753,\n",
            "       0.01392309, 0.01269179, 0.01199722, 0.01196565, 0.01070278,\n",
            "       0.00985035, 0.01038707, 0.0110185 , 0.01155522, 0.01098693,\n",
            "       0.01076593, 0.00918735, 0.00824019, 0.00814548, 0.00893477,\n",
            "       0.00991349, 0.00985035, 0.01016607, 0.00988192, 0.00716676,\n",
            "       0.00514617, 0.00530403, 0.00483046, 0.00476731, 0.00580918,\n",
            "       0.00685105, 0.00994506, 0.00988192, 0.01029235, 0.0110185 ,\n",
            "       0.00855591, 0.00770348, 0.00776662, 0.00584075, 0.00227316,\n",
            "       0.00148386, 0.00091557, 0.00047357, 0.00113657, 0.00107343,\n",
            "       0.00183115, 0.00419903, 0.0032203 , 0.00224158, 0.00312559,\n",
            "       0.00183115, 0.00078929, 0.00018943, 0.        , 0.00094715,\n",
            "       0.00113657, 0.00028414, 0.00179958, 0.0029993 , 0.00274673]), array([0.01518596, 0.01477552, 0.01603839, 0.01521753, 0.01392309,\n",
            "       0.01269179, 0.01199722, 0.01196565, 0.01070278, 0.00985035,\n",
            "       0.01038707, 0.0110185 , 0.01155522, 0.01098693, 0.01076593,\n",
            "       0.00918735, 0.00824019, 0.00814548, 0.00893477, 0.00991349,\n",
            "       0.00985035, 0.01016607, 0.00988192, 0.00716676, 0.00514617,\n",
            "       0.00530403, 0.00483046, 0.00476731, 0.00580918, 0.00685105,\n",
            "       0.00994506, 0.00988192, 0.01029235, 0.0110185 , 0.00855591,\n",
            "       0.00770348, 0.00776662, 0.00584075, 0.00227316, 0.00148386,\n",
            "       0.00091557, 0.00047357, 0.00113657, 0.00107343, 0.00183115,\n",
            "       0.00419903, 0.0032203 , 0.00224158, 0.00312559, 0.00183115,\n",
            "       0.00078929, 0.00018943, 0.        , 0.00094715, 0.00113657,\n",
            "       0.00028414, 0.00179958, 0.0029993 , 0.00274673, 0.0023363 ]), array([0.01477552, 0.01603839, 0.01521753, 0.01392309, 0.01269179,\n",
            "       0.01199722, 0.01196565, 0.01070278, 0.00985035, 0.01038707,\n",
            "       0.0110185 , 0.01155522, 0.01098693, 0.01076593, 0.00918735,\n",
            "       0.00824019, 0.00814548, 0.00893477, 0.00991349, 0.00985035,\n",
            "       0.01016607, 0.00988192, 0.00716676, 0.00514617, 0.00530403,\n",
            "       0.00483046, 0.00476731, 0.00580918, 0.00685105, 0.00994506,\n",
            "       0.00988192, 0.01029235, 0.0110185 , 0.00855591, 0.00770348,\n",
            "       0.00776662, 0.00584075, 0.00227316, 0.00148386, 0.00091557,\n",
            "       0.00047357, 0.00113657, 0.00107343, 0.00183115, 0.00419903,\n",
            "       0.0032203 , 0.00224158, 0.00312559, 0.00183115, 0.00078929,\n",
            "       0.00018943, 0.        , 0.00094715, 0.00113657, 0.00028414,\n",
            "       0.00179958, 0.0029993 , 0.00274673, 0.0023363 , 0.00138915]), array([0.01603839, 0.01521753, 0.01392309, 0.01269179, 0.01199722,\n",
            "       0.01196565, 0.01070278, 0.00985035, 0.01038707, 0.0110185 ,\n",
            "       0.01155522, 0.01098693, 0.01076593, 0.00918735, 0.00824019,\n",
            "       0.00814548, 0.00893477, 0.00991349, 0.00985035, 0.01016607,\n",
            "       0.00988192, 0.00716676, 0.00514617, 0.00530403, 0.00483046,\n",
            "       0.00476731, 0.00580918, 0.00685105, 0.00994506, 0.00988192,\n",
            "       0.01029235, 0.0110185 , 0.00855591, 0.00770348, 0.00776662,\n",
            "       0.00584075, 0.00227316, 0.00148386, 0.00091557, 0.00047357,\n",
            "       0.00113657, 0.00107343, 0.00183115, 0.00419903, 0.0032203 ,\n",
            "       0.00224158, 0.00312559, 0.00183115, 0.00078929, 0.00018943,\n",
            "       0.        , 0.00094715, 0.00113657, 0.00028414, 0.00179958,\n",
            "       0.0029993 , 0.00274673, 0.0023363 , 0.00138915, 0.00230473])]\n"
          ]
        }
      ]
    },
    {
      "cell_type": "code",
      "source": [
        "x_train,y_train=np.array(x_train),np.array(y_train)"
      ],
      "metadata": {
        "id": "KDaRkVRFvCNH"
      },
      "execution_count": null,
      "outputs": []
    },
    {
      "cell_type": "code",
      "source": [
        "x_train.shape"
      ],
      "metadata": {
        "colab": {
          "base_uri": "https://localhost:8080/"
        },
        "outputId": "af7d4ee8-a53f-4246-fb39-c89beeb2784d",
        "id": "sinStGklvCNH"
      },
      "execution_count": null,
      "outputs": [
        {
          "output_type": "execute_result",
          "data": {
            "text/plain": [
              "(2079, 60)"
            ]
          },
          "metadata": {},
          "execution_count": 608
        }
      ]
    },
    {
      "cell_type": "code",
      "source": [
        "x_train=np.reshape(x_train,(x_train.shape[0],x_train.shape[1],1))"
      ],
      "metadata": {
        "id": "oqijHmqMvCNH"
      },
      "execution_count": null,
      "outputs": []
    },
    {
      "cell_type": "code",
      "source": [
        "x_train.shape"
      ],
      "metadata": {
        "colab": {
          "base_uri": "https://localhost:8080/"
        },
        "outputId": "24541f37-e654-48c8-e3a0-606b2d6042c6",
        "id": "Fa3OorX2vCNH"
      },
      "execution_count": null,
      "outputs": [
        {
          "output_type": "execute_result",
          "data": {
            "text/plain": [
              "(2079, 60, 1)"
            ]
          },
          "metadata": {},
          "execution_count": 610
        }
      ]
    },
    {
      "cell_type": "code",
      "source": [
        "#build the model\n",
        "from keras.models import Sequential\n",
        "from keras.layers import Dense, LSTM, Bidirectional\n",
        "model=Sequential()\n",
        "model.add(Bidirectional(LSTM(128,return_sequences=True,input_shape=(x_train.shape[1],1))))\n",
        "model.add(Bidirectional(LSTM(64,return_sequences=True)))\n",
        "model.add(Bidirectional(LSTM(16,return_sequences=False)))\n",
        "model.add(Dense(25))\n",
        "model.add(Dense(1))"
      ],
      "metadata": {
        "id": "VizZXITVvCNH"
      },
      "execution_count": null,
      "outputs": []
    },
    {
      "cell_type": "code",
      "source": [
        "#model.summary()"
      ],
      "metadata": {
        "id": "BPEkEdbKvCNH"
      },
      "execution_count": null,
      "outputs": []
    },
    {
      "cell_type": "code",
      "source": [
        "from keras.callbacks import EarlyStopping\n",
        "earlystop=EarlyStopping(monitor='loss',min_delta=0,patience=3,verbose=1,\n",
        "                        restore_best_weights=True)"
      ],
      "metadata": {
        "id": "w7vGDeBAvCNI"
      },
      "execution_count": null,
      "outputs": []
    },
    {
      "cell_type": "code",
      "source": [
        "model.compile(optimizer='adam',loss='mean_squared_error')\n"
      ],
      "metadata": {
        "id": "N0cGsS2zvCNI"
      },
      "execution_count": null,
      "outputs": []
    },
    {
      "cell_type": "code",
      "source": [
        "model.fit(x_train,y_train,batch_size=2,callbacks=[earlystop],epochs=50)"
      ],
      "metadata": {
        "colab": {
          "base_uri": "https://localhost:8080/"
        },
        "outputId": "cc078ff3-5d72-4856-8de6-0f3af25289de",
        "id": "6Olvgvn6vCNI"
      },
      "execution_count": null,
      "outputs": [
        {
          "output_type": "stream",
          "name": "stdout",
          "text": [
            "Epoch 1/50\n",
            "1040/1040 [==============================] - 28s 18ms/step - loss: 8.2923e-04\n",
            "Epoch 2/50\n",
            "1040/1040 [==============================] - 24s 23ms/step - loss: 3.2830e-04\n",
            "Epoch 3/50\n",
            "1040/1040 [==============================] - 22s 21ms/step - loss: 3.4208e-04\n",
            "Epoch 4/50\n",
            "1040/1040 [==============================] - 24s 23ms/step - loss: 1.9535e-04\n",
            "Epoch 5/50\n",
            "1040/1040 [==============================] - 19s 19ms/step - loss: 2.5104e-04\n",
            "Epoch 6/50\n",
            "1040/1040 [==============================] - 19s 18ms/step - loss: 1.5833e-04\n",
            "Epoch 7/50\n",
            "1040/1040 [==============================] - 20s 19ms/step - loss: 2.3169e-04\n",
            "Epoch 8/50\n",
            "1040/1040 [==============================] - 19s 18ms/step - loss: 1.6947e-04\n",
            "Epoch 9/50\n",
            "1040/1040 [==============================] - 19s 18ms/step - loss: 1.4269e-04\n",
            "Epoch 10/50\n",
            "1040/1040 [==============================] - 19s 18ms/step - loss: 1.5985e-04\n",
            "Epoch 11/50\n",
            "1040/1040 [==============================] - 20s 19ms/step - loss: 1.1502e-04\n",
            "Epoch 12/50\n",
            "1040/1040 [==============================] - 19s 18ms/step - loss: 1.7895e-04\n",
            "Epoch 13/50\n",
            "1040/1040 [==============================] - 19s 18ms/step - loss: 1.1603e-04\n",
            "Epoch 14/50\n",
            "1040/1040 [==============================] - ETA: 0s - loss: 1.1794e-04Restoring model weights from the end of the best epoch: 11.\n",
            "1040/1040 [==============================] - 19s 18ms/step - loss: 1.1794e-04\n",
            "Epoch 14: early stopping\n"
          ]
        },
        {
          "output_type": "execute_result",
          "data": {
            "text/plain": [
              "<keras.callbacks.History at 0x7f23d7879a90>"
            ]
          },
          "metadata": {},
          "execution_count": 615
        }
      ]
    },
    {
      "cell_type": "code",
      "source": [
        "test_data=scaled_data[training_data_len-60:,:]"
      ],
      "metadata": {
        "id": "VpTFrTcNvCNI"
      },
      "execution_count": null,
      "outputs": []
    },
    {
      "cell_type": "code",
      "source": [
        "test_data.shape"
      ],
      "metadata": {
        "colab": {
          "base_uri": "https://localhost:8080/"
        },
        "outputId": "d96f28b4-38b5-4884-f9b6-4bed8c04d040",
        "id": "YexrFAAbvCNI"
      },
      "execution_count": null,
      "outputs": [
        {
          "output_type": "execute_result",
          "data": {
            "text/plain": [
              "(437, 1)"
            ]
          },
          "metadata": {},
          "execution_count": 617
        }
      ]
    },
    {
      "cell_type": "code",
      "source": [
        "x_test=[]\n",
        "y_test=dataset[training_data_len:,:]\n",
        "\n",
        "for i in range(60,len(test_data)):\n",
        "  x_test.append(test_data[i-60:i,0])\n"
      ],
      "metadata": {
        "id": "2lC1IyB3vCNI"
      },
      "execution_count": null,
      "outputs": []
    },
    {
      "cell_type": "code",
      "source": [
        "type(x_test)"
      ],
      "metadata": {
        "colab": {
          "base_uri": "https://localhost:8080/"
        },
        "outputId": "de7fa8b9-98df-4134-838d-5b6fc5fb7de3",
        "id": "41FmUkbbvCNI"
      },
      "execution_count": null,
      "outputs": [
        {
          "output_type": "execute_result",
          "data": {
            "text/plain": [
              "list"
            ]
          },
          "metadata": {},
          "execution_count": 619
        }
      ]
    },
    {
      "cell_type": "code",
      "source": [
        "x_test=np.array(x_test)"
      ],
      "metadata": {
        "id": "BqVkzTx_vCNI"
      },
      "execution_count": null,
      "outputs": []
    },
    {
      "cell_type": "code",
      "source": [
        "x_test=np.reshape(x_test,(x_test.shape[0],x_test.shape[1],1))"
      ],
      "metadata": {
        "id": "Uq5pCLwvvCNI"
      },
      "execution_count": null,
      "outputs": []
    },
    {
      "cell_type": "code",
      "source": [
        "predictions=model.predict(x_test)"
      ],
      "metadata": {
        "id": "q8s7BFSNvCNJ"
      },
      "execution_count": null,
      "outputs": []
    },
    {
      "cell_type": "code",
      "source": [
        "predictions=scaler.inverse_transform(predictions)"
      ],
      "metadata": {
        "id": "FwW0nbOdvCNJ"
      },
      "execution_count": null,
      "outputs": []
    },
    {
      "cell_type": "code",
      "source": [
        "y_test.shape"
      ],
      "metadata": {
        "colab": {
          "base_uri": "https://localhost:8080/"
        },
        "outputId": "6674e4d2-025e-40ac-9dad-0fc13404d48d",
        "id": "W7DMoQb0vCNJ"
      },
      "execution_count": null,
      "outputs": [
        {
          "output_type": "execute_result",
          "data": {
            "text/plain": [
              "(377, 1)"
            ]
          },
          "metadata": {},
          "execution_count": 624
        }
      ]
    },
    {
      "cell_type": "code",
      "source": [
        "rmse=np.sqrt(np.mean(((predictions-y_test)**2)))"
      ],
      "metadata": {
        "id": "LDcY9I2xvCNJ"
      },
      "execution_count": null,
      "outputs": []
    },
    {
      "cell_type": "code",
      "source": [
        "rmse"
      ],
      "metadata": {
        "colab": {
          "base_uri": "https://localhost:8080/"
        },
        "outputId": "c7031cf9-c6e0-4470-e411-8437d1e116e3",
        "id": "xI0s5HXivCNJ"
      },
      "execution_count": null,
      "outputs": [
        {
          "output_type": "execute_result",
          "data": {
            "text/plain": [
              "7.269240178276667"
            ]
          },
          "metadata": {},
          "execution_count": 626
        }
      ]
    },
    {
      "cell_type": "code",
      "source": [
        "train=microsoft_data[:training_data_len]\n",
        "valid=microsoft_data[training_data_len:]\n",
        "valid['prediction']=predictions"
      ],
      "metadata": {
        "colab": {
          "base_uri": "https://localhost:8080/"
        },
        "outputId": "c70387a8-22c5-4541-b80a-574dcd388640",
        "id": "bH_zJYKFvCNJ"
      },
      "execution_count": null,
      "outputs": [
        {
          "output_type": "stream",
          "name": "stderr",
          "text": [
            "/usr/local/lib/python3.7/dist-packages/ipykernel_launcher.py:3: SettingWithCopyWarning: \n",
            "A value is trying to be set on a copy of a slice from a DataFrame.\n",
            "Try using .loc[row_indexer,col_indexer] = value instead\n",
            "\n",
            "See the caveats in the documentation: https://pandas.pydata.org/pandas-docs/stable/user_guide/indexing.html#returning-a-view-versus-a-copy\n",
            "  This is separate from the ipykernel package so we can avoid doing imports until\n"
          ]
        }
      ]
    },
    {
      "cell_type": "code",
      "source": [
        "plt.figure(figsize=(15,7))\n",
        "plt.plot(train['Close'])\n",
        "plt.plot(valid[['Close','prediction']])\n",
        "plt.title(\"Prediction of Microsoft Stock price\")\n",
        "plt.show()"
      ],
      "metadata": {
        "colab": {
          "base_uri": "https://localhost:8080/",
          "height": 444
        },
        "outputId": "19c07ec2-63ff-44e1-b7fc-0efaf61bf0a0",
        "id": "W5KNSefnvCNJ"
      },
      "execution_count": null,
      "outputs": [
        {
          "output_type": "display_data",
          "data": {
            "text/plain": [
              "<Figure size 1080x504 with 1 Axes>"
            ],
            "image/png": "[encoded data removed]"
          },
          "metadata": {
            "needs_background": "light"
          }
        }
      ]
    },
    {
      "cell_type": "code",
      "source": [
        "MSFT[\"Close\"].plot()\n",
        "AAPL[\"Close\"].plot()\n",
        "plt.legend([\"Microsoft\",\"Apple\"])"
      ],
      "metadata": {
        "colab": {
          "base_uri": "https://localhost:8080/",
          "height": 286
        },
        "id": "uxM0HTc3rGda",
        "outputId": "ead77ef4-ac0c-4607-ffd3-265f21e758e0"
      },
      "execution_count": null,
      "outputs": [
        {
          "output_type": "execute_result",
          "data": {
            "text/plain": [
              "<matplotlib.legend.Legend at 0x7f23d2e22990>"
            ]
          },
          "metadata": {},
          "execution_count": 635
        },
        {
          "output_type": "display_data",
          "data": {
            "text/plain": [
              "<Figure size 432x288 with 1 Axes>"
            ],
            "image/png": "[encoded data removed]"
          },
          "metadata": {
            "needs_background": "light"
          }
        }
      ]
    },
    {
      "cell_type": "markdown",
      "source": [
        "Question 3"
      ],
      "metadata": {
        "id": "EUfe3jU8gll8"
      }
    },
    {
      "cell_type": "code",
      "source": [
        "import pandas as pd\n",
        "import numpy as np\n",
        "import matplotlib.pyplot as plt\n",
        "from keras.models import Sequential, Model\n",
        "from keras.layers import Dense, Conv2D, Flatten, MaxPooling2D, UpSampling2D, Input\n",
        "from keras.preprocessing import image\n",
        "from math import log10,sqrt\n",
        "from tqdm import tqdm #progress bar"
      ],
      "metadata": {
        "id": "2AkXQ_YVgicY"
      },
      "execution_count": null,
      "outputs": []
    },
    {
      "cell_type": "code",
      "source": [
        "from google.colab import drive\n",
        "drive.mount('/content/drive')"
      ],
      "metadata": {
        "colab": {
          "base_uri": "https://localhost:8080/"
        },
        "id": "FKbxWAEckumn",
        "outputId": "b9edee63-3621-45b1-8102-c10a4ccbe668"
      },
      "execution_count": null,
      "outputs": [
        {
          "output_type": "stream",
          "name": "stdout",
          "text": [
            "Drive already mounted at /content/drive; to attempt to forcibly remount, call drive.mount(\"/content/drive\", force_remount=True).\n"
          ]
        }
      ]
    },
    {
      "cell_type": "code",
      "source": [
        "test_path = \"/content/drive/MyDrive/Butterfly Dataset/test\"\n",
        "train_path = \"/content/drive/MyDrive/Butterfly Dataset/train\""
      ],
      "metadata": {
        "id": "pLXEgkWwkyfb"
      },
      "execution_count": null,
      "outputs": []
    },
    {
      "cell_type": "code",
      "source": [
        "import os\n",
        "train=[]\n",
        "for filename in os.listdir(train_path):\n",
        "  #print(filename)\n",
        "  if filename.endswith(\".jpg\"):\n",
        "    img=image.load_img(train_path+\"/\"+filename,target_size=(128,128))\n",
        "    img = image.img_to_array(img)\n",
        "    train.append(img)\n",
        "train =np.array(train)\n",
        "\n",
        "test=[]\n",
        "for filename in os.listdir(test_path):\n",
        "  #print(filename)\n",
        "  if filename.endswith(\".jpg\"):\n",
        "    img=image.load_img(test_path+\"/\"+filename,target_size=(128,128))\n",
        "    img = image.img_to_array(img)\n",
        "    test.append(img)\n",
        "test =np.array(test)"
      ],
      "metadata": {
        "id": "t66WOBTeloQF"
      },
      "execution_count": null,
      "outputs": []
    },
    {
      "cell_type": "code",
      "execution_count": null,
      "metadata": {
        "id": "kE7D_aVprENp"
      },
      "outputs": [],
      "source": [
        "import numpy\n",
        "import matplotlib.pyplot as plt\n",
        "from keras.models import Sequential, Model,Input\n",
        "from keras.layers import Dense,Conv2D, MaxPooling2D,Conv2DTranspose\n",
        "from keras.datasets import mnist"
      ]
    },
    {
      "cell_type": "code",
      "source": [
        "x_train = train.astype('float32')/255\n",
        "x_test = test.astype('float32')/255"
      ],
      "metadata": {
        "id": "OzArUGntl28s"
      },
      "execution_count": null,
      "outputs": []
    },
    {
      "cell_type": "code",
      "source": [
        "x_train.shape"
      ],
      "metadata": {
        "colab": {
          "base_uri": "https://localhost:8080/"
        },
        "id": "yIB3ctUqrnq6",
        "outputId": "5d1ee5c3-4e03-4622-9914-4451f705cc9f"
      },
      "execution_count": null,
      "outputs": [
        {
          "output_type": "execute_result",
          "data": {
            "text/plain": [
              "(40, 128, 128, 3)"
            ]
          },
          "metadata": {},
          "execution_count": 331
        }
      ]
    },
    {
      "cell_type": "code",
      "source": [
        "#plt.subplot(221)\n",
        "plt.imshow(x_train[4])\n",
        "plt.show()"
      ],
      "metadata": {
        "colab": {
          "base_uri": "https://localhost:8080/",
          "height": 268
        },
        "id": "miLui1zArjgo",
        "outputId": "b68e9431-4f99-40e5-ed5f-5b30e66923e3"
      },
      "execution_count": null,
      "outputs": [
        {
          "output_type": "display_data",
          "data": {
            "text/plain": [
              "<Figure size 432x288 with 1 Axes>"
            ],
            "image/png": "[encoded data removed]"
          },
          "metadata": {
            "needs_background": "light"
          }
        }
      ]
    },
    {
      "cell_type": "code",
      "source": [
        "num_pixels=x_train.shape[1]*x_train.shape[2]\n",
        "num_pixels"
      ],
      "metadata": {
        "colab": {
          "base_uri": "https://localhost:8080/"
        },
        "id": "ssqHOfgtsHse",
        "outputId": "026f458a-8e6c-468d-a190-c84011db2cf0"
      },
      "execution_count": null,
      "outputs": [
        {
          "output_type": "execute_result",
          "data": {
            "text/plain": [
              "16384"
            ]
          },
          "metadata": {},
          "execution_count": 333
        }
      ]
    },
    {
      "cell_type": "code",
      "source": [
        "x_train.shape"
      ],
      "metadata": {
        "colab": {
          "base_uri": "https://localhost:8080/"
        },
        "id": "3TYVyls8smDD",
        "outputId": "cd9c3ef6-4373-48f6-a197-1b5c701f0bc9"
      },
      "execution_count": null,
      "outputs": [
        {
          "output_type": "execute_result",
          "data": {
            "text/plain": [
              "(40, 128, 128, 3)"
            ]
          },
          "metadata": {},
          "execution_count": 334
        }
      ]
    },
    {
      "cell_type": "code",
      "source": [
        "x_train=x_train.reshape(len(x_train),num_pixels,3)"
      ],
      "metadata": {
        "id": "-0o8LSfvsv65"
      },
      "execution_count": null,
      "outputs": []
    },
    {
      "cell_type": "code",
      "source": [
        "x_train.shape"
      ],
      "metadata": {
        "colab": {
          "base_uri": "https://localhost:8080/"
        },
        "id": "Pfr3-q0Ys3qx",
        "outputId": "fb7ff60d-16a8-4740-c3bf-3ff6e740eb61"
      },
      "execution_count": null,
      "outputs": [
        {
          "output_type": "execute_result",
          "data": {
            "text/plain": [
              "(40, 16384, 3)"
            ]
          },
          "metadata": {},
          "execution_count": 336
        }
      ]
    },
    {
      "cell_type": "code",
      "source": [
        "x_test.shape"
      ],
      "metadata": {
        "colab": {
          "base_uri": "https://localhost:8080/"
        },
        "id": "06nt0hLPL0jT",
        "outputId": "303b1161-91cc-4418-d5b2-1c8146553fce"
      },
      "execution_count": null,
      "outputs": [
        {
          "output_type": "execute_result",
          "data": {
            "text/plain": [
              "(20, 128, 128, 3)"
            ]
          },
          "metadata": {},
          "execution_count": 337
        }
      ]
    },
    {
      "cell_type": "code",
      "source": [
        "x_test=x_test.reshape(len(x_test),num_pixels,3)"
      ],
      "metadata": {
        "id": "uv59B6TMs9VL"
      },
      "execution_count": null,
      "outputs": []
    },
    {
      "cell_type": "code",
      "source": [
        "x_test.shape"
      ],
      "metadata": {
        "colab": {
          "base_uri": "https://localhost:8080/"
        },
        "id": "7f6f-c83tCzY",
        "outputId": "a9624016-f01a-404b-ed63-ec61223e3f17"
      },
      "execution_count": null,
      "outputs": [
        {
          "output_type": "execute_result",
          "data": {
            "text/plain": [
              "(20, 16384, 3)"
            ]
          },
          "metadata": {},
          "execution_count": 339
        }
      ]
    },
    {
      "cell_type": "code",
      "source": [
        "import numpy as np\n",
        "noise_factor=0.2\n",
        "x_train_noisy=x_train+noise_factor*np.random.normal(loc=0.0,scale=1.0,size=x_train.shape)\n",
        "x_test_noisy=x_test+noise_factor*np.random.normal(loc=0.0,scale=1.0,size=x_test.shape)\n"
      ],
      "metadata": {
        "id": "Czwm6rPEtTJF"
      },
      "execution_count": null,
      "outputs": []
    },
    {
      "cell_type": "code",
      "source": [
        "x_train_noisy=numpy.clip(x_train_noisy,0.,1.)\n",
        "x_test_noisy=numpy.clip(x_test_noisy,0.,1.)\n"
      ],
      "metadata": {
        "id": "65iGA3FbuM4N"
      },
      "execution_count": null,
      "outputs": []
    },
    {
      "cell_type": "code",
      "source": [
        "plt.imshow(x_train_noisy[1].reshape(128,128,3))\n",
        "plt.show()"
      ],
      "metadata": {
        "colab": {
          "base_uri": "https://localhost:8080/",
          "height": 268
        },
        "id": "Lgy0SQrqu3bF",
        "outputId": "ca423947-ef9d-4797-d590-ad84623fdd58"
      },
      "execution_count": null,
      "outputs": [
        {
          "output_type": "display_data",
          "data": {
            "text/plain": [
              "<Figure size 432x288 with 1 Axes>"
            ],
            "image/png": "[encoded data removed]"
          },
          "metadata": {
            "needs_background": "light"
          }
        }
      ]
    },
    {
      "cell_type": "code",
      "source": [
        "plt.imshow(x_train[1].reshape(128,128,3))\n",
        "plt.show()"
      ],
      "metadata": {
        "colab": {
          "base_uri": "https://localhost:8080/",
          "height": 268
        },
        "id": "3tRdl0xMSWAJ",
        "outputId": "47e20129-9c8b-4e28-ae8c-560e949687b7"
      },
      "execution_count": null,
      "outputs": [
        {
          "output_type": "display_data",
          "data": {
            "text/plain": [
              "<Figure size 432x288 with 1 Axes>"
            ],
            "image/png": "[encoded data removed]"
          },
          "metadata": {
            "needs_background": "light"
          }
        }
      ]
    },
    {
      "cell_type": "code",
      "source": [
        "#create the model\n",
        "model=Sequential()\n",
        "model.add(Dense(600,input_shape=(num_pixels,3),activation='relu'))\n",
        "model.add(Dense(500,activation='relu'))\n",
        "\n",
        "model.add(Dense(100,activation='relu'))#code layer\n",
        "#decoder\n",
        "\n",
        "model.add(Dense(500,activation='relu'))\n",
        "model.add(Dense(600,activation='relu'))\n",
        "model.add(Dense(3,activation='sigmoid'))\n",
        "\n",
        "model.summary()"
      ],
      "metadata": {
        "id": "_IDRwzj0vHO_",
        "colab": {
          "base_uri": "https://localhost:8080/"
        },
        "outputId": "8cc68fff-b5d6-4a3e-b4c2-4e9c04595d47"
      },
      "execution_count": null,
      "outputs": [
        {
          "output_type": "stream",
          "name": "stdout",
          "text": [
            "Model: \"sequential_24\"\n",
            "_________________________________________________________________\n",
            " Layer (type)                Output Shape              Param #   \n",
            "=================================================================\n",
            " dense_187 (Dense)           (None, 16384, 600)        2400      \n",
            "                                                                 \n",
            " dense_188 (Dense)           (None, 16384, 500)        300500    \n",
            "                                                                 \n",
            " dense_189 (Dense)           (None, 16384, 100)        50100     \n",
            "                                                                 \n",
            " dense_190 (Dense)           (None, 16384, 500)        50500     \n",
            "                                                                 \n",
            " dense_191 (Dense)           (None, 16384, 600)        300600    \n",
            "                                                                 \n",
            " dense_192 (Dense)           (None, 16384, 3)          1803      \n",
            "                                                                 \n",
            "=================================================================\n",
            "Total params: 705,903\n",
            "Trainable params: 705,903\n",
            "Non-trainable params: 0\n",
            "_________________________________________________________________\n"
          ]
        }
      ]
    },
    {
      "cell_type": "code",
      "source": [
        "import keras\n",
        "input_img = keras.Input(shape=(num_pixels,3))\n",
        "encoded = Dense(128,activation='relu')(input_img)\n",
        "encoded = Dense(64,activation=\"relu\")(encoded)\n",
        "encoded = Dense(32,activation=\"relu\")(encoded)\n",
        "\n",
        "decoded = Dense(64,activation=\"relu\")(encoded)\n",
        "decoded = Dense(128,activation=\"relu\")(decoded)\n",
        "decoded = Dense(3,activation=\"sigmoid\")(decoded)\n",
        "\n",
        "model = Model(input_img,decoded)\n",
        "\n",
        "model.summary()"
      ],
      "metadata": {
        "colab": {
          "base_uri": "https://localhost:8080/"
        },
        "id": "MljI0gJXVvxK",
        "outputId": "f121f325-7896-4ea7-cf16-711b701c948f"
      },
      "execution_count": null,
      "outputs": [
        {
          "output_type": "stream",
          "name": "stdout",
          "text": [
            "Model: \"model_35\"\n",
            "_________________________________________________________________\n",
            " Layer (type)                Output Shape              Param #   \n",
            "=================================================================\n",
            " input_14 (InputLayer)       [(None, 16384, 3)]        0         \n",
            "                                                                 \n",
            " dense_193 (Dense)           (None, 16384, 128)        512       \n",
            "                                                                 \n",
            " dense_194 (Dense)           (None, 16384, 64)         8256      \n",
            "                                                                 \n",
            " dense_195 (Dense)           (None, 16384, 32)         2080      \n",
            "                                                                 \n",
            " dense_196 (Dense)           (None, 16384, 64)         2112      \n",
            "                                                                 \n",
            " dense_197 (Dense)           (None, 16384, 128)        8320      \n",
            "                                                                 \n",
            " dense_198 (Dense)           (None, 16384, 3)          387       \n",
            "                                                                 \n",
            "=================================================================\n",
            "Total params: 21,667\n",
            "Trainable params: 21,667\n",
            "Non-trainable params: 0\n",
            "_________________________________________________________________\n"
          ]
        }
      ]
    },
    {
      "cell_type": "code",
      "source": [
        "model.compile(optimizer='adam',loss='mean_squared_error')\n",
        "model.fit(x_train_noisy,x_train_noisy,epochs=100,batch_size=300,validation_data=(x_test_noisy,x_test_noisy))"
      ],
      "metadata": {
        "id": "_89d76MuwbWc",
        "colab": {
          "base_uri": "https://localhost:8080/",
          "height": 1000
        },
        "outputId": "a9fc5d7e-a8f5-4672-8a69-72cf7422e24d"
      },
      "execution_count": null,
      "outputs": [
        {
          "output_type": "stream",
          "name": "stdout",
          "text": [
            "Epoch 1/100\n",
            "1/1 [==============================] - 1s 1s/step - loss: 0.1134 - val_loss: 0.1103\n",
            "Epoch 2/100\n",
            "1/1 [==============================] - 0s 178ms/step - loss: 0.1123 - val_loss: 0.1096\n",
            "Epoch 3/100\n",
            "1/1 [==============================] - 0s 132ms/step - loss: 0.1114 - val_loss: 0.1089\n",
            "Epoch 4/100\n",
            "1/1 [==============================] - 0s 127ms/step - loss: 0.1105 - val_loss: 0.1081\n",
            "Epoch 5/100\n",
            "1/1 [==============================] - 0s 128ms/step - loss: 0.1096 - val_loss: 0.1073\n",
            "Epoch 6/100\n",
            "1/1 [==============================] - 0s 129ms/step - loss: 0.1087 - val_loss: 0.1065\n",
            "Epoch 7/100\n",
            "1/1 [==============================] - 0s 166ms/step - loss: 0.1078 - val_loss: 0.1056\n",
            "Epoch 8/100\n",
            "1/1 [==============================] - 0s 129ms/step - loss: 0.1068 - val_loss: 0.1046\n",
            "Epoch 9/100\n",
            "1/1 [==============================] - 0s 130ms/step - loss: 0.1056 - val_loss: 0.1035\n",
            "Epoch 10/100\n",
            "1/1 [==============================] - 0s 141ms/step - loss: 0.1044 - val_loss: 0.1023\n",
            "Epoch 11/100\n",
            "1/1 [==============================] - 0s 128ms/step - loss: 0.1030 - val_loss: 0.1009\n",
            "Epoch 12/100\n",
            "1/1 [==============================] - 0s 136ms/step - loss: 0.1015 - val_loss: 0.0994\n",
            "Epoch 13/100\n",
            "1/1 [==============================] - 0s 129ms/step - loss: 0.0998 - val_loss: 0.0977\n",
            "Epoch 14/100\n",
            "1/1 [==============================] - 0s 127ms/step - loss: 0.0979 - val_loss: 0.0958\n",
            "Epoch 15/100\n",
            "1/1 [==============================] - 0s 126ms/step - loss: 0.0957 - val_loss: 0.0937\n",
            "Epoch 16/100\n",
            "1/1 [==============================] - 0s 127ms/step - loss: 0.0934 - val_loss: 0.0914\n",
            "Epoch 17/100\n",
            "1/1 [==============================] - 0s 131ms/step - loss: 0.0908 - val_loss: 0.0888\n",
            "Epoch 18/100\n",
            "1/1 [==============================] - 0s 129ms/step - loss: 0.0880 - val_loss: 0.0860\n",
            "Epoch 19/100\n",
            "1/1 [==============================] - 0s 128ms/step - loss: 0.0849 - val_loss: 0.0830\n",
            "Epoch 20/100\n",
            "1/1 [==============================] - 0s 136ms/step - loss: 0.0816 - val_loss: 0.0798\n",
            "Epoch 21/100\n",
            "1/1 [==============================] - 0s 133ms/step - loss: 0.0781 - val_loss: 0.0763\n",
            "Epoch 22/100\n",
            "1/1 [==============================] - 0s 129ms/step - loss: 0.0744 - val_loss: 0.0727\n",
            "Epoch 23/100\n",
            "1/1 [==============================] - 0s 128ms/step - loss: 0.0705 - val_loss: 0.0688\n",
            "Epoch 24/100\n",
            "1/1 [==============================] - 0s 132ms/step - loss: 0.0664 - val_loss: 0.0648\n",
            "Epoch 25/100\n",
            "1/1 [==============================] - 0s 133ms/step - loss: 0.0622 - val_loss: 0.0605\n",
            "Epoch 26/100\n",
            "1/1 [==============================] - 0s 133ms/step - loss: 0.0579 - val_loss: 0.0562\n",
            "Epoch 27/100\n",
            "1/1 [==============================] - 0s 127ms/step - loss: 0.0536 - val_loss: 0.0517\n",
            "Epoch 28/100\n",
            "1/1 [==============================] - 0s 130ms/step - loss: 0.0492 - val_loss: 0.0472\n",
            "Epoch 29/100\n",
            "1/1 [==============================] - 0s 126ms/step - loss: 0.0448 - val_loss: 0.0426\n",
            "Epoch 30/100\n",
            "1/1 [==============================] - 0s 133ms/step - loss: 0.0405 - val_loss: 0.0381\n",
            "Epoch 31/100\n",
            "1/1 [==============================] - 0s 130ms/step - loss: 0.0362 - val_loss: 0.0338\n",
            "Epoch 32/100\n",
            "1/1 [==============================] - 0s 128ms/step - loss: 0.0322 - val_loss: 0.0297\n",
            "Epoch 33/100\n",
            "1/1 [==============================] - 0s 132ms/step - loss: 0.0283 - val_loss: 0.0260\n",
            "Epoch 34/100\n",
            "1/1 [==============================] - 0s 130ms/step - loss: 0.0247 - val_loss: 0.0225\n",
            "Epoch 35/100\n",
            "1/1 [==============================] - 0s 127ms/step - loss: 0.0215 - val_loss: 0.0194\n",
            "Epoch 36/100\n",
            "1/1 [==============================] - 0s 127ms/step - loss: 0.0185 - val_loss: 0.0166\n",
            "Epoch 37/100\n",
            "1/1 [==============================] - 0s 129ms/step - loss: 0.0158 - val_loss: 0.0141\n",
            "Epoch 38/100\n",
            "1/1 [==============================] - 0s 130ms/step - loss: 0.0134 - val_loss: 0.0118\n",
            "Epoch 39/100\n",
            "1/1 [==============================] - 0s 129ms/step - loss: 0.0113 - val_loss: 0.0099\n",
            "Epoch 40/100\n",
            "1/1 [==============================] - 0s 131ms/step - loss: 0.0095 - val_loss: 0.0082\n",
            "Epoch 41/100\n",
            "1/1 [==============================] - 0s 136ms/step - loss: 0.0080 - val_loss: 0.0068\n",
            "Epoch 42/100\n",
            "1/1 [==============================] - 0s 128ms/step - loss: 0.0067 - val_loss: 0.0057\n",
            "Epoch 43/100\n",
            "1/1 [==============================] - 0s 129ms/step - loss: 0.0058 - val_loss: 0.0049\n",
            "Epoch 44/100\n",
            "1/1 [==============================] - 0s 127ms/step - loss: 0.0050 - val_loss: 0.0043\n",
            "Epoch 45/100\n",
            "1/1 [==============================] - 0s 128ms/step - loss: 0.0045 - val_loss: 0.0039\n",
            "Epoch 46/100\n",
            "1/1 [==============================] - 0s 129ms/step - loss: 0.0040 - val_loss: 0.0037\n",
            "Epoch 47/100\n",
            "1/1 [==============================] - 0s 126ms/step - loss: 0.0038 - val_loss: 0.0036\n",
            "Epoch 48/100\n",
            "1/1 [==============================] - 0s 170ms/step - loss: 0.0036 - val_loss: 0.0036\n",
            "Epoch 49/100\n",
            "1/1 [==============================] - 0s 128ms/step - loss: 0.0035 - val_loss: 0.0036\n",
            "Epoch 50/100\n",
            "1/1 [==============================] - 0s 127ms/step - loss: 0.0036 - val_loss: 0.0036\n",
            "Epoch 51/100\n",
            "1/1 [==============================] - 0s 133ms/step - loss: 0.0036 - val_loss: 0.0037\n",
            "Epoch 52/100\n",
            "1/1 [==============================] - 0s 127ms/step - loss: 0.0036 - val_loss: 0.0037\n",
            "Epoch 53/100\n",
            "1/1 [==============================] - 0s 133ms/step - loss: 0.0036 - val_loss: 0.0036\n",
            "Epoch 54/100\n",
            "1/1 [==============================] - 0s 130ms/step - loss: 0.0036 - val_loss: 0.0035\n",
            "Epoch 55/100\n",
            "1/1 [==============================] - 0s 132ms/step - loss: 0.0035 - val_loss: 0.0034\n",
            "Epoch 56/100\n",
            "1/1 [==============================] - 0s 167ms/step - loss: 0.0034 - val_loss: 0.0032\n",
            "Epoch 57/100\n",
            "1/1 [==============================] - 0s 128ms/step - loss: 0.0032 - val_loss: 0.0030\n",
            "Epoch 58/100\n",
            "1/1 [==============================] - 0s 129ms/step - loss: 0.0030 - val_loss: 0.0029\n",
            "Epoch 59/100\n",
            "1/1 [==============================] - 0s 133ms/step - loss: 0.0028 - val_loss: 0.0027\n",
            "Epoch 60/100\n",
            "1/1 [==============================] - 0s 129ms/step - loss: 0.0026 - val_loss: 0.0025\n",
            "Epoch 61/100\n",
            "1/1 [==============================] - 0s 129ms/step - loss: 0.0025 - val_loss: 0.0023\n",
            "Epoch 62/100\n",
            "1/1 [==============================] - 0s 127ms/step - loss: 0.0023 - val_loss: 0.0022\n",
            "Epoch 63/100\n",
            "1/1 [==============================] - 0s 131ms/step - loss: 0.0022 - val_loss: 0.0021\n",
            "Epoch 64/100\n",
            "1/1 [==============================] - 0s 174ms/step - loss: 0.0021 - val_loss: 0.0020\n",
            "Epoch 65/100\n",
            "1/1 [==============================] - 0s 130ms/step - loss: 0.0020 - val_loss: 0.0020\n",
            "Epoch 66/100\n",
            "1/1 [==============================] - 0s 127ms/step - loss: 0.0020 - val_loss: 0.0020\n",
            "Epoch 67/100\n"
          ]
        },
        {
          "output_type": "error",
          "ename": "KeyboardInterrupt",
          "evalue": "ignored",
          "traceback": [
            "\u001b[0;31m---------------------------------------------------------------------------\u001b[0m",
            "\u001b[0;31mKeyboardInterrupt\u001b[0m                         Traceback (most recent call last)",
            "\u001b[0;32m<ipython-input-346-0a9b0a5536c8>\u001b[0m in \u001b[0;36m<module>\u001b[0;34m\u001b[0m\n\u001b[1;32m      1\u001b[0m \u001b[0mmodel\u001b[0m\u001b[0;34m.\u001b[0m\u001b[0mcompile\u001b[0m\u001b[0;34m(\u001b[0m\u001b[0moptimizer\u001b[0m\u001b[0;34m=\u001b[0m\u001b[0;34m'adam'\u001b[0m\u001b[0;34m,\u001b[0m\u001b[0mloss\u001b[0m\u001b[0;34m=\u001b[0m\u001b[0;34m'mean_squared_error'\u001b[0m\u001b[0;34m)\u001b[0m\u001b[0;34m\u001b[0m\u001b[0;34m\u001b[0m\u001b[0m\n\u001b[0;32m----> 2\u001b[0;31m \u001b[0mmodel\u001b[0m\u001b[0;34m.\u001b[0m\u001b[0mfit\u001b[0m\u001b[0;34m(\u001b[0m\u001b[0mx_train_noisy\u001b[0m\u001b[0;34m,\u001b[0m\u001b[0mx_train_noisy\u001b[0m\u001b[0;34m,\u001b[0m\u001b[0mepochs\u001b[0m\u001b[0;34m=\u001b[0m\u001b[0;36m100\u001b[0m\u001b[0;34m,\u001b[0m\u001b[0mbatch_size\u001b[0m\u001b[0;34m=\u001b[0m\u001b[0;36m300\u001b[0m\u001b[0;34m,\u001b[0m\u001b[0mvalidation_data\u001b[0m\u001b[0;34m=\u001b[0m\u001b[0;34m(\u001b[0m\u001b[0mx_test_noisy\u001b[0m\u001b[0;34m,\u001b[0m\u001b[0mx_test_noisy\u001b[0m\u001b[0;34m)\u001b[0m\u001b[0;34m)\u001b[0m\u001b[0;34m\u001b[0m\u001b[0;34m\u001b[0m\u001b[0m\n\u001b[0m",
            "\u001b[0;32m/usr/local/lib/python3.7/dist-packages/keras/utils/traceback_utils.py\u001b[0m in \u001b[0;36merror_handler\u001b[0;34m(*args, **kwargs)\u001b[0m\n\u001b[1;32m     62\u001b[0m     \u001b[0mfiltered_tb\u001b[0m \u001b[0;34m=\u001b[0m \u001b[0;32mNone\u001b[0m\u001b[0;34m\u001b[0m\u001b[0;34m\u001b[0m\u001b[0m\n\u001b[1;32m     63\u001b[0m     \u001b[0;32mtry\u001b[0m\u001b[0;34m:\u001b[0m\u001b[0;34m\u001b[0m\u001b[0;34m\u001b[0m\u001b[0m\n\u001b[0;32m---> 64\u001b[0;31m       \u001b[0;32mreturn\u001b[0m \u001b[0mfn\u001b[0m\u001b[0;34m(\u001b[0m\u001b[0;34m*\u001b[0m\u001b[0margs\u001b[0m\u001b[0;34m,\u001b[0m \u001b[0;34m**\u001b[0m\u001b[0mkwargs\u001b[0m\u001b[0;34m)\u001b[0m\u001b[0;34m\u001b[0m\u001b[0;34m\u001b[0m\u001b[0m\n\u001b[0m\u001b[1;32m     65\u001b[0m     \u001b[0;32mexcept\u001b[0m \u001b[0mException\u001b[0m \u001b[0;32mas\u001b[0m \u001b[0me\u001b[0m\u001b[0;34m:\u001b[0m  \u001b[0;31m# pylint: disable=broad-except\u001b[0m\u001b[0;34m\u001b[0m\u001b[0;34m\u001b[0m\u001b[0m\n\u001b[1;32m     66\u001b[0m       \u001b[0mfiltered_tb\u001b[0m \u001b[0;34m=\u001b[0m \u001b[0m_process_traceback_frames\u001b[0m\u001b[0;34m(\u001b[0m\u001b[0me\u001b[0m\u001b[0;34m.\u001b[0m\u001b[0m__traceback__\u001b[0m\u001b[0;34m)\u001b[0m\u001b[0;34m\u001b[0m\u001b[0;34m\u001b[0m\u001b[0m\n",
            "\u001b[0;32m/usr/local/lib/python3.7/dist-packages/keras/engine/training.py\u001b[0m in \u001b[0;36mfit\u001b[0;34m(self, x, y, batch_size, epochs, verbose, callbacks, validation_split, validation_data, shuffle, class_weight, sample_weight, initial_epoch, steps_per_epoch, validation_steps, validation_batch_size, validation_freq, max_queue_size, workers, use_multiprocessing)\u001b[0m\n\u001b[1;32m   1387\u001b[0m               \u001b[0mlogs\u001b[0m \u001b[0;34m=\u001b[0m \u001b[0mtmp_logs\u001b[0m  \u001b[0;31m# No error, now safe to assign to logs.\u001b[0m\u001b[0;34m\u001b[0m\u001b[0;34m\u001b[0m\u001b[0m\n\u001b[1;32m   1388\u001b[0m               \u001b[0mend_step\u001b[0m \u001b[0;34m=\u001b[0m \u001b[0mstep\u001b[0m \u001b[0;34m+\u001b[0m \u001b[0mdata_handler\u001b[0m\u001b[0;34m.\u001b[0m\u001b[0mstep_increment\u001b[0m\u001b[0;34m\u001b[0m\u001b[0;34m\u001b[0m\u001b[0m\n\u001b[0;32m-> 1389\u001b[0;31m               \u001b[0mcallbacks\u001b[0m\u001b[0;34m.\u001b[0m\u001b[0mon_train_batch_end\u001b[0m\u001b[0;34m(\u001b[0m\u001b[0mend_step\u001b[0m\u001b[0;34m,\u001b[0m \u001b[0mlogs\u001b[0m\u001b[0;34m)\u001b[0m\u001b[0;34m\u001b[0m\u001b[0;34m\u001b[0m\u001b[0m\n\u001b[0m\u001b[1;32m   1390\u001b[0m               \u001b[0;32mif\u001b[0m \u001b[0mself\u001b[0m\u001b[0;34m.\u001b[0m\u001b[0mstop_training\u001b[0m\u001b[0;34m:\u001b[0m\u001b[0;34m\u001b[0m\u001b[0;34m\u001b[0m\u001b[0m\n\u001b[1;32m   1391\u001b[0m                 \u001b[0;32mbreak\u001b[0m\u001b[0;34m\u001b[0m\u001b[0;34m\u001b[0m\u001b[0m\n",
            "\u001b[0;32m/usr/local/lib/python3.7/dist-packages/keras/callbacks.py\u001b[0m in \u001b[0;36mon_train_batch_end\u001b[0;34m(self, batch, logs)\u001b[0m\n\u001b[1;32m    436\u001b[0m     \"\"\"\n\u001b[1;32m    437\u001b[0m     \u001b[0;32mif\u001b[0m \u001b[0mself\u001b[0m\u001b[0;34m.\u001b[0m\u001b[0m_should_call_train_batch_hooks\u001b[0m\u001b[0;34m:\u001b[0m\u001b[0;34m\u001b[0m\u001b[0;34m\u001b[0m\u001b[0m\n\u001b[0;32m--> 438\u001b[0;31m       \u001b[0mself\u001b[0m\u001b[0;34m.\u001b[0m\u001b[0m_call_batch_hook\u001b[0m\u001b[0;34m(\u001b[0m\u001b[0mModeKeys\u001b[0m\u001b[0;34m.\u001b[0m\u001b[0mTRAIN\u001b[0m\u001b[0;34m,\u001b[0m \u001b[0;34m'end'\u001b[0m\u001b[0;34m,\u001b[0m \u001b[0mbatch\u001b[0m\u001b[0;34m,\u001b[0m \u001b[0mlogs\u001b[0m\u001b[0;34m=\u001b[0m\u001b[0mlogs\u001b[0m\u001b[0;34m)\u001b[0m\u001b[0;34m\u001b[0m\u001b[0;34m\u001b[0m\u001b[0m\n\u001b[0m\u001b[1;32m    439\u001b[0m \u001b[0;34m\u001b[0m\u001b[0m\n\u001b[1;32m    440\u001b[0m   \u001b[0;32mdef\u001b[0m \u001b[0mon_test_batch_begin\u001b[0m\u001b[0;34m(\u001b[0m\u001b[0mself\u001b[0m\u001b[0;34m,\u001b[0m \u001b[0mbatch\u001b[0m\u001b[0;34m,\u001b[0m \u001b[0mlogs\u001b[0m\u001b[0;34m=\u001b[0m\u001b[0;32mNone\u001b[0m\u001b[0;34m)\u001b[0m\u001b[0;34m:\u001b[0m\u001b[0;34m\u001b[0m\u001b[0;34m\u001b[0m\u001b[0m\n",
            "\u001b[0;32m/usr/local/lib/python3.7/dist-packages/keras/callbacks.py\u001b[0m in \u001b[0;36m_call_batch_hook\u001b[0;34m(self, mode, hook, batch, logs)\u001b[0m\n\u001b[1;32m    295\u001b[0m       \u001b[0mself\u001b[0m\u001b[0;34m.\u001b[0m\u001b[0m_call_batch_begin_hook\u001b[0m\u001b[0;34m(\u001b[0m\u001b[0mmode\u001b[0m\u001b[0;34m,\u001b[0m \u001b[0mbatch\u001b[0m\u001b[0;34m,\u001b[0m \u001b[0mlogs\u001b[0m\u001b[0;34m)\u001b[0m\u001b[0;34m\u001b[0m\u001b[0;34m\u001b[0m\u001b[0m\n\u001b[1;32m    296\u001b[0m     \u001b[0;32melif\u001b[0m \u001b[0mhook\u001b[0m \u001b[0;34m==\u001b[0m \u001b[0;34m'end'\u001b[0m\u001b[0;34m:\u001b[0m\u001b[0;34m\u001b[0m\u001b[0;34m\u001b[0m\u001b[0m\n\u001b[0;32m--> 297\u001b[0;31m       \u001b[0mself\u001b[0m\u001b[0;34m.\u001b[0m\u001b[0m_call_batch_end_hook\u001b[0m\u001b[0;34m(\u001b[0m\u001b[0mmode\u001b[0m\u001b[0;34m,\u001b[0m \u001b[0mbatch\u001b[0m\u001b[0;34m,\u001b[0m \u001b[0mlogs\u001b[0m\u001b[0;34m)\u001b[0m\u001b[0;34m\u001b[0m\u001b[0;34m\u001b[0m\u001b[0m\n\u001b[0m\u001b[1;32m    298\u001b[0m     \u001b[0;32melse\u001b[0m\u001b[0;34m:\u001b[0m\u001b[0;34m\u001b[0m\u001b[0;34m\u001b[0m\u001b[0m\n\u001b[1;32m    299\u001b[0m       raise ValueError(\n",
            "\u001b[0;32m/usr/local/lib/python3.7/dist-packages/keras/callbacks.py\u001b[0m in \u001b[0;36m_call_batch_end_hook\u001b[0;34m(self, mode, batch, logs)\u001b[0m\n\u001b[1;32m    316\u001b[0m       \u001b[0mself\u001b[0m\u001b[0;34m.\u001b[0m\u001b[0m_batch_times\u001b[0m\u001b[0;34m.\u001b[0m\u001b[0mappend\u001b[0m\u001b[0;34m(\u001b[0m\u001b[0mbatch_time\u001b[0m\u001b[0;34m)\u001b[0m\u001b[0;34m\u001b[0m\u001b[0;34m\u001b[0m\u001b[0m\n\u001b[1;32m    317\u001b[0m \u001b[0;34m\u001b[0m\u001b[0m\n\u001b[0;32m--> 318\u001b[0;31m     \u001b[0mself\u001b[0m\u001b[0;34m.\u001b[0m\u001b[0m_call_batch_hook_helper\u001b[0m\u001b[0;34m(\u001b[0m\u001b[0mhook_name\u001b[0m\u001b[0;34m,\u001b[0m \u001b[0mbatch\u001b[0m\u001b[0;34m,\u001b[0m \u001b[0mlogs\u001b[0m\u001b[0;34m)\u001b[0m\u001b[0;34m\u001b[0m\u001b[0;34m\u001b[0m\u001b[0m\n\u001b[0m\u001b[1;32m    319\u001b[0m \u001b[0;34m\u001b[0m\u001b[0m\n\u001b[1;32m    320\u001b[0m     \u001b[0;32mif\u001b[0m \u001b[0mlen\u001b[0m\u001b[0;34m(\u001b[0m\u001b[0mself\u001b[0m\u001b[0;34m.\u001b[0m\u001b[0m_batch_times\u001b[0m\u001b[0;34m)\u001b[0m \u001b[0;34m>=\u001b[0m \u001b[0mself\u001b[0m\u001b[0;34m.\u001b[0m\u001b[0m_num_batches_for_timing_check\u001b[0m\u001b[0;34m:\u001b[0m\u001b[0;34m\u001b[0m\u001b[0;34m\u001b[0m\u001b[0m\n",
            "\u001b[0;32m/usr/local/lib/python3.7/dist-packages/keras/callbacks.py\u001b[0m in \u001b[0;36m_call_batch_hook_helper\u001b[0;34m(self, hook_name, batch, logs)\u001b[0m\n\u001b[1;32m    354\u001b[0m     \u001b[0;32mfor\u001b[0m \u001b[0mcallback\u001b[0m \u001b[0;32min\u001b[0m \u001b[0mself\u001b[0m\u001b[0;34m.\u001b[0m\u001b[0mcallbacks\u001b[0m\u001b[0;34m:\u001b[0m\u001b[0;34m\u001b[0m\u001b[0;34m\u001b[0m\u001b[0m\n\u001b[1;32m    355\u001b[0m       \u001b[0mhook\u001b[0m \u001b[0;34m=\u001b[0m \u001b[0mgetattr\u001b[0m\u001b[0;34m(\u001b[0m\u001b[0mcallback\u001b[0m\u001b[0;34m,\u001b[0m \u001b[0mhook_name\u001b[0m\u001b[0;34m)\u001b[0m\u001b[0;34m\u001b[0m\u001b[0;34m\u001b[0m\u001b[0m\n\u001b[0;32m--> 356\u001b[0;31m       \u001b[0mhook\u001b[0m\u001b[0;34m(\u001b[0m\u001b[0mbatch\u001b[0m\u001b[0;34m,\u001b[0m \u001b[0mlogs\u001b[0m\u001b[0;34m)\u001b[0m\u001b[0;34m\u001b[0m\u001b[0;34m\u001b[0m\u001b[0m\n\u001b[0m\u001b[1;32m    357\u001b[0m \u001b[0;34m\u001b[0m\u001b[0m\n\u001b[1;32m    358\u001b[0m     \u001b[0;32mif\u001b[0m \u001b[0mself\u001b[0m\u001b[0;34m.\u001b[0m\u001b[0m_check_timing\u001b[0m\u001b[0;34m:\u001b[0m\u001b[0;34m\u001b[0m\u001b[0;34m\u001b[0m\u001b[0m\n",
            "\u001b[0;32m/usr/local/lib/python3.7/dist-packages/keras/callbacks.py\u001b[0m in \u001b[0;36mon_train_batch_end\u001b[0;34m(self, batch, logs)\u001b[0m\n\u001b[1;32m   1032\u001b[0m \u001b[0;34m\u001b[0m\u001b[0m\n\u001b[1;32m   1033\u001b[0m   \u001b[0;32mdef\u001b[0m \u001b[0mon_train_batch_end\u001b[0m\u001b[0;34m(\u001b[0m\u001b[0mself\u001b[0m\u001b[0;34m,\u001b[0m \u001b[0mbatch\u001b[0m\u001b[0;34m,\u001b[0m \u001b[0mlogs\u001b[0m\u001b[0;34m=\u001b[0m\u001b[0;32mNone\u001b[0m\u001b[0;34m)\u001b[0m\u001b[0;34m:\u001b[0m\u001b[0;34m\u001b[0m\u001b[0;34m\u001b[0m\u001b[0m\n\u001b[0;32m-> 1034\u001b[0;31m     \u001b[0mself\u001b[0m\u001b[0;34m.\u001b[0m\u001b[0m_batch_update_progbar\u001b[0m\u001b[0;34m(\u001b[0m\u001b[0mbatch\u001b[0m\u001b[0;34m,\u001b[0m \u001b[0mlogs\u001b[0m\u001b[0;34m)\u001b[0m\u001b[0;34m\u001b[0m\u001b[0;34m\u001b[0m\u001b[0m\n\u001b[0m\u001b[1;32m   1035\u001b[0m \u001b[0;34m\u001b[0m\u001b[0m\n\u001b[1;32m   1036\u001b[0m   \u001b[0;32mdef\u001b[0m \u001b[0mon_test_batch_end\u001b[0m\u001b[0;34m(\u001b[0m\u001b[0mself\u001b[0m\u001b[0;34m,\u001b[0m \u001b[0mbatch\u001b[0m\u001b[0;34m,\u001b[0m \u001b[0mlogs\u001b[0m\u001b[0;34m=\u001b[0m\u001b[0;32mNone\u001b[0m\u001b[0;34m)\u001b[0m\u001b[0;34m:\u001b[0m\u001b[0;34m\u001b[0m\u001b[0;34m\u001b[0m\u001b[0m\n",
            "\u001b[0;32m/usr/local/lib/python3.7/dist-packages/keras/callbacks.py\u001b[0m in \u001b[0;36m_batch_update_progbar\u001b[0;34m(self, batch, logs)\u001b[0m\n\u001b[1;32m   1104\u001b[0m     \u001b[0;32mif\u001b[0m \u001b[0mself\u001b[0m\u001b[0;34m.\u001b[0m\u001b[0mverbose\u001b[0m \u001b[0;34m==\u001b[0m \u001b[0;36m1\u001b[0m\u001b[0;34m:\u001b[0m\u001b[0;34m\u001b[0m\u001b[0;34m\u001b[0m\u001b[0m\n\u001b[1;32m   1105\u001b[0m       \u001b[0;31m# Only block async when verbose = 1.\u001b[0m\u001b[0;34m\u001b[0m\u001b[0;34m\u001b[0m\u001b[0;34m\u001b[0m\u001b[0m\n\u001b[0;32m-> 1106\u001b[0;31m       \u001b[0mlogs\u001b[0m \u001b[0;34m=\u001b[0m \u001b[0mtf_utils\u001b[0m\u001b[0;34m.\u001b[0m\u001b[0msync_to_numpy_or_python_type\u001b[0m\u001b[0;34m(\u001b[0m\u001b[0mlogs\u001b[0m\u001b[0;34m)\u001b[0m\u001b[0;34m\u001b[0m\u001b[0;34m\u001b[0m\u001b[0m\n\u001b[0m\u001b[1;32m   1107\u001b[0m       \u001b[0mself\u001b[0m\u001b[0;34m.\u001b[0m\u001b[0mprogbar\u001b[0m\u001b[0;34m.\u001b[0m\u001b[0mupdate\u001b[0m\u001b[0;34m(\u001b[0m\u001b[0mself\u001b[0m\u001b[0;34m.\u001b[0m\u001b[0mseen\u001b[0m\u001b[0;34m,\u001b[0m \u001b[0mlist\u001b[0m\u001b[0;34m(\u001b[0m\u001b[0mlogs\u001b[0m\u001b[0;34m.\u001b[0m\u001b[0mitems\u001b[0m\u001b[0;34m(\u001b[0m\u001b[0;34m)\u001b[0m\u001b[0;34m)\u001b[0m\u001b[0;34m,\u001b[0m \u001b[0mfinalize\u001b[0m\u001b[0;34m=\u001b[0m\u001b[0;32mFalse\u001b[0m\u001b[0;34m)\u001b[0m\u001b[0;34m\u001b[0m\u001b[0;34m\u001b[0m\u001b[0m\n\u001b[1;32m   1108\u001b[0m \u001b[0;34m\u001b[0m\u001b[0m\n",
            "\u001b[0;32m/usr/local/lib/python3.7/dist-packages/keras/utils/tf_utils.py\u001b[0m in \u001b[0;36msync_to_numpy_or_python_type\u001b[0;34m(tensors)\u001b[0m\n\u001b[1;32m    561\u001b[0m     \u001b[0;32mreturn\u001b[0m \u001b[0mt\u001b[0m\u001b[0;34m.\u001b[0m\u001b[0mitem\u001b[0m\u001b[0;34m(\u001b[0m\u001b[0;34m)\u001b[0m \u001b[0;32mif\u001b[0m \u001b[0mnp\u001b[0m\u001b[0;34m.\u001b[0m\u001b[0mndim\u001b[0m\u001b[0;34m(\u001b[0m\u001b[0mt\u001b[0m\u001b[0;34m)\u001b[0m \u001b[0;34m==\u001b[0m \u001b[0;36m0\u001b[0m \u001b[0;32melse\u001b[0m \u001b[0mt\u001b[0m\u001b[0;34m\u001b[0m\u001b[0;34m\u001b[0m\u001b[0m\n\u001b[1;32m    562\u001b[0m \u001b[0;34m\u001b[0m\u001b[0m\n\u001b[0;32m--> 563\u001b[0;31m   \u001b[0;32mreturn\u001b[0m \u001b[0mtf\u001b[0m\u001b[0;34m.\u001b[0m\u001b[0mnest\u001b[0m\u001b[0;34m.\u001b[0m\u001b[0mmap_structure\u001b[0m\u001b[0;34m(\u001b[0m\u001b[0m_to_single_numpy_or_python_type\u001b[0m\u001b[0;34m,\u001b[0m \u001b[0mtensors\u001b[0m\u001b[0;34m)\u001b[0m\u001b[0;34m\u001b[0m\u001b[0;34m\u001b[0m\u001b[0m\n\u001b[0m\u001b[1;32m    564\u001b[0m \u001b[0;34m\u001b[0m\u001b[0m\n\u001b[1;32m    565\u001b[0m \u001b[0;34m\u001b[0m\u001b[0m\n",
            "\u001b[0;32m/usr/local/lib/python3.7/dist-packages/tensorflow/python/util/nest.py\u001b[0m in \u001b[0;36mmap_structure\u001b[0;34m(func, *structure, **kwargs)\u001b[0m\n\u001b[1;32m    912\u001b[0m \u001b[0;34m\u001b[0m\u001b[0m\n\u001b[1;32m    913\u001b[0m   return pack_sequence_as(\n\u001b[0;32m--> 914\u001b[0;31m       \u001b[0mstructure\u001b[0m\u001b[0;34m[\u001b[0m\u001b[0;36m0\u001b[0m\u001b[0;34m]\u001b[0m\u001b[0;34m,\u001b[0m \u001b[0;34m[\u001b[0m\u001b[0mfunc\u001b[0m\u001b[0;34m(\u001b[0m\u001b[0;34m*\u001b[0m\u001b[0mx\u001b[0m\u001b[0;34m)\u001b[0m \u001b[0;32mfor\u001b[0m \u001b[0mx\u001b[0m \u001b[0;32min\u001b[0m \u001b[0mentries\u001b[0m\u001b[0;34m]\u001b[0m\u001b[0;34m,\u001b[0m\u001b[0;34m\u001b[0m\u001b[0;34m\u001b[0m\u001b[0m\n\u001b[0m\u001b[1;32m    915\u001b[0m       expand_composites=expand_composites)\n\u001b[1;32m    916\u001b[0m \u001b[0;34m\u001b[0m\u001b[0m\n",
            "\u001b[0;32m/usr/local/lib/python3.7/dist-packages/tensorflow/python/util/nest.py\u001b[0m in \u001b[0;36m<listcomp>\u001b[0;34m(.0)\u001b[0m\n\u001b[1;32m    912\u001b[0m \u001b[0;34m\u001b[0m\u001b[0m\n\u001b[1;32m    913\u001b[0m   return pack_sequence_as(\n\u001b[0;32m--> 914\u001b[0;31m       \u001b[0mstructure\u001b[0m\u001b[0;34m[\u001b[0m\u001b[0;36m0\u001b[0m\u001b[0;34m]\u001b[0m\u001b[0;34m,\u001b[0m \u001b[0;34m[\u001b[0m\u001b[0mfunc\u001b[0m\u001b[0;34m(\u001b[0m\u001b[0;34m*\u001b[0m\u001b[0mx\u001b[0m\u001b[0;34m)\u001b[0m \u001b[0;32mfor\u001b[0m \u001b[0mx\u001b[0m \u001b[0;32min\u001b[0m \u001b[0mentries\u001b[0m\u001b[0;34m]\u001b[0m\u001b[0;34m,\u001b[0m\u001b[0;34m\u001b[0m\u001b[0;34m\u001b[0m\u001b[0m\n\u001b[0m\u001b[1;32m    915\u001b[0m       expand_composites=expand_composites)\n\u001b[1;32m    916\u001b[0m \u001b[0;34m\u001b[0m\u001b[0m\n",
            "\u001b[0;32m/usr/local/lib/python3.7/dist-packages/keras/utils/tf_utils.py\u001b[0m in \u001b[0;36m_to_single_numpy_or_python_type\u001b[0;34m(t)\u001b[0m\n\u001b[1;32m    555\u001b[0m     \u001b[0;31m# Don't turn ragged or sparse tensors to NumPy.\u001b[0m\u001b[0;34m\u001b[0m\u001b[0;34m\u001b[0m\u001b[0;34m\u001b[0m\u001b[0m\n\u001b[1;32m    556\u001b[0m     \u001b[0;32mif\u001b[0m \u001b[0misinstance\u001b[0m\u001b[0;34m(\u001b[0m\u001b[0mt\u001b[0m\u001b[0;34m,\u001b[0m \u001b[0mtf\u001b[0m\u001b[0;34m.\u001b[0m\u001b[0mTensor\u001b[0m\u001b[0;34m)\u001b[0m\u001b[0;34m:\u001b[0m\u001b[0;34m\u001b[0m\u001b[0;34m\u001b[0m\u001b[0m\n\u001b[0;32m--> 557\u001b[0;31m       \u001b[0mt\u001b[0m \u001b[0;34m=\u001b[0m \u001b[0mt\u001b[0m\u001b[0;34m.\u001b[0m\u001b[0mnumpy\u001b[0m\u001b[0;34m(\u001b[0m\u001b[0;34m)\u001b[0m\u001b[0;34m\u001b[0m\u001b[0;34m\u001b[0m\u001b[0m\n\u001b[0m\u001b[1;32m    558\u001b[0m     \u001b[0;31m# Strings, ragged and sparse tensors don't have .item(). Return them as-is.\u001b[0m\u001b[0;34m\u001b[0m\u001b[0;34m\u001b[0m\u001b[0;34m\u001b[0m\u001b[0m\n\u001b[1;32m    559\u001b[0m     \u001b[0;32mif\u001b[0m \u001b[0;32mnot\u001b[0m \u001b[0misinstance\u001b[0m\u001b[0;34m(\u001b[0m\u001b[0mt\u001b[0m\u001b[0;34m,\u001b[0m \u001b[0;34m(\u001b[0m\u001b[0mnp\u001b[0m\u001b[0;34m.\u001b[0m\u001b[0mndarray\u001b[0m\u001b[0;34m,\u001b[0m \u001b[0mnp\u001b[0m\u001b[0;34m.\u001b[0m\u001b[0mgeneric\u001b[0m\u001b[0;34m)\u001b[0m\u001b[0;34m)\u001b[0m\u001b[0;34m:\u001b[0m\u001b[0;34m\u001b[0m\u001b[0;34m\u001b[0m\u001b[0m\n",
            "\u001b[0;32m/usr/local/lib/python3.7/dist-packages/tensorflow/python/framework/ops.py\u001b[0m in \u001b[0;36mnumpy\u001b[0;34m(self)\u001b[0m\n\u001b[1;32m   1221\u001b[0m     \"\"\"\n\u001b[1;32m   1222\u001b[0m     \u001b[0;31m# TODO(slebedev): Consider avoiding a copy for non-CPU or remote tensors.\u001b[0m\u001b[0;34m\u001b[0m\u001b[0;34m\u001b[0m\u001b[0;34m\u001b[0m\u001b[0m\n\u001b[0;32m-> 1223\u001b[0;31m     \u001b[0mmaybe_arr\u001b[0m \u001b[0;34m=\u001b[0m \u001b[0mself\u001b[0m\u001b[0;34m.\u001b[0m\u001b[0m_numpy\u001b[0m\u001b[0;34m(\u001b[0m\u001b[0;34m)\u001b[0m  \u001b[0;31m# pylint: disable=protected-access\u001b[0m\u001b[0;34m\u001b[0m\u001b[0;34m\u001b[0m\u001b[0m\n\u001b[0m\u001b[1;32m   1224\u001b[0m     \u001b[0;32mreturn\u001b[0m \u001b[0mmaybe_arr\u001b[0m\u001b[0;34m.\u001b[0m\u001b[0mcopy\u001b[0m\u001b[0;34m(\u001b[0m\u001b[0;34m)\u001b[0m \u001b[0;32mif\u001b[0m \u001b[0misinstance\u001b[0m\u001b[0;34m(\u001b[0m\u001b[0mmaybe_arr\u001b[0m\u001b[0;34m,\u001b[0m \u001b[0mnp\u001b[0m\u001b[0;34m.\u001b[0m\u001b[0mndarray\u001b[0m\u001b[0;34m)\u001b[0m \u001b[0;32melse\u001b[0m \u001b[0mmaybe_arr\u001b[0m\u001b[0;34m\u001b[0m\u001b[0;34m\u001b[0m\u001b[0m\n\u001b[1;32m   1225\u001b[0m \u001b[0;34m\u001b[0m\u001b[0m\n",
            "\u001b[0;32m/usr/local/lib/python3.7/dist-packages/tensorflow/python/framework/ops.py\u001b[0m in \u001b[0;36m_numpy\u001b[0;34m(self)\u001b[0m\n\u001b[1;32m   1187\u001b[0m   \u001b[0;32mdef\u001b[0m \u001b[0m_numpy\u001b[0m\u001b[0;34m(\u001b[0m\u001b[0mself\u001b[0m\u001b[0;34m)\u001b[0m\u001b[0;34m:\u001b[0m\u001b[0;34m\u001b[0m\u001b[0;34m\u001b[0m\u001b[0m\n\u001b[1;32m   1188\u001b[0m     \u001b[0;32mtry\u001b[0m\u001b[0;34m:\u001b[0m\u001b[0;34m\u001b[0m\u001b[0;34m\u001b[0m\u001b[0m\n\u001b[0;32m-> 1189\u001b[0;31m       \u001b[0;32mreturn\u001b[0m \u001b[0mself\u001b[0m\u001b[0;34m.\u001b[0m\u001b[0m_numpy_internal\u001b[0m\u001b[0;34m(\u001b[0m\u001b[0;34m)\u001b[0m\u001b[0;34m\u001b[0m\u001b[0;34m\u001b[0m\u001b[0m\n\u001b[0m\u001b[1;32m   1190\u001b[0m     \u001b[0;32mexcept\u001b[0m \u001b[0mcore\u001b[0m\u001b[0;34m.\u001b[0m\u001b[0m_NotOkStatusException\u001b[0m \u001b[0;32mas\u001b[0m \u001b[0me\u001b[0m\u001b[0;34m:\u001b[0m  \u001b[0;31m# pylint: disable=protected-access\u001b[0m\u001b[0;34m\u001b[0m\u001b[0;34m\u001b[0m\u001b[0m\n\u001b[1;32m   1191\u001b[0m       \u001b[0;32mraise\u001b[0m \u001b[0mcore\u001b[0m\u001b[0;34m.\u001b[0m\u001b[0m_status_to_exception\u001b[0m\u001b[0;34m(\u001b[0m\u001b[0me\u001b[0m\u001b[0;34m)\u001b[0m \u001b[0;32mfrom\u001b[0m \u001b[0;32mNone\u001b[0m  \u001b[0;31m# pylint: disable=protected-access\u001b[0m\u001b[0;34m\u001b[0m\u001b[0;34m\u001b[0m\u001b[0m\n",
            "\u001b[0;31mKeyboardInterrupt\u001b[0m: "
          ]
        }
      ]
    },
    {
      "cell_type": "code",
      "source": [
        "output=model.predict(x_test_noisy)"
      ],
      "metadata": {
        "id": "vmSb6Uzzxl6X"
      },
      "execution_count": null,
      "outputs": []
    },
    {
      "cell_type": "code",
      "source": [
        "plt.imshow(x_test_noisy[1].reshape(128,128,3))\n",
        "plt.show()"
      ],
      "metadata": {
        "id": "QWRPC7rXxxM6"
      },
      "execution_count": null,
      "outputs": []
    },
    {
      "cell_type": "code",
      "source": [
        "plt.imshow(output[1].reshape(128,128,3))\n",
        "plt.show()"
      ],
      "metadata": {
        "id": "XMJyFJYOx3y-"
      },
      "execution_count": null,
      "outputs": []
    },
    {
      "cell_type": "markdown",
      "source": [
        "Denoising-(Convolutional Auto encoder):"
      ],
      "metadata": {
        "id": "SC8ALAb30ghT"
      }
    },
    {
      "cell_type": "code",
      "source": [
        "x_train_noisy.shape"
      ],
      "metadata": {
        "id": "QT3xNa-l0MSz"
      },
      "execution_count": null,
      "outputs": []
    },
    {
      "cell_type": "code",
      "source": [
        "x_train_noisy=x_train_noisy.reshape(len(x_train_noisy),128,128,3)"
      ],
      "metadata": {
        "id": "DRBhI_4X0sSY"
      },
      "execution_count": null,
      "outputs": []
    },
    {
      "cell_type": "code",
      "source": [
        "x_train_noisy.shape\n"
      ],
      "metadata": {
        "id": "cfuxhn8W0wrg"
      },
      "execution_count": null,
      "outputs": []
    },
    {
      "cell_type": "code",
      "source": [
        "x_test_noisy.shape"
      ],
      "metadata": {
        "id": "txHbjf9K-vsu"
      },
      "execution_count": null,
      "outputs": []
    },
    {
      "cell_type": "code",
      "source": [
        "x_test_noisy=x_test_noisy.reshape(len(x_test_noisy),128,128,3)"
      ],
      "metadata": {
        "id": "FL0czlbP-zij"
      },
      "execution_count": null,
      "outputs": []
    },
    {
      "cell_type": "code",
      "source": [
        "x_test_noisy.shape"
      ],
      "metadata": {
        "id": "AfyuKM6v-581"
      },
      "execution_count": null,
      "outputs": []
    },
    {
      "cell_type": "code",
      "source": [
        "input=Input(shape=(128,128,3))\n",
        "#Encoder\n",
        "x=Conv2D(64,(3,3),activation='relu',padding='same')(input)\n",
        "x=MaxPooling2D((2,2),padding='same')(x)\n",
        "x=Conv2D(32,(3,3),activation='relu',padding='same')(x)\n",
        "x=MaxPooling2D((2,2),padding='same')(x)\n",
        "#Decoder\n",
        "x=Conv2DTranspose(32,(3,3),strides=2,activation='relu',padding='same')(x)\n",
        "\n",
        "x=Conv2DTranspose(64,(3,3),strides=2,activation='relu',padding='same')(x)\n",
        "x=Conv2D(3,(3,3),activation='sigmoid',padding='same')(x)\n",
        "autoencoder_denoise=Model(input,x)"
      ],
      "metadata": {
        "id": "vo_fFuig417q"
      },
      "execution_count": null,
      "outputs": []
    },
    {
      "cell_type": "code",
      "source": [
        "autoencoder_denoise.summary()"
      ],
      "metadata": {
        "id": "-bFYFnBO7RzC"
      },
      "execution_count": null,
      "outputs": []
    },
    {
      "cell_type": "code",
      "source": [
        "autoencoder_denoise.compile(optimizer='adam',loss='binary_crossentropy')"
      ],
      "metadata": {
        "id": "ufs0pX5r7mq3"
      },
      "execution_count": null,
      "outputs": []
    },
    {
      "cell_type": "code",
      "source": [
        "autoencoder_denoise.fit(x_train_noisy,x_train_noisy,epochs=200,batch_size=128,shuffle=True,validation_data=(x_test_noisy,x_test_noisy))"
      ],
      "metadata": {
        "id": "G9xIBvAj7vuO"
      },
      "execution_count": null,
      "outputs": []
    },
    {
      "cell_type": "code",
      "source": [
        "output=autoencoder_denoise.predict(x_test_noisy)"
      ],
      "metadata": {
        "id": "2ZHDpGrR_Jcm"
      },
      "execution_count": null,
      "outputs": []
    },
    {
      "cell_type": "code",
      "source": [
        "plt.imshow(x_test_noisy[1].reshape(128,128,3))"
      ],
      "metadata": {
        "id": "lmj-Z6QU_PWg"
      },
      "execution_count": null,
      "outputs": []
    },
    {
      "cell_type": "code",
      "source": [
        "plt.imshow(output[1].reshape(128,128,3))"
      ],
      "metadata": {
        "id": "-XbJGp71_YRd"
      },
      "execution_count": null,
      "outputs": []
    },
    {
      "cell_type": "code",
      "source": [
        "plt.imshow(x_test[1].reshape(128,128,3))"
      ],
      "metadata": {
        "id": "P857F5UWUegJ"
      },
      "execution_count": null,
      "outputs": []
    },
    {
      "cell_type": "code",
      "source": [
        "def PSNR(noised,denoised):\n",
        "  mse=np.mean((noised-denoised)**2)\n",
        "  if (mse==0):\n",
        "    return 100\n",
        "  max_pizel=255.0\n",
        "  psnr=20*log10(max_pizel/sqrt(mse))\n",
        "  return psnr"
      ],
      "metadata": {
        "id": "BApMcCvkTtrj"
      },
      "execution_count": null,
      "outputs": []
    },
    {
      "cell_type": "code",
      "source": [
        "loss_dict = {\"adam\":0.0,\"rmsprop\":0.0,\"adadelta\":0.0}"
      ],
      "metadata": {
        "id": "WS5KDwLKTzWC"
      },
      "execution_count": null,
      "outputs": []
    },
    {
      "cell_type": "code",
      "source": [
        "def train_model1(input_layer,output_layer,optimizer,epochs,batch_size):\n",
        "  model=Model(input_layer,output_layer) \n",
        "  model.compile(optimizer=optimizer,loss=\"binary_crossentropy\",metrics=[\"mean_squared_error\"])\n",
        "  print(\"with\",optimizer,\"epochs\",epochs)\n",
        "  model.fit(x_train_noisy,x_train_noisy,epochs=epochs,batch_size=batch_size,validation_data=(x_test_noisy,x_test_noisy),verbose=0)\n",
        "  decoded_images=model.predict(x_test_noisy)\n",
        "  n=10\n",
        "  \n",
        "  plt.figure(figsize=(20,8))\n",
        "  for i in range(1,n+1):\n",
        "    plt.suptitle(\"Noised\",fontsize=20)\n",
        "    ax=plt.subplot(2,n,i)\n",
        "    plt.imshow(x_test_noisy[i].reshape(128,128,3))\n",
        "    plt.gray()\n",
        "    ax.get_xaxis().set_visible(False)\n",
        "    ax.get_yaxis().set_visible(False)\n",
        "  plt.show()\n",
        "  plt.figure(figsize=(20,8))\n",
        "  for i in range(1,n+1):\n",
        "    ax=plt.subplot(2,n,i)\n",
        "    plt.suptitle(\"Denoised\",fontsize=20)\n",
        "    plt.imshow(decoded_images[i].reshape(128,128,3))\n",
        "    plt.gray()\n",
        "    plt.title(f\"PSNR:{round(PSNR(x_test_noisy[i],decoded_images[i]),2)}\")\n",
        "    ax.get_xaxis().set_visible(False)\n",
        "    ax.get_yaxis().set_visible(False)\n",
        "  plt.show()"
      ],
      "metadata": {
        "id": "UTljm43lUFp3"
      },
      "execution_count": null,
      "outputs": []
    },
    {
      "cell_type": "code",
      "source": [
        "def train_model2(input_layer,output_layer,optimizer,epochs,batch_size):\n",
        "  autoencoder_denoise=Model(input_layer,output_layer) \n",
        "  autoencoder_denoise.compile(optimizer=optimizer,loss=\"binary_crossentropy\",metrics=[\"mean_squared_error\"])\n",
        "  print(\"with\",optimizer,\"epochs\",epochs)\n",
        "  autoencoder_denoise.fit(x_train_noisy,x_train_noisy,epochs=epochs,batch_size=batch_size,validation_data=(x_test_noisy,x_test_noisy),verbose=0)\n",
        "  decoded_images=autoencoder_denoise.predict(x_test_noisy)\n",
        "  n=10\n",
        "  \n",
        "  plt.figure(figsize=(20,8))\n",
        "  for i in range(1,n+1):\n",
        "    plt.suptitle(\"Noised\",fontsize=20)\n",
        "    ax=plt.subplot(2,n,i)\n",
        "    plt.imshow(x_test_noisy[i].reshape(128,128,3))\n",
        "    plt.gray()\n",
        "    ax.get_xaxis().set_visible(False)\n",
        "    ax.get_yaxis().set_visible(False)\n",
        "  plt.show()\n",
        "  plt.figure(figsize=(20,8))\n",
        "  for i in range(1,n+1):\n",
        "    plt.suptitle(\"Denoised\",fontsize=20)\n",
        "    ax=plt.subplot(2,n,i)\n",
        "    plt.imshow(decoded_images[i].reshape(128,128,3))\n",
        "    plt.gray()\n",
        "    plt.title(f\"PSNR:{round(PSNR(x_test_noisy[i],decoded_images[i]),2)}\")\n",
        "    ax.get_xaxis().set_visible(False)\n",
        "    ax.get_yaxis().set_visible(False)\n",
        "  plt.show()"
      ],
      "metadata": {
        "id": "EaCADM-LXd_B"
      },
      "execution_count": null,
      "outputs": []
    },
    {
      "cell_type": "code",
      "source": [
        "x_train = train.astype('float32')/255\n",
        "x_test = test.astype('float32')/255"
      ],
      "metadata": {
        "id": "r_sX9GeQYbyN"
      },
      "execution_count": null,
      "outputs": []
    },
    {
      "cell_type": "code",
      "source": [
        "x_train=x_train.reshape(len(x_train),num_pixels,3)"
      ],
      "metadata": {
        "id": "hbo08o3dYbyS"
      },
      "execution_count": null,
      "outputs": []
    },
    {
      "cell_type": "code",
      "source": [
        "x_test=x_test.reshape(len(x_test),num_pixels,3)"
      ],
      "metadata": {
        "id": "7NCFjhXdYbyU"
      },
      "execution_count": null,
      "outputs": []
    },
    {
      "cell_type": "code",
      "source": [
        "noise_factor=0.2\n",
        "x_train_noisy=x_train+noise_factor*np.random.normal(loc=0.0,scale=1.0,size=x_train.shape)\n",
        "x_test_noisy=x_test+noise_factor*np.random.normal(loc=0.0,scale=1.0,size=x_test.shape)\n"
      ],
      "metadata": {
        "id": "1ygpY7NZYbyV"
      },
      "execution_count": null,
      "outputs": []
    },
    {
      "cell_type": "code",
      "source": [
        "x_train_noisy=numpy.clip(x_train_noisy,0.,1.)\n",
        "x_test_noisy=numpy.clip(x_test_noisy,0.,1.)\n"
      ],
      "metadata": {
        "id": "2OmS7k2fYbyV"
      },
      "execution_count": null,
      "outputs": []
    },
    {
      "cell_type": "code",
      "source": [
        "for i in tqdm([\"adam\",\"rmsprop\",\"adadelta\"]):\n",
        "    train_model1(input_img,decoded,i,100,128)"
      ],
      "metadata": {
        "id": "OL1NB76DXyUH"
      },
      "execution_count": null,
      "outputs": []
    },
    {
      "cell_type": "code",
      "source": [
        "x_train_noisy=x_train_noisy.reshape(len(x_train_noisy),128,128,3)"
      ],
      "metadata": {
        "id": "UYCtuT6uZmOm"
      },
      "execution_count": null,
      "outputs": []
    },
    {
      "cell_type": "code",
      "source": [
        "x_test_noisy=x_test_noisy.reshape(len(x_test_noisy),128,128,3)"
      ],
      "metadata": {
        "id": "miEtC0u4ZmOp"
      },
      "execution_count": null,
      "outputs": []
    },
    {
      "cell_type": "code",
      "source": [
        "for i in tqdm([\"adam\",\"rmsprop\",\"adadelta\"]):\n",
        "    train_model2(input,x,i,100,128)"
      ],
      "metadata": {
        "id": "Wk60BWq5ZwKe"
      },
      "execution_count": null,
      "outputs": []
    }
  ]
}